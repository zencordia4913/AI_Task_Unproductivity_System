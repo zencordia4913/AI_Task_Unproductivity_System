{
 "cells": [
  {
   "cell_type": "code",
   "execution_count": 8,
   "metadata": {},
   "outputs": [
    {
     "name": "stdout",
     "output_type": "stream",
     "text": [
      "YOLO11s-seg summary: 355 layers, 10,113,248 parameters, 0 gradients, 35.8 GFLOPs\n",
      "(355, 10113248, 0, 35.7621248)\n"
     ]
    }
   ],
   "source": [
    "from ultralytics import YOLO\n",
    "\n",
    "# Load a pre-trained YOLOv8 model for segmentation\n",
    "model = YOLO('yolo11s-seg.pt')  # You can replace this with other YOLOv8 models (e.g., yolov8s-seg.pt)\n",
    "\n",
    "# Verify model\n",
    "print(model.info())"
   ]
  },
  {
   "cell_type": "code",
   "execution_count": 9,
   "metadata": {},
   "outputs": [
    {
     "name": "stdout",
     "output_type": "stream",
     "text": [
      "True\n"
     ]
    }
   ],
   "source": [
    "import torch\n",
    "print(torch.cuda.is_available())"
   ]
  },
  {
   "cell_type": "code",
   "execution_count": 10,
   "metadata": {},
   "outputs": [
    {
     "name": "stdout",
     "output_type": "stream",
     "text": [
      "Ultralytics 8.3.66 🚀 Python-3.10.12 torch-2.5.1+cu124 CUDA:0 (NVIDIA RTX A6000, 45619MiB)\n"
     ]
    },
    {
     "name": "stdout",
     "output_type": "stream",
     "text": [
      "\u001b[34m\u001b[1mengine/trainer: \u001b[0mtask=segment, mode=train, model=yolo11s-seg.pt, data=data.yml, epochs=125, time=None, patience=100, batch=52, imgsz=640, save=True, save_period=-1, cache=False, device=[0], workers=8, project=None, name=train4, exist_ok=False, pretrained=True, optimizer=auto, verbose=True, seed=0, deterministic=True, single_cls=False, rect=False, cos_lr=False, close_mosaic=10, resume=False, amp=True, fraction=1.0, profile=False, freeze=None, multi_scale=False, overlap_mask=True, mask_ratio=4, dropout=0.0, val=True, split=val, save_json=False, save_hybrid=False, conf=None, iou=0.7, max_det=300, half=False, dnn=False, plots=True, source=None, vid_stride=1, stream_buffer=False, visualize=False, augment=False, agnostic_nms=False, classes=None, retina_masks=False, embed=None, show=False, save_frames=False, save_txt=False, save_conf=False, save_crop=False, show_labels=True, show_conf=True, show_boxes=True, line_width=None, format=torchscript, keras=False, optimize=False, int8=False, dynamic=False, simplify=True, opset=None, workspace=None, nms=False, lr0=0.001, lrf=0.01, momentum=0.937, weight_decay=0.0005, warmup_epochs=3.0, warmup_momentum=0.8, warmup_bias_lr=0.1, box=7.5, cls=0.5, dfl=1.5, pose=12.0, kobj=1.0, nbs=64, hsv_h=0.015, hsv_s=0.7, hsv_v=0.4, degrees=0.0, translate=0.1, scale=0.5, shear=0.0, perspective=0.0, flipud=0.0, fliplr=0.5, bgr=0.0, mosaic=1.0, mixup=0.0, copy_paste=0.0, copy_paste_mode=flip, auto_augment=randaugment, erasing=0.4, crop_fraction=1.0, cfg=None, tracker=botsort.yaml, save_dir=runs/segment/train4\n",
      "Overriding model.yaml nc=80 with nc=1\n",
      "\n",
      "                   from  n    params  module                                       arguments                     \n",
      "  0                  -1  1       928  ultralytics.nn.modules.conv.Conv             [3, 32, 3, 2]                 \n",
      "  1                  -1  1     18560  ultralytics.nn.modules.conv.Conv             [32, 64, 3, 2]                \n",
      "  2                  -1  1     26080  ultralytics.nn.modules.block.C3k2            [64, 128, 1, False, 0.25]     \n",
      "  3                  -1  1    147712  ultralytics.nn.modules.conv.Conv             [128, 128, 3, 2]              \n",
      "  4                  -1  1    103360  ultralytics.nn.modules.block.C3k2            [128, 256, 1, False, 0.25]    \n",
      "  5                  -1  1    590336  ultralytics.nn.modules.conv.Conv             [256, 256, 3, 2]              \n",
      "  6                  -1  1    346112  ultralytics.nn.modules.block.C3k2            [256, 256, 1, True]           \n",
      "  7                  -1  1   1180672  ultralytics.nn.modules.conv.Conv             [256, 512, 3, 2]              \n",
      "  8                  -1  1   1380352  ultralytics.nn.modules.block.C3k2            [512, 512, 1, True]           \n",
      "  9                  -1  1    656896  ultralytics.nn.modules.block.SPPF            [512, 512, 5]                 \n",
      " 10                  -1  1    990976  ultralytics.nn.modules.block.C2PSA           [512, 512, 1]                 \n",
      " 11                  -1  1         0  torch.nn.modules.upsampling.Upsample         [None, 2, 'nearest']          \n",
      " 12             [-1, 6]  1         0  ultralytics.nn.modules.conv.Concat           [1]                           \n",
      " 13                  -1  1    443776  ultralytics.nn.modules.block.C3k2            [768, 256, 1, False]          \n",
      " 14                  -1  1         0  torch.nn.modules.upsampling.Upsample         [None, 2, 'nearest']          \n",
      " 15             [-1, 4]  1         0  ultralytics.nn.modules.conv.Concat           [1]                           \n",
      " 16                  -1  1    127680  ultralytics.nn.modules.block.C3k2            [512, 128, 1, False]          \n",
      " 17                  -1  1    147712  ultralytics.nn.modules.conv.Conv             [128, 128, 3, 2]              \n",
      " 18            [-1, 13]  1         0  ultralytics.nn.modules.conv.Concat           [1]                           \n",
      " 19                  -1  1    345472  ultralytics.nn.modules.block.C3k2            [384, 256, 1, False]          \n",
      " 20                  -1  1    590336  ultralytics.nn.modules.conv.Conv             [256, 256, 3, 2]              \n",
      " 21            [-1, 10]  1         0  ultralytics.nn.modules.conv.Concat           [1]                           \n",
      " 22                  -1  1   1511424  ultralytics.nn.modules.block.C3k2            [768, 512, 1, True]           \n",
      " 23        [16, 19, 22]  1   1474291  ultralytics.nn.modules.head.Segment          [1, 32, 128, [128, 256, 512]] \n",
      "YOLO11s-seg summary: 355 layers, 10,082,675 parameters, 10,082,659 gradients, 35.6 GFLOPs\n",
      "\n",
      "Transferred 555/561 items from pretrained weights\n",
      "\u001b[34m\u001b[1mTensorBoard: \u001b[0mStart with 'tensorboard --logdir runs/segment/train4', view at http://localhost:6006/\n",
      "Freezing layer 'model.23.dfl.conv.weight'\n",
      "\u001b[34m\u001b[1mAMP: \u001b[0mrunning Automatic Mixed Precision (AMP) checks...\n",
      "\u001b[34m\u001b[1mAMP: \u001b[0mchecks passed ✅\n"
     ]
    },
    {
     "name": "stderr",
     "output_type": "stream",
     "text": [
      "\u001b[34m\u001b[1mtrain: \u001b[0mScanning /home/ubuntu/coco_converted7/labels/train.cache... 1733 images, 1205 backgrounds, 0 corrupt: 100%|██████████| 1735/1735 [00:00<?, ?it/s]\n",
      "\u001b[34m\u001b[1mval: \u001b[0mScanning /home/ubuntu/coco_converted7/labels/val.cache... 430 images, 297 backgrounds, 0 corrupt: 100%|██████████| 430/430 [00:00<?, ?it/s]\n"
     ]
    },
    {
     "name": "stdout",
     "output_type": "stream",
     "text": [
      "Plotting labels to runs/segment/train4/labels.jpg... \n",
      "\u001b[34m\u001b[1moptimizer:\u001b[0m 'optimizer=auto' found, ignoring 'lr0=0.001' and 'momentum=0.937' and determining best 'optimizer', 'lr0' and 'momentum' automatically... \n",
      "\u001b[34m\u001b[1moptimizer:\u001b[0m AdamW(lr=0.002, momentum=0.9) with parameter groups 90 weight(decay=0.0), 101 weight(decay=0.00040625000000000004), 100 bias(decay=0.0)\n",
      "\u001b[34m\u001b[1mTensorBoard: \u001b[0mmodel graph visualization added ✅\n",
      "Image sizes 640 train, 640 val\n",
      "Using 8 dataloader workers\n",
      "Logging results to \u001b[1mruns/segment/train4\u001b[0m\n",
      "Starting training for 125 epochs...\n",
      "\n",
      "      Epoch    GPU_mem   box_loss   seg_loss   cls_loss   dfl_loss  Instances       Size\n"
     ]
    },
    {
     "name": "stderr",
     "output_type": "stream",
     "text": [
      "      1/125      16.6G     0.8662      1.677      7.283      1.202         16        640: 100%|██████████| 34/34 [00:19<00:00,  1.74it/s]\n",
      "                 Class     Images  Instances      Box(P          R      mAP50  mAP50-95)     Mask(P          R      mAP50  mAP50-95): 100%|██████████| 5/5 [00:02<00:00,  2.00it/s]\n"
     ]
    },
    {
     "name": "stdout",
     "output_type": "stream",
     "text": [
      "                   all        430        134    0.00692      0.836      0.012     0.0054    0.00721      0.851     0.0121     0.0051\n",
      "\n",
      "      Epoch    GPU_mem   box_loss   seg_loss   cls_loss   dfl_loss  Instances       Size\n"
     ]
    },
    {
     "name": "stderr",
     "output_type": "stream",
     "text": [
      "      2/125      16.5G      1.092     0.6271      1.853      1.363          9        640: 100%|██████████| 34/34 [00:15<00:00,  2.15it/s]\n",
      "                 Class     Images  Instances      Box(P          R      mAP50  mAP50-95)     Mask(P          R      mAP50  mAP50-95): 100%|██████████| 5/5 [00:01<00:00,  2.71it/s]"
     ]
    },
    {
     "name": "stdout",
     "output_type": "stream",
     "text": [
      "                   all        430        134      0.004      0.381    0.00553   0.000726   0.000328     0.0299   5.14e-05   7.34e-06\n"
     ]
    },
    {
     "name": "stderr",
     "output_type": "stream",
     "text": [
      "\n"
     ]
    },
    {
     "name": "stdout",
     "output_type": "stream",
     "text": [
      "\n",
      "      Epoch    GPU_mem   box_loss   seg_loss   cls_loss   dfl_loss  Instances       Size\n"
     ]
    },
    {
     "name": "stderr",
     "output_type": "stream",
     "text": [
      "      3/125      16.5G      1.355     0.7049      1.886      1.576         12        640: 100%|██████████| 34/34 [00:15<00:00,  2.14it/s]\n",
      "                 Class     Images  Instances      Box(P          R      mAP50  mAP50-95)     Mask(P          R      mAP50  mAP50-95): 100%|██████████| 5/5 [00:01<00:00,  3.78it/s]"
     ]
    },
    {
     "name": "stdout",
     "output_type": "stream",
     "text": [
      "                   all        430        134      0.004      0.381    0.00553   0.000726   0.000328     0.0299   5.14e-05   7.34e-06\n"
     ]
    },
    {
     "name": "stderr",
     "output_type": "stream",
     "text": [
      "\n"
     ]
    },
    {
     "name": "stdout",
     "output_type": "stream",
     "text": [
      "\n",
      "      Epoch    GPU_mem   box_loss   seg_loss   cls_loss   dfl_loss  Instances       Size\n"
     ]
    },
    {
     "name": "stderr",
     "output_type": "stream",
     "text": [
      "      4/125      16.5G      1.253     0.6145      1.655      1.459         24        640: 100%|██████████| 34/34 [00:16<00:00,  2.10it/s]\n",
      "                 Class     Images  Instances      Box(P          R      mAP50  mAP50-95)     Mask(P          R      mAP50  mAP50-95): 100%|██████████| 5/5 [00:01<00:00,  2.95it/s]"
     ]
    },
    {
     "name": "stdout",
     "output_type": "stream",
     "text": [
      "                   all        430        134     0.0123      0.284    0.00566     0.0016    0.00944      0.201    0.00365    0.00127\n"
     ]
    },
    {
     "name": "stderr",
     "output_type": "stream",
     "text": [
      "\n"
     ]
    },
    {
     "name": "stdout",
     "output_type": "stream",
     "text": [
      "\n",
      "      Epoch    GPU_mem   box_loss   seg_loss   cls_loss   dfl_loss  Instances       Size\n"
     ]
    },
    {
     "name": "stderr",
     "output_type": "stream",
     "text": [
      "      5/125      16.5G      1.072     0.5784      1.494      1.315          9        640: 100%|██████████| 34/34 [00:15<00:00,  2.13it/s]\n",
      "                 Class     Images  Instances      Box(P          R      mAP50  mAP50-95)     Mask(P          R      mAP50  mAP50-95): 100%|██████████| 5/5 [00:01<00:00,  2.58it/s]"
     ]
    },
    {
     "name": "stdout",
     "output_type": "stream",
     "text": [
      "                   all        430        134     0.0452      0.448     0.0511     0.0282     0.0444       0.44     0.0498     0.0246\n"
     ]
    },
    {
     "name": "stderr",
     "output_type": "stream",
     "text": [
      "\n"
     ]
    },
    {
     "name": "stdout",
     "output_type": "stream",
     "text": [
      "\n",
      "      Epoch    GPU_mem   box_loss   seg_loss   cls_loss   dfl_loss  Instances       Size\n"
     ]
    },
    {
     "name": "stderr",
     "output_type": "stream",
     "text": [
      "      6/125      16.5G      1.013     0.5051       1.36      1.296         14        640: 100%|██████████| 34/34 [00:15<00:00,  2.14it/s]\n",
      "                 Class     Images  Instances      Box(P          R      mAP50  mAP50-95)     Mask(P          R      mAP50  mAP50-95): 100%|██████████| 5/5 [00:01<00:00,  2.55it/s]"
     ]
    },
    {
     "name": "stdout",
     "output_type": "stream",
     "text": [
      "                   all        430        134      0.455      0.597      0.418      0.307      0.455      0.597      0.416      0.278\n"
     ]
    },
    {
     "name": "stderr",
     "output_type": "stream",
     "text": [
      "\n"
     ]
    },
    {
     "name": "stdout",
     "output_type": "stream",
     "text": [
      "\n",
      "      Epoch    GPU_mem   box_loss   seg_loss   cls_loss   dfl_loss  Instances       Size\n"
     ]
    },
    {
     "name": "stderr",
     "output_type": "stream",
     "text": [
      "      7/125      16.5G     0.9304     0.4289       1.28       1.23         14        640: 100%|██████████| 34/34 [00:15<00:00,  2.15it/s]\n",
      "                 Class     Images  Instances      Box(P          R      mAP50  mAP50-95)     Mask(P          R      mAP50  mAP50-95): 100%|██████████| 5/5 [00:01<00:00,  2.58it/s]"
     ]
    },
    {
     "name": "stdout",
     "output_type": "stream",
     "text": [
      "                   all        430        134      0.603      0.612      0.608      0.469      0.603      0.612      0.608      0.437\n"
     ]
    },
    {
     "name": "stderr",
     "output_type": "stream",
     "text": [
      "\n"
     ]
    },
    {
     "name": "stdout",
     "output_type": "stream",
     "text": [
      "\n",
      "      Epoch    GPU_mem   box_loss   seg_loss   cls_loss   dfl_loss  Instances       Size\n"
     ]
    },
    {
     "name": "stderr",
     "output_type": "stream",
     "text": [
      "      8/125      16.5G     0.8475      0.475      1.144      1.183         14        640: 100%|██████████| 34/34 [00:15<00:00,  2.16it/s]\n",
      "                 Class     Images  Instances      Box(P          R      mAP50  mAP50-95)     Mask(P          R      mAP50  mAP50-95): 100%|██████████| 5/5 [00:02<00:00,  2.27it/s]"
     ]
    },
    {
     "name": "stdout",
     "output_type": "stream",
     "text": [
      "                   all        430        134      0.389      0.409      0.392      0.173      0.389      0.409      0.392      0.162\n"
     ]
    },
    {
     "name": "stderr",
     "output_type": "stream",
     "text": [
      "\n"
     ]
    },
    {
     "name": "stdout",
     "output_type": "stream",
     "text": [
      "\n",
      "      Epoch    GPU_mem   box_loss   seg_loss   cls_loss   dfl_loss  Instances       Size\n"
     ]
    },
    {
     "name": "stderr",
     "output_type": "stream",
     "text": [
      "      9/125      16.5G     0.8254      0.479      1.177      1.172         21        640: 100%|██████████| 34/34 [00:16<00:00,  2.08it/s]\n",
      "                 Class     Images  Instances      Box(P          R      mAP50  mAP50-95)     Mask(P          R      mAP50  mAP50-95): 100%|██████████| 5/5 [00:01<00:00,  2.56it/s]"
     ]
    },
    {
     "name": "stdout",
     "output_type": "stream",
     "text": [
      "                   all        430        134      0.766      0.478      0.671       0.53      0.766      0.478       0.67       0.52\n"
     ]
    },
    {
     "name": "stderr",
     "output_type": "stream",
     "text": [
      "\n"
     ]
    },
    {
     "name": "stdout",
     "output_type": "stream",
     "text": [
      "\n",
      "      Epoch    GPU_mem   box_loss   seg_loss   cls_loss   dfl_loss  Instances       Size\n"
     ]
    },
    {
     "name": "stderr",
     "output_type": "stream",
     "text": [
      "     10/125      16.5G     0.8386     0.4593      1.173      1.171         16        640: 100%|██████████| 34/34 [00:16<00:00,  2.09it/s]\n",
      "                 Class     Images  Instances      Box(P          R      mAP50  mAP50-95)     Mask(P          R      mAP50  mAP50-95): 100%|██████████| 5/5 [00:02<00:00,  2.15it/s]"
     ]
    },
    {
     "name": "stdout",
     "output_type": "stream",
     "text": [
      "                   all        430        134      0.431       0.41      0.387      0.313      0.431       0.41      0.386        0.3\n"
     ]
    },
    {
     "name": "stderr",
     "output_type": "stream",
     "text": [
      "\n"
     ]
    },
    {
     "name": "stdout",
     "output_type": "stream",
     "text": [
      "\n",
      "      Epoch    GPU_mem   box_loss   seg_loss   cls_loss   dfl_loss  Instances       Size\n"
     ]
    },
    {
     "name": "stderr",
     "output_type": "stream",
     "text": [
      "     11/125      16.5G     0.7593     0.4344      1.103       1.12         15        640: 100%|██████████| 34/34 [00:16<00:00,  2.08it/s]\n",
      "                 Class     Images  Instances      Box(P          R      mAP50  mAP50-95)     Mask(P          R      mAP50  mAP50-95): 100%|██████████| 5/5 [00:01<00:00,  2.57it/s]"
     ]
    },
    {
     "name": "stdout",
     "output_type": "stream",
     "text": [
      "                   all        430        134      0.722      0.649      0.713      0.571      0.722      0.649      0.712      0.554\n"
     ]
    },
    {
     "name": "stderr",
     "output_type": "stream",
     "text": [
      "\n"
     ]
    },
    {
     "name": "stdout",
     "output_type": "stream",
     "text": [
      "\n",
      "      Epoch    GPU_mem   box_loss   seg_loss   cls_loss   dfl_loss  Instances       Size\n"
     ]
    },
    {
     "name": "stderr",
     "output_type": "stream",
     "text": [
      "     12/125      16.5G     0.7126     0.3512     0.9917      1.094         17        640: 100%|██████████| 34/34 [00:15<00:00,  2.13it/s]\n",
      "                 Class     Images  Instances      Box(P          R      mAP50  mAP50-95)     Mask(P          R      mAP50  mAP50-95): 100%|██████████| 5/5 [00:01<00:00,  2.58it/s]"
     ]
    },
    {
     "name": "stdout",
     "output_type": "stream",
     "text": [
      "                   all        430        134      0.892      0.776      0.845      0.734      0.892      0.776      0.844      0.705\n"
     ]
    },
    {
     "name": "stderr",
     "output_type": "stream",
     "text": [
      "\n"
     ]
    },
    {
     "name": "stdout",
     "output_type": "stream",
     "text": [
      "\n",
      "      Epoch    GPU_mem   box_loss   seg_loss   cls_loss   dfl_loss  Instances       Size\n"
     ]
    },
    {
     "name": "stderr",
     "output_type": "stream",
     "text": [
      "     13/125      16.5G     0.7045     0.4526      1.005      1.101         18        640: 100%|██████████| 34/34 [00:15<00:00,  2.15it/s]\n",
      "                 Class     Images  Instances      Box(P          R      mAP50  mAP50-95)     Mask(P          R      mAP50  mAP50-95): 100%|██████████| 5/5 [00:01<00:00,  2.70it/s]"
     ]
    },
    {
     "name": "stdout",
     "output_type": "stream",
     "text": [
      "                   all        430        134      0.692      0.552      0.607      0.485      0.692      0.552      0.603      0.467\n"
     ]
    },
    {
     "name": "stderr",
     "output_type": "stream",
     "text": [
      "\n"
     ]
    },
    {
     "name": "stdout",
     "output_type": "stream",
     "text": [
      "\n",
      "      Epoch    GPU_mem   box_loss   seg_loss   cls_loss   dfl_loss  Instances       Size\n"
     ]
    },
    {
     "name": "stderr",
     "output_type": "stream",
     "text": [
      "     14/125      16.5G     0.6977     0.4098      0.963      1.081         17        640: 100%|██████████| 34/34 [00:15<00:00,  2.18it/s]\n",
      "                 Class     Images  Instances      Box(P          R      mAP50  mAP50-95)     Mask(P          R      mAP50  mAP50-95): 100%|██████████| 5/5 [00:01<00:00,  2.71it/s]"
     ]
    },
    {
     "name": "stdout",
     "output_type": "stream",
     "text": [
      "                   all        430        134      0.839      0.515      0.603      0.508      0.839      0.515      0.604      0.495\n"
     ]
    },
    {
     "name": "stderr",
     "output_type": "stream",
     "text": [
      "\n"
     ]
    },
    {
     "name": "stdout",
     "output_type": "stream",
     "text": [
      "\n",
      "      Epoch    GPU_mem   box_loss   seg_loss   cls_loss   dfl_loss  Instances       Size\n"
     ]
    },
    {
     "name": "stderr",
     "output_type": "stream",
     "text": [
      "     15/125      16.5G     0.6847     0.3974     0.9966      1.087         16        640: 100%|██████████| 34/34 [00:15<00:00,  2.18it/s]\n",
      "                 Class     Images  Instances      Box(P          R      mAP50  mAP50-95)     Mask(P          R      mAP50  mAP50-95): 100%|██████████| 5/5 [00:01<00:00,  2.71it/s]"
     ]
    },
    {
     "name": "stdout",
     "output_type": "stream",
     "text": [
      "                   all        430        134      0.726      0.776      0.783      0.645      0.726      0.776      0.782      0.607\n"
     ]
    },
    {
     "name": "stderr",
     "output_type": "stream",
     "text": [
      "\n"
     ]
    },
    {
     "name": "stdout",
     "output_type": "stream",
     "text": [
      "\n",
      "      Epoch    GPU_mem   box_loss   seg_loss   cls_loss   dfl_loss  Instances       Size\n"
     ]
    },
    {
     "name": "stderr",
     "output_type": "stream",
     "text": [
      "     16/125      16.5G      0.668     0.4096     0.8902      1.067         10        640: 100%|██████████| 34/34 [00:15<00:00,  2.18it/s]\n",
      "                 Class     Images  Instances      Box(P          R      mAP50  mAP50-95)     Mask(P          R      mAP50  mAP50-95): 100%|██████████| 5/5 [00:01<00:00,  2.73it/s]"
     ]
    },
    {
     "name": "stdout",
     "output_type": "stream",
     "text": [
      "                   all        430        134      0.387      0.373      0.291      0.246      0.387      0.373      0.291      0.226\n"
     ]
    },
    {
     "name": "stderr",
     "output_type": "stream",
     "text": [
      "\n"
     ]
    },
    {
     "name": "stdout",
     "output_type": "stream",
     "text": [
      "\n",
      "      Epoch    GPU_mem   box_loss   seg_loss   cls_loss   dfl_loss  Instances       Size\n"
     ]
    },
    {
     "name": "stderr",
     "output_type": "stream",
     "text": [
      "     17/125      16.5G     0.6434     0.3978     0.8755      1.069         18        640: 100%|██████████| 34/34 [00:15<00:00,  2.18it/s]\n",
      "                 Class     Images  Instances      Box(P          R      mAP50  mAP50-95)     Mask(P          R      mAP50  mAP50-95): 100%|██████████| 5/5 [00:01<00:00,  2.71it/s]"
     ]
    },
    {
     "name": "stdout",
     "output_type": "stream",
     "text": [
      "                   all        430        134       0.74      0.843      0.804      0.687       0.74      0.843      0.804      0.641\n"
     ]
    },
    {
     "name": "stderr",
     "output_type": "stream",
     "text": [
      "\n"
     ]
    },
    {
     "name": "stdout",
     "output_type": "stream",
     "text": [
      "\n",
      "      Epoch    GPU_mem   box_loss   seg_loss   cls_loss   dfl_loss  Instances       Size\n"
     ]
    },
    {
     "name": "stderr",
     "output_type": "stream",
     "text": [
      "     18/125      16.5G     0.6436     0.4287     0.8719      1.066         11        640: 100%|██████████| 34/34 [00:15<00:00,  2.19it/s]\n",
      "                 Class     Images  Instances      Box(P          R      mAP50  mAP50-95)     Mask(P          R      mAP50  mAP50-95): 100%|██████████| 5/5 [00:01<00:00,  2.73it/s]"
     ]
    },
    {
     "name": "stdout",
     "output_type": "stream",
     "text": [
      "                   all        430        134      0.793      0.821      0.818       0.71      0.793      0.821      0.818      0.667\n"
     ]
    },
    {
     "name": "stderr",
     "output_type": "stream",
     "text": [
      "\n"
     ]
    },
    {
     "name": "stdout",
     "output_type": "stream",
     "text": [
      "\n",
      "      Epoch    GPU_mem   box_loss   seg_loss   cls_loss   dfl_loss  Instances       Size\n"
     ]
    },
    {
     "name": "stderr",
     "output_type": "stream",
     "text": [
      "     19/125      16.5G     0.6179     0.4035     0.8777      1.045         14        640: 100%|██████████| 34/34 [00:15<00:00,  2.18it/s]\n",
      "                 Class     Images  Instances      Box(P          R      mAP50  mAP50-95)     Mask(P          R      mAP50  mAP50-95): 100%|██████████| 5/5 [00:02<00:00,  2.43it/s]"
     ]
    },
    {
     "name": "stdout",
     "output_type": "stream",
     "text": [
      "                   all        430        134      0.744      0.649      0.743       0.65      0.744      0.649      0.743      0.647\n"
     ]
    },
    {
     "name": "stderr",
     "output_type": "stream",
     "text": [
      "\n"
     ]
    },
    {
     "name": "stdout",
     "output_type": "stream",
     "text": [
      "\n",
      "      Epoch    GPU_mem   box_loss   seg_loss   cls_loss   dfl_loss  Instances       Size\n"
     ]
    },
    {
     "name": "stderr",
     "output_type": "stream",
     "text": [
      "     20/125      16.5G     0.6037      0.355     0.8231      1.063         16        640: 100%|██████████| 34/34 [00:15<00:00,  2.17it/s]\n",
      "                 Class     Images  Instances      Box(P          R      mAP50  mAP50-95)     Mask(P          R      mAP50  mAP50-95): 100%|██████████| 5/5 [00:01<00:00,  2.70it/s]"
     ]
    },
    {
     "name": "stdout",
     "output_type": "stream",
     "text": [
      "                   all        430        134      0.861      0.784      0.858      0.779      0.861      0.784       0.86      0.754\n"
     ]
    },
    {
     "name": "stderr",
     "output_type": "stream",
     "text": [
      "\n"
     ]
    },
    {
     "name": "stdout",
     "output_type": "stream",
     "text": [
      "\n",
      "      Epoch    GPU_mem   box_loss   seg_loss   cls_loss   dfl_loss  Instances       Size\n"
     ]
    },
    {
     "name": "stderr",
     "output_type": "stream",
     "text": [
      "     21/125      16.5G     0.6261     0.3592     0.8561      1.046         10        640: 100%|██████████| 34/34 [00:15<00:00,  2.17it/s]\n",
      "                 Class     Images  Instances      Box(P          R      mAP50  mAP50-95)     Mask(P          R      mAP50  mAP50-95): 100%|██████████| 5/5 [00:01<00:00,  2.63it/s]"
     ]
    },
    {
     "name": "stdout",
     "output_type": "stream",
     "text": [
      "                   all        430        134      0.756      0.254      0.342      0.279      0.756      0.254      0.342      0.257\n"
     ]
    },
    {
     "name": "stderr",
     "output_type": "stream",
     "text": [
      "\n"
     ]
    },
    {
     "name": "stdout",
     "output_type": "stream",
     "text": [
      "\n",
      "      Epoch    GPU_mem   box_loss   seg_loss   cls_loss   dfl_loss  Instances       Size\n"
     ]
    },
    {
     "name": "stderr",
     "output_type": "stream",
     "text": [
      "     22/125      16.5G     0.6099     0.3651     0.8365      1.032         21        640: 100%|██████████| 34/34 [00:15<00:00,  2.17it/s]\n",
      "                 Class     Images  Instances      Box(P          R      mAP50  mAP50-95)     Mask(P          R      mAP50  mAP50-95): 100%|██████████| 5/5 [00:01<00:00,  2.68it/s]"
     ]
    },
    {
     "name": "stdout",
     "output_type": "stream",
     "text": [
      "                   all        430        134      0.636      0.821      0.762      0.682      0.636      0.821      0.762      0.646\n"
     ]
    },
    {
     "name": "stderr",
     "output_type": "stream",
     "text": [
      "\n"
     ]
    },
    {
     "name": "stdout",
     "output_type": "stream",
     "text": [
      "\n",
      "      Epoch    GPU_mem   box_loss   seg_loss   cls_loss   dfl_loss  Instances       Size\n"
     ]
    },
    {
     "name": "stderr",
     "output_type": "stream",
     "text": [
      "     23/125      16.5G     0.5788     0.4054     0.7894      1.024         10        640: 100%|██████████| 34/34 [00:15<00:00,  2.18it/s]\n",
      "                 Class     Images  Instances      Box(P          R      mAP50  mAP50-95)     Mask(P          R      mAP50  mAP50-95): 100%|██████████| 5/5 [00:01<00:00,  2.74it/s]"
     ]
    },
    {
     "name": "stdout",
     "output_type": "stream",
     "text": [
      "                   all        430        134      0.787      0.813      0.761       0.69      0.787      0.813      0.761      0.681\n"
     ]
    },
    {
     "name": "stderr",
     "output_type": "stream",
     "text": [
      "\n"
     ]
    },
    {
     "name": "stdout",
     "output_type": "stream",
     "text": [
      "\n",
      "      Epoch    GPU_mem   box_loss   seg_loss   cls_loss   dfl_loss  Instances       Size\n"
     ]
    },
    {
     "name": "stderr",
     "output_type": "stream",
     "text": [
      "     24/125      16.5G     0.5654     0.3578     0.7592      1.008         16        640: 100%|██████████| 34/34 [00:15<00:00,  2.17it/s]\n",
      "                 Class     Images  Instances      Box(P          R      mAP50  mAP50-95)     Mask(P          R      mAP50  mAP50-95): 100%|██████████| 5/5 [00:01<00:00,  2.69it/s]"
     ]
    },
    {
     "name": "stdout",
     "output_type": "stream",
     "text": [
      "                   all        430        134      0.897      0.782      0.843      0.762      0.897      0.782      0.843       0.73\n"
     ]
    },
    {
     "name": "stderr",
     "output_type": "stream",
     "text": [
      "\n"
     ]
    },
    {
     "name": "stdout",
     "output_type": "stream",
     "text": [
      "\n",
      "      Epoch    GPU_mem   box_loss   seg_loss   cls_loss   dfl_loss  Instances       Size\n"
     ]
    },
    {
     "name": "stderr",
     "output_type": "stream",
     "text": [
      "     25/125      16.5G     0.5563     0.3457     0.8138      1.004         13        640: 100%|██████████| 34/34 [00:15<00:00,  2.17it/s]\n",
      "                 Class     Images  Instances      Box(P          R      mAP50  mAP50-95)     Mask(P          R      mAP50  mAP50-95): 100%|██████████| 5/5 [00:01<00:00,  2.71it/s]"
     ]
    },
    {
     "name": "stdout",
     "output_type": "stream",
     "text": [
      "                   all        430        134      0.904      0.858      0.926      0.857      0.904      0.858      0.924      0.807\n"
     ]
    },
    {
     "name": "stderr",
     "output_type": "stream",
     "text": [
      "\n"
     ]
    },
    {
     "name": "stdout",
     "output_type": "stream",
     "text": [
      "\n",
      "      Epoch    GPU_mem   box_loss   seg_loss   cls_loss   dfl_loss  Instances       Size\n"
     ]
    },
    {
     "name": "stderr",
     "output_type": "stream",
     "text": [
      "     26/125      16.5G      0.515     0.3317     0.7119     0.9893         23        640: 100%|██████████| 34/34 [00:15<00:00,  2.18it/s]\n",
      "                 Class     Images  Instances      Box(P          R      mAP50  mAP50-95)     Mask(P          R      mAP50  mAP50-95): 100%|██████████| 5/5 [00:01<00:00,  2.77it/s]"
     ]
    },
    {
     "name": "stdout",
     "output_type": "stream",
     "text": [
      "                   all        430        134      0.667      0.761      0.827        0.7      0.667      0.761      0.827      0.673\n"
     ]
    },
    {
     "name": "stderr",
     "output_type": "stream",
     "text": [
      "\n"
     ]
    },
    {
     "name": "stdout",
     "output_type": "stream",
     "text": [
      "\n",
      "      Epoch    GPU_mem   box_loss   seg_loss   cls_loss   dfl_loss  Instances       Size\n"
     ]
    },
    {
     "name": "stderr",
     "output_type": "stream",
     "text": [
      "     27/125      16.5G     0.5332     0.3268     0.7283      1.001         14        640: 100%|██████████| 34/34 [00:15<00:00,  2.18it/s]\n",
      "                 Class     Images  Instances      Box(P          R      mAP50  mAP50-95)     Mask(P          R      mAP50  mAP50-95): 100%|██████████| 5/5 [00:01<00:00,  2.67it/s]"
     ]
    },
    {
     "name": "stdout",
     "output_type": "stream",
     "text": [
      "                   all        430        134      0.893      0.836      0.899      0.804      0.893      0.836        0.9      0.787\n"
     ]
    },
    {
     "name": "stderr",
     "output_type": "stream",
     "text": [
      "\n"
     ]
    },
    {
     "name": "stdout",
     "output_type": "stream",
     "text": [
      "\n",
      "      Epoch    GPU_mem   box_loss   seg_loss   cls_loss   dfl_loss  Instances       Size\n"
     ]
    },
    {
     "name": "stderr",
     "output_type": "stream",
     "text": [
      "     28/125      16.5G     0.5046     0.3539     0.7286     0.9822         15        640: 100%|██████████| 34/34 [00:15<00:00,  2.18it/s]\n",
      "                 Class     Images  Instances      Box(P          R      mAP50  mAP50-95)     Mask(P          R      mAP50  mAP50-95): 100%|██████████| 5/5 [00:01<00:00,  2.71it/s]"
     ]
    },
    {
     "name": "stdout",
     "output_type": "stream",
     "text": [
      "                   all        430        134      0.779       0.56      0.661       0.57      0.779       0.56      0.661      0.542\n"
     ]
    },
    {
     "name": "stderr",
     "output_type": "stream",
     "text": [
      "\n"
     ]
    },
    {
     "name": "stdout",
     "output_type": "stream",
     "text": [
      "\n",
      "      Epoch    GPU_mem   box_loss   seg_loss   cls_loss   dfl_loss  Instances       Size\n"
     ]
    },
    {
     "name": "stderr",
     "output_type": "stream",
     "text": [
      "     29/125      16.5G     0.5049     0.3177      0.701     0.9792         15        640: 100%|██████████| 34/34 [00:15<00:00,  2.18it/s]\n",
      "                 Class     Images  Instances      Box(P          R      mAP50  mAP50-95)     Mask(P          R      mAP50  mAP50-95): 100%|██████████| 5/5 [00:01<00:00,  2.68it/s]"
     ]
    },
    {
     "name": "stdout",
     "output_type": "stream",
     "text": [
      "                   all        430        134      0.796      0.582      0.638      0.545      0.796      0.582      0.638      0.511\n"
     ]
    },
    {
     "name": "stderr",
     "output_type": "stream",
     "text": [
      "\n"
     ]
    },
    {
     "name": "stdout",
     "output_type": "stream",
     "text": [
      "\n",
      "      Epoch    GPU_mem   box_loss   seg_loss   cls_loss   dfl_loss  Instances       Size\n"
     ]
    },
    {
     "name": "stderr",
     "output_type": "stream",
     "text": [
      "     30/125      16.5G     0.5073     0.3303        0.7     0.9886         15        640: 100%|██████████| 34/34 [00:15<00:00,  2.17it/s]\n",
      "                 Class     Images  Instances      Box(P          R      mAP50  mAP50-95)     Mask(P          R      mAP50  mAP50-95): 100%|██████████| 5/5 [00:02<00:00,  2.39it/s]"
     ]
    },
    {
     "name": "stdout",
     "output_type": "stream",
     "text": [
      "                   all        430        134       0.79      0.821      0.852      0.756       0.79      0.821      0.851      0.722\n"
     ]
    },
    {
     "name": "stderr",
     "output_type": "stream",
     "text": [
      "\n"
     ]
    },
    {
     "name": "stdout",
     "output_type": "stream",
     "text": [
      "\n",
      "      Epoch    GPU_mem   box_loss   seg_loss   cls_loss   dfl_loss  Instances       Size\n"
     ]
    },
    {
     "name": "stderr",
     "output_type": "stream",
     "text": [
      "     31/125      16.5G     0.5204      0.342      0.707     0.9813         13        640: 100%|██████████| 34/34 [00:15<00:00,  2.15it/s]\n",
      "                 Class     Images  Instances      Box(P          R      mAP50  mAP50-95)     Mask(P          R      mAP50  mAP50-95): 100%|██████████| 5/5 [00:02<00:00,  2.23it/s]"
     ]
    },
    {
     "name": "stdout",
     "output_type": "stream",
     "text": [
      "                   all        430        134      0.927      0.851      0.934      0.859      0.927      0.851      0.938       0.82\n"
     ]
    },
    {
     "name": "stderr",
     "output_type": "stream",
     "text": [
      "\n"
     ]
    },
    {
     "name": "stdout",
     "output_type": "stream",
     "text": [
      "\n",
      "      Epoch    GPU_mem   box_loss   seg_loss   cls_loss   dfl_loss  Instances       Size\n"
     ]
    },
    {
     "name": "stderr",
     "output_type": "stream",
     "text": [
      "     32/125      16.5G     0.4925     0.3291     0.6883     0.9738         11        640: 100%|██████████| 34/34 [00:15<00:00,  2.16it/s]\n",
      "                 Class     Images  Instances      Box(P          R      mAP50  mAP50-95)     Mask(P          R      mAP50  mAP50-95): 100%|██████████| 5/5 [00:02<00:00,  2.38it/s]"
     ]
    },
    {
     "name": "stdout",
     "output_type": "stream",
     "text": [
      "                   all        430        134      0.729      0.604      0.629      0.537      0.726      0.604      0.627      0.513\n"
     ]
    },
    {
     "name": "stderr",
     "output_type": "stream",
     "text": [
      "\n"
     ]
    },
    {
     "name": "stdout",
     "output_type": "stream",
     "text": [
      "\n",
      "      Epoch    GPU_mem   box_loss   seg_loss   cls_loss   dfl_loss  Instances       Size\n"
     ]
    },
    {
     "name": "stderr",
     "output_type": "stream",
     "text": [
      "     33/125      16.5G     0.5174      0.336     0.7151     0.9867         13        640: 100%|██████████| 34/34 [00:15<00:00,  2.15it/s]\n",
      "                 Class     Images  Instances      Box(P          R      mAP50  mAP50-95)     Mask(P          R      mAP50  mAP50-95): 100%|██████████| 5/5 [00:01<00:00,  2.69it/s]"
     ]
    },
    {
     "name": "stdout",
     "output_type": "stream",
     "text": [
      "                   all        430        134      0.785      0.799      0.869      0.777      0.785      0.799       0.87      0.749\n"
     ]
    },
    {
     "name": "stderr",
     "output_type": "stream",
     "text": [
      "\n"
     ]
    },
    {
     "name": "stdout",
     "output_type": "stream",
     "text": [
      "\n",
      "      Epoch    GPU_mem   box_loss   seg_loss   cls_loss   dfl_loss  Instances       Size\n"
     ]
    },
    {
     "name": "stderr",
     "output_type": "stream",
     "text": [
      "     34/125      16.5G     0.5167     0.3407     0.6891       0.99          9        640: 100%|██████████| 34/34 [00:16<00:00,  2.12it/s]\n",
      "                 Class     Images  Instances      Box(P          R      mAP50  mAP50-95)     Mask(P          R      mAP50  mAP50-95): 100%|██████████| 5/5 [00:01<00:00,  2.70it/s]"
     ]
    },
    {
     "name": "stdout",
     "output_type": "stream",
     "text": [
      "                   all        430        134      0.852      0.644      0.789      0.683      0.852      0.644      0.789      0.647\n"
     ]
    },
    {
     "name": "stderr",
     "output_type": "stream",
     "text": [
      "\n"
     ]
    },
    {
     "name": "stdout",
     "output_type": "stream",
     "text": [
      "\n",
      "      Epoch    GPU_mem   box_loss   seg_loss   cls_loss   dfl_loss  Instances       Size\n"
     ]
    },
    {
     "name": "stderr",
     "output_type": "stream",
     "text": [
      "     35/125      16.5G     0.4866     0.3152     0.6263     0.9775         14        640: 100%|██████████| 34/34 [00:15<00:00,  2.15it/s]\n",
      "                 Class     Images  Instances      Box(P          R      mAP50  mAP50-95)     Mask(P          R      mAP50  mAP50-95): 100%|██████████| 5/5 [00:01<00:00,  2.70it/s]"
     ]
    },
    {
     "name": "stdout",
     "output_type": "stream",
     "text": [
      "                   all        430        134      0.899      0.903      0.951      0.886      0.899      0.903      0.951      0.861\n"
     ]
    },
    {
     "name": "stderr",
     "output_type": "stream",
     "text": [
      "\n"
     ]
    },
    {
     "name": "stdout",
     "output_type": "stream",
     "text": [
      "\n",
      "      Epoch    GPU_mem   box_loss   seg_loss   cls_loss   dfl_loss  Instances       Size\n"
     ]
    },
    {
     "name": "stderr",
     "output_type": "stream",
     "text": [
      "     36/125      16.5G     0.4784     0.2979     0.6365     0.9697         16        640: 100%|██████████| 34/34 [00:16<00:00,  2.06it/s]\n",
      "                 Class     Images  Instances      Box(P          R      mAP50  mAP50-95)     Mask(P          R      mAP50  mAP50-95): 100%|██████████| 5/5 [00:02<00:00,  2.25it/s]"
     ]
    },
    {
     "name": "stdout",
     "output_type": "stream",
     "text": [
      "                   all        430        134      0.923      0.582      0.661      0.587      0.923      0.582      0.661      0.569\n"
     ]
    },
    {
     "name": "stderr",
     "output_type": "stream",
     "text": [
      "\n"
     ]
    },
    {
     "name": "stdout",
     "output_type": "stream",
     "text": [
      "\n",
      "      Epoch    GPU_mem   box_loss   seg_loss   cls_loss   dfl_loss  Instances       Size\n"
     ]
    },
    {
     "name": "stderr",
     "output_type": "stream",
     "text": [
      "     37/125      16.5G     0.4797     0.3491     0.6337     0.9722         14        640: 100%|██████████| 34/34 [00:15<00:00,  2.17it/s]\n",
      "                 Class     Images  Instances      Box(P          R      mAP50  mAP50-95)     Mask(P          R      mAP50  mAP50-95): 100%|██████████| 5/5 [00:01<00:00,  2.69it/s]"
     ]
    },
    {
     "name": "stdout",
     "output_type": "stream",
     "text": [
      "                   all        430        134      0.926      0.858       0.92      0.851      0.926      0.858       0.92      0.824\n"
     ]
    },
    {
     "name": "stderr",
     "output_type": "stream",
     "text": [
      "\n"
     ]
    },
    {
     "name": "stdout",
     "output_type": "stream",
     "text": [
      "\n",
      "      Epoch    GPU_mem   box_loss   seg_loss   cls_loss   dfl_loss  Instances       Size\n"
     ]
    },
    {
     "name": "stderr",
     "output_type": "stream",
     "text": [
      "     38/125      16.5G     0.4607     0.3149     0.6249     0.9643         19        640: 100%|██████████| 34/34 [00:16<00:00,  2.03it/s]\n",
      "                 Class     Images  Instances      Box(P          R      mAP50  mAP50-95)     Mask(P          R      mAP50  mAP50-95): 100%|██████████| 5/5 [00:02<00:00,  2.22it/s]"
     ]
    },
    {
     "name": "stdout",
     "output_type": "stream",
     "text": [
      "                   all        430        134      0.769      0.597      0.706      0.655      0.769      0.597      0.706      0.631\n"
     ]
    },
    {
     "name": "stderr",
     "output_type": "stream",
     "text": [
      "\n"
     ]
    },
    {
     "name": "stdout",
     "output_type": "stream",
     "text": [
      "\n",
      "      Epoch    GPU_mem   box_loss   seg_loss   cls_loss   dfl_loss  Instances       Size\n"
     ]
    },
    {
     "name": "stderr",
     "output_type": "stream",
     "text": [
      "     39/125      16.5G     0.4735     0.3317     0.6401     0.9643         13        640: 100%|██████████| 34/34 [00:16<00:00,  2.04it/s]\n",
      "                 Class     Images  Instances      Box(P          R      mAP50  mAP50-95)     Mask(P          R      mAP50  mAP50-95): 100%|██████████| 5/5 [00:01<00:00,  2.70it/s]"
     ]
    },
    {
     "name": "stdout",
     "output_type": "stream",
     "text": [
      "                   all        430        134      0.694      0.851      0.862      0.766      0.694      0.851      0.864       0.73\n"
     ]
    },
    {
     "name": "stderr",
     "output_type": "stream",
     "text": [
      "\n"
     ]
    },
    {
     "name": "stdout",
     "output_type": "stream",
     "text": [
      "\n",
      "      Epoch    GPU_mem   box_loss   seg_loss   cls_loss   dfl_loss  Instances       Size\n"
     ]
    },
    {
     "name": "stderr",
     "output_type": "stream",
     "text": [
      "     40/125      16.5G     0.4713     0.3131     0.6439     0.9624          8        640: 100%|██████████| 34/34 [00:15<00:00,  2.16it/s]\n",
      "                 Class     Images  Instances      Box(P          R      mAP50  mAP50-95)     Mask(P          R      mAP50  mAP50-95): 100%|██████████| 5/5 [00:01<00:00,  2.62it/s]"
     ]
    },
    {
     "name": "stdout",
     "output_type": "stream",
     "text": [
      "                   all        430        134      0.909      0.791      0.867      0.786      0.909      0.791      0.868      0.754\n"
     ]
    },
    {
     "name": "stderr",
     "output_type": "stream",
     "text": [
      "\n"
     ]
    },
    {
     "name": "stdout",
     "output_type": "stream",
     "text": [
      "\n",
      "      Epoch    GPU_mem   box_loss   seg_loss   cls_loss   dfl_loss  Instances       Size\n"
     ]
    },
    {
     "name": "stderr",
     "output_type": "stream",
     "text": [
      "     41/125      16.5G      0.446     0.3276     0.6296     0.9548         14        640: 100%|██████████| 34/34 [00:16<00:00,  2.05it/s]\n",
      "                 Class     Images  Instances      Box(P          R      mAP50  mAP50-95)     Mask(P          R      mAP50  mAP50-95): 100%|██████████| 5/5 [00:02<00:00,  2.25it/s]"
     ]
    },
    {
     "name": "stdout",
     "output_type": "stream",
     "text": [
      "                   all        430        134      0.853      0.605      0.661      0.579      0.853      0.605      0.663      0.539\n"
     ]
    },
    {
     "name": "stderr",
     "output_type": "stream",
     "text": [
      "\n"
     ]
    },
    {
     "name": "stdout",
     "output_type": "stream",
     "text": [
      "\n",
      "      Epoch    GPU_mem   box_loss   seg_loss   cls_loss   dfl_loss  Instances       Size\n"
     ]
    },
    {
     "name": "stderr",
     "output_type": "stream",
     "text": [
      "     42/125      16.5G     0.4781     0.3004     0.6488     0.9655         14        640: 100%|██████████| 34/34 [00:16<00:00,  2.04it/s]\n",
      "                 Class     Images  Instances      Box(P          R      mAP50  mAP50-95)     Mask(P          R      mAP50  mAP50-95): 100%|██████████| 5/5 [00:02<00:00,  2.27it/s]"
     ]
    },
    {
     "name": "stdout",
     "output_type": "stream",
     "text": [
      "                   all        430        134      0.928      0.627       0.79      0.698      0.928      0.627      0.793      0.666\n"
     ]
    },
    {
     "name": "stderr",
     "output_type": "stream",
     "text": [
      "\n"
     ]
    },
    {
     "name": "stdout",
     "output_type": "stream",
     "text": [
      "\n",
      "      Epoch    GPU_mem   box_loss   seg_loss   cls_loss   dfl_loss  Instances       Size\n"
     ]
    },
    {
     "name": "stderr",
     "output_type": "stream",
     "text": [
      "     43/125      16.5G     0.4303     0.2652     0.5727     0.9472         13        640: 100%|██████████| 34/34 [00:16<00:00,  2.04it/s]\n",
      "                 Class     Images  Instances      Box(P          R      mAP50  mAP50-95)     Mask(P          R      mAP50  mAP50-95): 100%|██████████| 5/5 [00:02<00:00,  2.37it/s]"
     ]
    },
    {
     "name": "stdout",
     "output_type": "stream",
     "text": [
      "                   all        430        134      0.812      0.644      0.795       0.72      0.812      0.644      0.792      0.672\n"
     ]
    },
    {
     "name": "stderr",
     "output_type": "stream",
     "text": [
      "\n"
     ]
    },
    {
     "name": "stdout",
     "output_type": "stream",
     "text": [
      "\n",
      "      Epoch    GPU_mem   box_loss   seg_loss   cls_loss   dfl_loss  Instances       Size\n"
     ]
    },
    {
     "name": "stderr",
     "output_type": "stream",
     "text": [
      "     44/125      16.5G     0.4362     0.3069     0.5786     0.9502         10        640: 100%|██████████| 34/34 [00:16<00:00,  2.05it/s]\n",
      "                 Class     Images  Instances      Box(P          R      mAP50  mAP50-95)     Mask(P          R      mAP50  mAP50-95): 100%|██████████| 5/5 [00:02<00:00,  2.26it/s]"
     ]
    },
    {
     "name": "stdout",
     "output_type": "stream",
     "text": [
      "                   all        430        134      0.833      0.604      0.643      0.562      0.833      0.604      0.642       0.53\n"
     ]
    },
    {
     "name": "stderr",
     "output_type": "stream",
     "text": [
      "\n"
     ]
    },
    {
     "name": "stdout",
     "output_type": "stream",
     "text": [
      "\n",
      "      Epoch    GPU_mem   box_loss   seg_loss   cls_loss   dfl_loss  Instances       Size\n"
     ]
    },
    {
     "name": "stderr",
     "output_type": "stream",
     "text": [
      "     45/125      16.5G     0.4498     0.3008      0.614     0.9383         12        640: 100%|██████████| 34/34 [00:16<00:00,  2.05it/s]\n",
      "                 Class     Images  Instances      Box(P          R      mAP50  mAP50-95)     Mask(P          R      mAP50  mAP50-95): 100%|██████████| 5/5 [00:02<00:00,  2.27it/s]"
     ]
    },
    {
     "name": "stdout",
     "output_type": "stream",
     "text": [
      "                   all        430        134      0.872      0.903      0.951      0.867      0.872      0.903      0.951      0.835\n"
     ]
    },
    {
     "name": "stderr",
     "output_type": "stream",
     "text": [
      "\n"
     ]
    },
    {
     "name": "stdout",
     "output_type": "stream",
     "text": [
      "\n",
      "      Epoch    GPU_mem   box_loss   seg_loss   cls_loss   dfl_loss  Instances       Size\n"
     ]
    },
    {
     "name": "stderr",
     "output_type": "stream",
     "text": [
      "     46/125      16.5G     0.4409     0.2946     0.5814     0.9543         21        640: 100%|██████████| 34/34 [00:16<00:00,  2.06it/s]\n",
      "                 Class     Images  Instances      Box(P          R      mAP50  mAP50-95)     Mask(P          R      mAP50  mAP50-95): 100%|██████████| 5/5 [00:02<00:00,  2.24it/s]"
     ]
    },
    {
     "name": "stdout",
     "output_type": "stream",
     "text": [
      "                   all        430        134      0.902      0.813      0.923      0.841      0.902      0.813      0.925      0.807\n"
     ]
    },
    {
     "name": "stderr",
     "output_type": "stream",
     "text": [
      "\n"
     ]
    },
    {
     "name": "stdout",
     "output_type": "stream",
     "text": [
      "\n",
      "      Epoch    GPU_mem   box_loss   seg_loss   cls_loss   dfl_loss  Instances       Size\n"
     ]
    },
    {
     "name": "stderr",
     "output_type": "stream",
     "text": [
      "     47/125      16.5G     0.4421     0.2765     0.5924     0.9531         15        640: 100%|██████████| 34/34 [00:16<00:00,  2.05it/s]\n",
      "                 Class     Images  Instances      Box(P          R      mAP50  mAP50-95)     Mask(P          R      mAP50  mAP50-95): 100%|██████████| 5/5 [00:02<00:00,  2.28it/s]"
     ]
    },
    {
     "name": "stdout",
     "output_type": "stream",
     "text": [
      "                   all        430        134      0.917       0.59      0.728      0.654      0.917       0.59      0.728      0.619\n"
     ]
    },
    {
     "name": "stderr",
     "output_type": "stream",
     "text": [
      "\n"
     ]
    },
    {
     "name": "stdout",
     "output_type": "stream",
     "text": [
      "\n",
      "      Epoch    GPU_mem   box_loss   seg_loss   cls_loss   dfl_loss  Instances       Size\n"
     ]
    },
    {
     "name": "stderr",
     "output_type": "stream",
     "text": [
      "     48/125      16.5G     0.4181     0.2617     0.5557     0.9356         19        640: 100%|██████████| 34/34 [00:16<00:00,  2.05it/s]\n",
      "                 Class     Images  Instances      Box(P          R      mAP50  mAP50-95)     Mask(P          R      mAP50  mAP50-95): 100%|██████████| 5/5 [00:02<00:00,  2.26it/s]"
     ]
    },
    {
     "name": "stdout",
     "output_type": "stream",
     "text": [
      "                   all        430        134      0.892      0.619      0.675      0.618      0.892      0.619      0.675      0.586\n"
     ]
    },
    {
     "name": "stderr",
     "output_type": "stream",
     "text": [
      "\n"
     ]
    },
    {
     "name": "stdout",
     "output_type": "stream",
     "text": [
      "\n",
      "      Epoch    GPU_mem   box_loss   seg_loss   cls_loss   dfl_loss  Instances       Size\n"
     ]
    },
    {
     "name": "stderr",
     "output_type": "stream",
     "text": [
      "     49/125      16.5G     0.4242     0.2904     0.5517     0.9323          8        640: 100%|██████████| 34/34 [00:16<00:00,  2.04it/s]\n",
      "                 Class     Images  Instances      Box(P          R      mAP50  mAP50-95)     Mask(P          R      mAP50  mAP50-95): 100%|██████████| 5/5 [00:02<00:00,  2.24it/s]"
     ]
    },
    {
     "name": "stdout",
     "output_type": "stream",
     "text": [
      "                   all        430        134      0.896       0.56        0.7      0.619      0.896       0.56        0.7      0.593\n"
     ]
    },
    {
     "name": "stderr",
     "output_type": "stream",
     "text": [
      "\n"
     ]
    },
    {
     "name": "stdout",
     "output_type": "stream",
     "text": [
      "\n",
      "      Epoch    GPU_mem   box_loss   seg_loss   cls_loss   dfl_loss  Instances       Size\n"
     ]
    },
    {
     "name": "stderr",
     "output_type": "stream",
     "text": [
      "     50/125      16.5G     0.4313     0.2684     0.5437     0.9428         21        640: 100%|██████████| 34/34 [00:16<00:00,  2.06it/s]\n",
      "                 Class     Images  Instances      Box(P          R      mAP50  mAP50-95)     Mask(P          R      mAP50  mAP50-95): 100%|██████████| 5/5 [00:02<00:00,  2.26it/s]"
     ]
    },
    {
     "name": "stdout",
     "output_type": "stream",
     "text": [
      "                   all        430        134      0.957      0.851      0.952      0.868      0.957      0.851      0.952      0.848\n"
     ]
    },
    {
     "name": "stderr",
     "output_type": "stream",
     "text": [
      "\n"
     ]
    },
    {
     "name": "stdout",
     "output_type": "stream",
     "text": [
      "\n",
      "      Epoch    GPU_mem   box_loss   seg_loss   cls_loss   dfl_loss  Instances       Size\n"
     ]
    },
    {
     "name": "stderr",
     "output_type": "stream",
     "text": [
      "     51/125      16.5G     0.4234     0.2826     0.5296     0.9377         15        640: 100%|██████████| 34/34 [00:16<00:00,  2.05it/s]\n",
      "                 Class     Images  Instances      Box(P          R      mAP50  mAP50-95)     Mask(P          R      mAP50  mAP50-95): 100%|██████████| 5/5 [00:02<00:00,  2.28it/s]"
     ]
    },
    {
     "name": "stdout",
     "output_type": "stream",
     "text": [
      "                   all        430        134      0.719      0.799      0.874      0.793      0.719      0.799      0.871      0.758\n"
     ]
    },
    {
     "name": "stderr",
     "output_type": "stream",
     "text": [
      "\n"
     ]
    },
    {
     "name": "stdout",
     "output_type": "stream",
     "text": [
      "\n",
      "      Epoch    GPU_mem   box_loss   seg_loss   cls_loss   dfl_loss  Instances       Size\n"
     ]
    },
    {
     "name": "stderr",
     "output_type": "stream",
     "text": [
      "     52/125      16.5G     0.4074     0.2572     0.5143     0.9364         16        640: 100%|██████████| 34/34 [00:16<00:00,  2.10it/s]\n",
      "                 Class     Images  Instances      Box(P          R      mAP50  mAP50-95)     Mask(P          R      mAP50  mAP50-95): 100%|██████████| 5/5 [00:01<00:00,  2.66it/s]"
     ]
    },
    {
     "name": "stdout",
     "output_type": "stream",
     "text": [
      "                   all        430        134       0.92      0.896      0.948       0.87       0.92      0.896      0.948      0.841\n"
     ]
    },
    {
     "name": "stderr",
     "output_type": "stream",
     "text": [
      "\n"
     ]
    },
    {
     "name": "stdout",
     "output_type": "stream",
     "text": [
      "\n",
      "      Epoch    GPU_mem   box_loss   seg_loss   cls_loss   dfl_loss  Instances       Size\n"
     ]
    },
    {
     "name": "stderr",
     "output_type": "stream",
     "text": [
      "     53/125      16.5G     0.3935     0.2521     0.5184     0.9266         17        640: 100%|██████████| 34/34 [00:16<00:00,  2.11it/s]\n",
      "                 Class     Images  Instances      Box(P          R      mAP50  mAP50-95)     Mask(P          R      mAP50  mAP50-95): 100%|██████████| 5/5 [00:01<00:00,  2.63it/s]"
     ]
    },
    {
     "name": "stdout",
     "output_type": "stream",
     "text": [
      "                   all        430        134      0.725      0.866      0.865      0.786      0.714      0.781      0.868      0.744\n"
     ]
    },
    {
     "name": "stderr",
     "output_type": "stream",
     "text": [
      "\n"
     ]
    },
    {
     "name": "stdout",
     "output_type": "stream",
     "text": [
      "\n",
      "      Epoch    GPU_mem   box_loss   seg_loss   cls_loss   dfl_loss  Instances       Size\n"
     ]
    },
    {
     "name": "stderr",
     "output_type": "stream",
     "text": [
      "     54/125      16.5G     0.3995     0.2733     0.4774     0.9114         12        640: 100%|██████████| 34/34 [00:15<00:00,  2.13it/s]\n",
      "                 Class     Images  Instances      Box(P          R      mAP50  mAP50-95)     Mask(P          R      mAP50  mAP50-95): 100%|██████████| 5/5 [00:01<00:00,  2.73it/s]"
     ]
    },
    {
     "name": "stdout",
     "output_type": "stream",
     "text": [
      "                   all        430        134      0.844      0.664      0.706      0.632      0.844      0.664      0.706      0.605\n"
     ]
    },
    {
     "name": "stderr",
     "output_type": "stream",
     "text": [
      "\n"
     ]
    },
    {
     "name": "stdout",
     "output_type": "stream",
     "text": [
      "\n",
      "      Epoch    GPU_mem   box_loss   seg_loss   cls_loss   dfl_loss  Instances       Size\n"
     ]
    },
    {
     "name": "stderr",
     "output_type": "stream",
     "text": [
      "     55/125      16.5G     0.4008     0.2944     0.5222      0.929          7        640: 100%|██████████| 34/34 [00:15<00:00,  2.14it/s]\n",
      "                 Class     Images  Instances      Box(P          R      mAP50  mAP50-95)     Mask(P          R      mAP50  mAP50-95): 100%|██████████| 5/5 [00:01<00:00,  2.87it/s]"
     ]
    },
    {
     "name": "stdout",
     "output_type": "stream",
     "text": [
      "                   all        430        134      0.881       0.94      0.935      0.842      0.881       0.94      0.935      0.829\n"
     ]
    },
    {
     "name": "stderr",
     "output_type": "stream",
     "text": [
      "\n"
     ]
    },
    {
     "name": "stdout",
     "output_type": "stream",
     "text": [
      "\n",
      "      Epoch    GPU_mem   box_loss   seg_loss   cls_loss   dfl_loss  Instances       Size\n"
     ]
    },
    {
     "name": "stderr",
     "output_type": "stream",
     "text": [
      "     56/125      16.5G     0.3932     0.2794     0.4994     0.9162         11        640: 100%|██████████| 34/34 [00:15<00:00,  2.14it/s]\n",
      "                 Class     Images  Instances      Box(P          R      mAP50  mAP50-95)     Mask(P          R      mAP50  mAP50-95): 100%|██████████| 5/5 [00:01<00:00,  2.75it/s]"
     ]
    },
    {
     "name": "stdout",
     "output_type": "stream",
     "text": [
      "                   all        430        134      0.856      0.881      0.925       0.84      0.856      0.881      0.925        0.8\n"
     ]
    },
    {
     "name": "stderr",
     "output_type": "stream",
     "text": [
      "\n"
     ]
    },
    {
     "name": "stdout",
     "output_type": "stream",
     "text": [
      "\n",
      "      Epoch    GPU_mem   box_loss   seg_loss   cls_loss   dfl_loss  Instances       Size\n"
     ]
    },
    {
     "name": "stderr",
     "output_type": "stream",
     "text": [
      "     57/125      16.5G     0.3838     0.2812     0.5046     0.9245         14        640: 100%|██████████| 34/34 [00:16<00:00,  2.09it/s]\n",
      "                 Class     Images  Instances      Box(P          R      mAP50  mAP50-95)     Mask(P          R      mAP50  mAP50-95): 100%|██████████| 5/5 [00:02<00:00,  2.26it/s]"
     ]
    },
    {
     "name": "stdout",
     "output_type": "stream",
     "text": [
      "                   all        430        134      0.671      0.976      0.867      0.767      0.671      0.976      0.867      0.737\n"
     ]
    },
    {
     "name": "stderr",
     "output_type": "stream",
     "text": [
      "\n"
     ]
    },
    {
     "name": "stdout",
     "output_type": "stream",
     "text": [
      "\n",
      "      Epoch    GPU_mem   box_loss   seg_loss   cls_loss   dfl_loss  Instances       Size\n"
     ]
    },
    {
     "name": "stderr",
     "output_type": "stream",
     "text": [
      "     58/125      16.5G     0.3821     0.2804     0.5031     0.9207         16        640: 100%|██████████| 34/34 [00:16<00:00,  2.04it/s]\n",
      "                 Class     Images  Instances      Box(P          R      mAP50  mAP50-95)     Mask(P          R      mAP50  mAP50-95): 100%|██████████| 5/5 [00:02<00:00,  2.26it/s]"
     ]
    },
    {
     "name": "stdout",
     "output_type": "stream",
     "text": [
      "                   all        430        134      0.953      0.866      0.941      0.878      0.953      0.866      0.941      0.846\n"
     ]
    },
    {
     "name": "stderr",
     "output_type": "stream",
     "text": [
      "\n"
     ]
    },
    {
     "name": "stdout",
     "output_type": "stream",
     "text": [
      "\n",
      "      Epoch    GPU_mem   box_loss   seg_loss   cls_loss   dfl_loss  Instances       Size\n"
     ]
    },
    {
     "name": "stderr",
     "output_type": "stream",
     "text": [
      "     59/125      16.5G     0.3909     0.2964      0.513     0.9148         21        640: 100%|██████████| 34/34 [00:16<00:00,  2.04it/s]\n",
      "                 Class     Images  Instances      Box(P          R      mAP50  mAP50-95)     Mask(P          R      mAP50  mAP50-95): 100%|██████████| 5/5 [00:02<00:00,  2.25it/s]"
     ]
    },
    {
     "name": "stdout",
     "output_type": "stream",
     "text": [
      "                   all        430        134      0.827      0.612      0.655      0.603      0.827      0.612      0.655      0.573\n"
     ]
    },
    {
     "name": "stderr",
     "output_type": "stream",
     "text": [
      "\n"
     ]
    },
    {
     "name": "stdout",
     "output_type": "stream",
     "text": [
      "\n",
      "      Epoch    GPU_mem   box_loss   seg_loss   cls_loss   dfl_loss  Instances       Size\n"
     ]
    },
    {
     "name": "stderr",
     "output_type": "stream",
     "text": [
      "     60/125      16.5G     0.3675     0.2359     0.4937     0.9143         12        640: 100%|██████████| 34/34 [00:16<00:00,  2.11it/s]\n",
      "                 Class     Images  Instances      Box(P          R      mAP50  mAP50-95)     Mask(P          R      mAP50  mAP50-95): 100%|██████████| 5/5 [00:01<00:00,  2.63it/s]"
     ]
    },
    {
     "name": "stdout",
     "output_type": "stream",
     "text": [
      "                   all        430        134      0.916        0.9      0.942      0.872      0.924      0.901      0.942      0.846\n"
     ]
    },
    {
     "name": "stderr",
     "output_type": "stream",
     "text": [
      "\n"
     ]
    },
    {
     "name": "stdout",
     "output_type": "stream",
     "text": [
      "\n",
      "      Epoch    GPU_mem   box_loss   seg_loss   cls_loss   dfl_loss  Instances       Size\n"
     ]
    },
    {
     "name": "stderr",
     "output_type": "stream",
     "text": [
      "     61/125      16.5G     0.3704     0.2552     0.4749     0.9203         12        640: 100%|██████████| 34/34 [00:15<00:00,  2.13it/s]\n",
      "                 Class     Images  Instances      Box(P          R      mAP50  mAP50-95)     Mask(P          R      mAP50  mAP50-95): 100%|██████████| 5/5 [00:01<00:00,  2.71it/s]"
     ]
    },
    {
     "name": "stdout",
     "output_type": "stream",
     "text": [
      "                   all        430        134      0.848      0.649       0.86      0.794      0.848      0.649       0.86      0.756\n"
     ]
    },
    {
     "name": "stderr",
     "output_type": "stream",
     "text": [
      "\n"
     ]
    },
    {
     "name": "stdout",
     "output_type": "stream",
     "text": [
      "\n",
      "      Epoch    GPU_mem   box_loss   seg_loss   cls_loss   dfl_loss  Instances       Size\n"
     ]
    },
    {
     "name": "stderr",
     "output_type": "stream",
     "text": [
      "     62/125      16.5G      0.389       0.31     0.4899     0.9195         10        640: 100%|██████████| 34/34 [00:15<00:00,  2.13it/s]\n",
      "                 Class     Images  Instances      Box(P          R      mAP50  mAP50-95)     Mask(P          R      mAP50  mAP50-95): 100%|██████████| 5/5 [00:01<00:00,  2.80it/s]"
     ]
    },
    {
     "name": "stdout",
     "output_type": "stream",
     "text": [
      "                   all        430        134      0.861      0.948      0.939       0.87      0.861      0.948      0.939      0.837\n"
     ]
    },
    {
     "name": "stderr",
     "output_type": "stream",
     "text": [
      "\n"
     ]
    },
    {
     "name": "stdout",
     "output_type": "stream",
     "text": [
      "\n",
      "      Epoch    GPU_mem   box_loss   seg_loss   cls_loss   dfl_loss  Instances       Size\n"
     ]
    },
    {
     "name": "stderr",
     "output_type": "stream",
     "text": [
      "     63/125      16.5G     0.3792     0.2663     0.4691     0.9151         21        640: 100%|██████████| 34/34 [00:15<00:00,  2.13it/s]\n",
      "                 Class     Images  Instances      Box(P          R      mAP50  mAP50-95)     Mask(P          R      mAP50  mAP50-95): 100%|██████████| 5/5 [00:01<00:00,  2.62it/s]"
     ]
    },
    {
     "name": "stdout",
     "output_type": "stream",
     "text": [
      "                   all        430        134      0.849      0.631      0.696      0.623      0.849      0.631      0.696       0.58\n"
     ]
    },
    {
     "name": "stderr",
     "output_type": "stream",
     "text": [
      "\n"
     ]
    },
    {
     "name": "stdout",
     "output_type": "stream",
     "text": [
      "\n",
      "      Epoch    GPU_mem   box_loss   seg_loss   cls_loss   dfl_loss  Instances       Size\n"
     ]
    },
    {
     "name": "stderr",
     "output_type": "stream",
     "text": [
      "     64/125      16.5G     0.3898     0.2714     0.4829     0.9196         16        640: 100%|██████████| 34/34 [00:15<00:00,  2.14it/s]\n",
      "                 Class     Images  Instances      Box(P          R      mAP50  mAP50-95)     Mask(P          R      mAP50  mAP50-95): 100%|██████████| 5/5 [00:01<00:00,  2.84it/s]"
     ]
    },
    {
     "name": "stdout",
     "output_type": "stream",
     "text": [
      "                   all        430        134      0.961      0.851      0.957      0.883      0.961      0.851      0.957      0.849\n"
     ]
    },
    {
     "name": "stderr",
     "output_type": "stream",
     "text": [
      "\n"
     ]
    },
    {
     "name": "stdout",
     "output_type": "stream",
     "text": [
      "\n",
      "      Epoch    GPU_mem   box_loss   seg_loss   cls_loss   dfl_loss  Instances       Size\n"
     ]
    },
    {
     "name": "stderr",
     "output_type": "stream",
     "text": [
      "     65/125      16.5G     0.3616     0.2677     0.4497     0.9129         15        640: 100%|██████████| 34/34 [00:15<00:00,  2.14it/s]\n",
      "                 Class     Images  Instances      Box(P          R      mAP50  mAP50-95)     Mask(P          R      mAP50  mAP50-95): 100%|██████████| 5/5 [00:01<00:00,  2.66it/s]"
     ]
    },
    {
     "name": "stdout",
     "output_type": "stream",
     "text": [
      "                   all        430        134      0.899      0.918      0.942      0.871      0.899      0.918      0.942      0.833\n"
     ]
    },
    {
     "name": "stderr",
     "output_type": "stream",
     "text": [
      "\n"
     ]
    },
    {
     "name": "stdout",
     "output_type": "stream",
     "text": [
      "\n",
      "      Epoch    GPU_mem   box_loss   seg_loss   cls_loss   dfl_loss  Instances       Size\n"
     ]
    },
    {
     "name": "stderr",
     "output_type": "stream",
     "text": [
      "     66/125      16.5G     0.3594       0.27     0.4482     0.9074         15        640: 100%|██████████| 34/34 [00:15<00:00,  2.14it/s]\n",
      "                 Class     Images  Instances      Box(P          R      mAP50  mAP50-95)     Mask(P          R      mAP50  mAP50-95): 100%|██████████| 5/5 [00:01<00:00,  3.01it/s]"
     ]
    },
    {
     "name": "stdout",
     "output_type": "stream",
     "text": [
      "                   all        430        134      0.831      0.918      0.921      0.864      0.831      0.918      0.921      0.817\n"
     ]
    },
    {
     "name": "stderr",
     "output_type": "stream",
     "text": [
      "\n"
     ]
    },
    {
     "name": "stdout",
     "output_type": "stream",
     "text": [
      "\n",
      "      Epoch    GPU_mem   box_loss   seg_loss   cls_loss   dfl_loss  Instances       Size\n"
     ]
    },
    {
     "name": "stderr",
     "output_type": "stream",
     "text": [
      "     67/125      16.5G      0.363     0.2312     0.4263     0.9092         11        640: 100%|██████████| 34/34 [00:15<00:00,  2.13it/s]\n",
      "                 Class     Images  Instances      Box(P          R      mAP50  mAP50-95)     Mask(P          R      mAP50  mAP50-95): 100%|██████████| 5/5 [00:01<00:00,  2.87it/s]"
     ]
    },
    {
     "name": "stdout",
     "output_type": "stream",
     "text": [
      "                   all        430        134      0.922      0.664      0.699      0.638      0.922      0.664      0.699       0.61\n"
     ]
    },
    {
     "name": "stderr",
     "output_type": "stream",
     "text": [
      "\n"
     ]
    },
    {
     "name": "stdout",
     "output_type": "stream",
     "text": [
      "\n",
      "      Epoch    GPU_mem   box_loss   seg_loss   cls_loss   dfl_loss  Instances       Size\n"
     ]
    },
    {
     "name": "stderr",
     "output_type": "stream",
     "text": [
      "     68/125      16.5G     0.3584     0.2319     0.4303     0.9198         12        640: 100%|██████████| 34/34 [00:15<00:00,  2.13it/s]\n",
      "                 Class     Images  Instances      Box(P          R      mAP50  mAP50-95)     Mask(P          R      mAP50  mAP50-95): 100%|██████████| 5/5 [00:01<00:00,  2.93it/s]"
     ]
    },
    {
     "name": "stdout",
     "output_type": "stream",
     "text": [
      "                   all        430        134      0.952       0.89      0.957      0.897      0.952       0.89      0.959      0.869\n"
     ]
    },
    {
     "name": "stderr",
     "output_type": "stream",
     "text": [
      "\n"
     ]
    },
    {
     "name": "stdout",
     "output_type": "stream",
     "text": [
      "\n",
      "      Epoch    GPU_mem   box_loss   seg_loss   cls_loss   dfl_loss  Instances       Size\n"
     ]
    },
    {
     "name": "stderr",
     "output_type": "stream",
     "text": [
      "     69/125      16.5G     0.3473      0.235     0.4185     0.9001         15        640: 100%|██████████| 34/34 [00:15<00:00,  2.14it/s]\n",
      "                 Class     Images  Instances      Box(P          R      mAP50  mAP50-95)     Mask(P          R      mAP50  mAP50-95): 100%|██████████| 5/5 [00:01<00:00,  2.73it/s]"
     ]
    },
    {
     "name": "stdout",
     "output_type": "stream",
     "text": [
      "                   all        430        134      0.953       0.91       0.97      0.914      0.953       0.91       0.97      0.879\n"
     ]
    },
    {
     "name": "stderr",
     "output_type": "stream",
     "text": [
      "\n"
     ]
    },
    {
     "name": "stdout",
     "output_type": "stream",
     "text": [
      "\n",
      "      Epoch    GPU_mem   box_loss   seg_loss   cls_loss   dfl_loss  Instances       Size\n"
     ]
    },
    {
     "name": "stderr",
     "output_type": "stream",
     "text": [
      "     70/125      16.5G     0.3688     0.2719     0.4447      0.907         14        640: 100%|██████████| 34/34 [00:15<00:00,  2.14it/s]\n",
      "                 Class     Images  Instances      Box(P          R      mAP50  mAP50-95)     Mask(P          R      mAP50  mAP50-95): 100%|██████████| 5/5 [00:01<00:00,  2.79it/s]"
     ]
    },
    {
     "name": "stdout",
     "output_type": "stream",
     "text": [
      "                   all        430        134      0.923      0.933      0.967      0.909      0.923      0.933      0.967      0.877\n"
     ]
    },
    {
     "name": "stderr",
     "output_type": "stream",
     "text": [
      "\n"
     ]
    },
    {
     "name": "stdout",
     "output_type": "stream",
     "text": [
      "\n",
      "      Epoch    GPU_mem   box_loss   seg_loss   cls_loss   dfl_loss  Instances       Size\n"
     ]
    },
    {
     "name": "stderr",
     "output_type": "stream",
     "text": [
      "     71/125      16.5G     0.3513     0.2852     0.4271     0.9027         11        640: 100%|██████████| 34/34 [00:15<00:00,  2.14it/s]\n",
      "                 Class     Images  Instances      Box(P          R      mAP50  mAP50-95)     Mask(P          R      mAP50  mAP50-95): 100%|██████████| 5/5 [00:01<00:00,  2.68it/s]"
     ]
    },
    {
     "name": "stdout",
     "output_type": "stream",
     "text": [
      "                   all        430        134      0.873      0.669      0.734       0.67      0.873      0.669      0.732      0.634\n"
     ]
    },
    {
     "name": "stderr",
     "output_type": "stream",
     "text": [
      "\n"
     ]
    },
    {
     "name": "stdout",
     "output_type": "stream",
     "text": [
      "\n",
      "      Epoch    GPU_mem   box_loss   seg_loss   cls_loss   dfl_loss  Instances       Size\n"
     ]
    },
    {
     "name": "stderr",
     "output_type": "stream",
     "text": [
      "     72/125      16.5G     0.3567     0.2529     0.4304     0.9108         12        640: 100%|██████████| 34/34 [00:15<00:00,  2.14it/s]\n",
      "                 Class     Images  Instances      Box(P          R      mAP50  mAP50-95)     Mask(P          R      mAP50  mAP50-95): 100%|██████████| 5/5 [00:01<00:00,  2.74it/s]"
     ]
    },
    {
     "name": "stdout",
     "output_type": "stream",
     "text": [
      "                   all        430        134      0.929      0.664      0.714      0.657      0.929      0.664      0.714      0.634\n"
     ]
    },
    {
     "name": "stderr",
     "output_type": "stream",
     "text": [
      "\n"
     ]
    },
    {
     "name": "stdout",
     "output_type": "stream",
     "text": [
      "\n",
      "      Epoch    GPU_mem   box_loss   seg_loss   cls_loss   dfl_loss  Instances       Size\n"
     ]
    },
    {
     "name": "stderr",
     "output_type": "stream",
     "text": [
      "     73/125      16.5G     0.3576     0.2669     0.4662     0.9062          5        640: 100%|██████████| 34/34 [00:15<00:00,  2.13it/s]\n",
      "                 Class     Images  Instances      Box(P          R      mAP50  mAP50-95)     Mask(P          R      mAP50  mAP50-95): 100%|██████████| 5/5 [00:01<00:00,  2.63it/s]"
     ]
    },
    {
     "name": "stdout",
     "output_type": "stream",
     "text": [
      "                   all        430        134      0.905      0.925      0.947      0.895      0.905      0.925      0.947      0.863\n"
     ]
    },
    {
     "name": "stderr",
     "output_type": "stream",
     "text": [
      "\n"
     ]
    },
    {
     "name": "stdout",
     "output_type": "stream",
     "text": [
      "\n",
      "      Epoch    GPU_mem   box_loss   seg_loss   cls_loss   dfl_loss  Instances       Size\n"
     ]
    },
    {
     "name": "stderr",
     "output_type": "stream",
     "text": [
      "     74/125      16.5G     0.3357     0.2503      0.425     0.8965         16        640: 100%|██████████| 34/34 [00:15<00:00,  2.13it/s]\n",
      "                 Class     Images  Instances      Box(P          R      mAP50  mAP50-95)     Mask(P          R      mAP50  mAP50-95): 100%|██████████| 5/5 [00:01<00:00,  3.11it/s]"
     ]
    },
    {
     "name": "stdout",
     "output_type": "stream",
     "text": [
      "                   all        430        134      0.915      0.664       0.84      0.788      0.915      0.664       0.84      0.745\n"
     ]
    },
    {
     "name": "stderr",
     "output_type": "stream",
     "text": [
      "\n"
     ]
    },
    {
     "name": "stdout",
     "output_type": "stream",
     "text": [
      "\n",
      "      Epoch    GPU_mem   box_loss   seg_loss   cls_loss   dfl_loss  Instances       Size\n"
     ]
    },
    {
     "name": "stderr",
     "output_type": "stream",
     "text": [
      "     75/125      16.5G     0.3437     0.2483     0.3942      0.911         15        640: 100%|██████████| 34/34 [00:15<00:00,  2.18it/s]\n",
      "                 Class     Images  Instances      Box(P          R      mAP50  mAP50-95)     Mask(P          R      mAP50  mAP50-95): 100%|██████████| 5/5 [00:01<00:00,  2.99it/s]"
     ]
    },
    {
     "name": "stdout",
     "output_type": "stream",
     "text": [
      "                   all        430        134      0.963      0.918       0.97      0.919      0.963      0.918       0.97      0.895\n"
     ]
    },
    {
     "name": "stderr",
     "output_type": "stream",
     "text": [
      "\n"
     ]
    },
    {
     "name": "stdout",
     "output_type": "stream",
     "text": [
      "\n",
      "      Epoch    GPU_mem   box_loss   seg_loss   cls_loss   dfl_loss  Instances       Size\n"
     ]
    },
    {
     "name": "stderr",
     "output_type": "stream",
     "text": [
      "     76/125      16.5G      0.335     0.2419      0.382     0.9019         13        640: 100%|██████████| 34/34 [00:16<00:00,  2.01it/s]\n",
      "                 Class     Images  Instances      Box(P          R      mAP50  mAP50-95)     Mask(P          R      mAP50  mAP50-95): 100%|██████████| 5/5 [00:01<00:00,  2.52it/s]"
     ]
    },
    {
     "name": "stdout",
     "output_type": "stream",
     "text": [
      "                   all        430        134      0.933      0.918      0.963      0.918      0.933      0.918      0.963      0.885\n"
     ]
    },
    {
     "name": "stderr",
     "output_type": "stream",
     "text": [
      "\n"
     ]
    },
    {
     "name": "stdout",
     "output_type": "stream",
     "text": [
      "\n",
      "      Epoch    GPU_mem   box_loss   seg_loss   cls_loss   dfl_loss  Instances       Size\n"
     ]
    },
    {
     "name": "stderr",
     "output_type": "stream",
     "text": [
      "     77/125      16.5G     0.3329     0.2379     0.3918     0.8985         13        640: 100%|██████████| 34/34 [00:16<00:00,  2.04it/s]\n",
      "                 Class     Images  Instances      Box(P          R      mAP50  mAP50-95)     Mask(P          R      mAP50  mAP50-95): 100%|██████████| 5/5 [00:02<00:00,  2.38it/s]"
     ]
    },
    {
     "name": "stdout",
     "output_type": "stream",
     "text": [
      "                   all        430        134       0.91      0.642      0.889      0.827       0.91      0.642      0.889      0.787\n"
     ]
    },
    {
     "name": "stderr",
     "output_type": "stream",
     "text": [
      "\n"
     ]
    },
    {
     "name": "stdout",
     "output_type": "stream",
     "text": [
      "\n",
      "      Epoch    GPU_mem   box_loss   seg_loss   cls_loss   dfl_loss  Instances       Size\n"
     ]
    },
    {
     "name": "stderr",
     "output_type": "stream",
     "text": [
      "     78/125      16.5G     0.3366      0.246     0.4061     0.8971         21        640: 100%|██████████| 34/34 [00:16<00:00,  2.04it/s]\n",
      "                 Class     Images  Instances      Box(P          R      mAP50  mAP50-95)     Mask(P          R      mAP50  mAP50-95): 100%|██████████| 5/5 [00:02<00:00,  2.35it/s]"
     ]
    },
    {
     "name": "stdout",
     "output_type": "stream",
     "text": [
      "                   all        430        134      0.971      0.896      0.964      0.908      0.971      0.896      0.964      0.878\n"
     ]
    },
    {
     "name": "stderr",
     "output_type": "stream",
     "text": [
      "\n"
     ]
    },
    {
     "name": "stdout",
     "output_type": "stream",
     "text": [
      "\n",
      "      Epoch    GPU_mem   box_loss   seg_loss   cls_loss   dfl_loss  Instances       Size\n"
     ]
    },
    {
     "name": "stderr",
     "output_type": "stream",
     "text": [
      "     79/125      16.5G     0.3401     0.2646     0.3985     0.8998         24        640: 100%|██████████| 34/34 [00:16<00:00,  2.08it/s]\n",
      "                 Class     Images  Instances      Box(P          R      mAP50  mAP50-95)     Mask(P          R      mAP50  mAP50-95): 100%|██████████| 5/5 [00:02<00:00,  2.28it/s]"
     ]
    },
    {
     "name": "stdout",
     "output_type": "stream",
     "text": [
      "                   all        430        134      0.963      0.881      0.938      0.893      0.963      0.881      0.938      0.866\n"
     ]
    },
    {
     "name": "stderr",
     "output_type": "stream",
     "text": [
      "\n"
     ]
    },
    {
     "name": "stdout",
     "output_type": "stream",
     "text": [
      "\n",
      "      Epoch    GPU_mem   box_loss   seg_loss   cls_loss   dfl_loss  Instances       Size\n"
     ]
    },
    {
     "name": "stderr",
     "output_type": "stream",
     "text": [
      "     80/125      16.5G     0.3325     0.2416     0.3861     0.9023         21        640: 100%|██████████| 34/34 [00:16<00:00,  2.12it/s]\n",
      "                 Class     Images  Instances      Box(P          R      mAP50  mAP50-95)     Mask(P          R      mAP50  mAP50-95): 100%|██████████| 5/5 [00:01<00:00,  2.67it/s]"
     ]
    },
    {
     "name": "stdout",
     "output_type": "stream",
     "text": [
      "                   all        430        134      0.937      0.925      0.953      0.902      0.937      0.925      0.953       0.87\n"
     ]
    },
    {
     "name": "stderr",
     "output_type": "stream",
     "text": [
      "\n"
     ]
    },
    {
     "name": "stdout",
     "output_type": "stream",
     "text": [
      "\n",
      "      Epoch    GPU_mem   box_loss   seg_loss   cls_loss   dfl_loss  Instances       Size\n"
     ]
    },
    {
     "name": "stderr",
     "output_type": "stream",
     "text": [
      "     81/125      16.5G     0.3239     0.2414      0.387     0.8972         18        640: 100%|██████████| 34/34 [00:15<00:00,  2.15it/s]\n",
      "                 Class     Images  Instances      Box(P          R      mAP50  mAP50-95)     Mask(P          R      mAP50  mAP50-95): 100%|██████████| 5/5 [00:01<00:00,  3.09it/s]"
     ]
    },
    {
     "name": "stdout",
     "output_type": "stream",
     "text": [
      "                   all        430        134       0.72      0.896      0.893      0.838       0.72      0.896      0.893      0.805\n"
     ]
    },
    {
     "name": "stderr",
     "output_type": "stream",
     "text": [
      "\n"
     ]
    },
    {
     "name": "stdout",
     "output_type": "stream",
     "text": [
      "\n",
      "      Epoch    GPU_mem   box_loss   seg_loss   cls_loss   dfl_loss  Instances       Size\n"
     ]
    },
    {
     "name": "stderr",
     "output_type": "stream",
     "text": [
      "     82/125      16.5G     0.3315     0.2377     0.3853     0.9048         17        640: 100%|██████████| 34/34 [00:15<00:00,  2.15it/s]\n",
      "                 Class     Images  Instances      Box(P          R      mAP50  mAP50-95)     Mask(P          R      mAP50  mAP50-95): 100%|██████████| 5/5 [00:01<00:00,  3.00it/s]"
     ]
    },
    {
     "name": "stdout",
     "output_type": "stream",
     "text": [
      "                   all        430        134       0.92      0.933       0.94      0.878       0.92      0.933       0.94      0.841\n"
     ]
    },
    {
     "name": "stderr",
     "output_type": "stream",
     "text": [
      "\n"
     ]
    },
    {
     "name": "stdout",
     "output_type": "stream",
     "text": [
      "\n",
      "      Epoch    GPU_mem   box_loss   seg_loss   cls_loss   dfl_loss  Instances       Size\n"
     ]
    },
    {
     "name": "stderr",
     "output_type": "stream",
     "text": [
      "     83/125      16.5G     0.3358     0.2236     0.4151     0.8912         11        640: 100%|██████████| 34/34 [00:15<00:00,  2.15it/s]\n",
      "                 Class     Images  Instances      Box(P          R      mAP50  mAP50-95)     Mask(P          R      mAP50  mAP50-95): 100%|██████████| 5/5 [00:01<00:00,  2.76it/s]"
     ]
    },
    {
     "name": "stdout",
     "output_type": "stream",
     "text": [
      "                   all        430        134       0.91      0.677      0.858      0.788       0.91      0.677      0.858      0.751\n"
     ]
    },
    {
     "name": "stderr",
     "output_type": "stream",
     "text": [
      "\n"
     ]
    },
    {
     "name": "stdout",
     "output_type": "stream",
     "text": [
      "\n",
      "      Epoch    GPU_mem   box_loss   seg_loss   cls_loss   dfl_loss  Instances       Size\n"
     ]
    },
    {
     "name": "stderr",
     "output_type": "stream",
     "text": [
      "     84/125      16.5G      0.322     0.2493     0.3845     0.8977         16        640: 100%|██████████| 34/34 [00:15<00:00,  2.18it/s]\n",
      "                 Class     Images  Instances      Box(P          R      mAP50  mAP50-95)     Mask(P          R      mAP50  mAP50-95): 100%|██████████| 5/5 [00:01<00:00,  3.00it/s]"
     ]
    },
    {
     "name": "stdout",
     "output_type": "stream",
     "text": [
      "                   all        430        134      0.956      0.925       0.96      0.896      0.956      0.925       0.96      0.855\n"
     ]
    },
    {
     "name": "stderr",
     "output_type": "stream",
     "text": [
      "\n"
     ]
    },
    {
     "name": "stdout",
     "output_type": "stream",
     "text": [
      "\n",
      "      Epoch    GPU_mem   box_loss   seg_loss   cls_loss   dfl_loss  Instances       Size\n"
     ]
    },
    {
     "name": "stderr",
     "output_type": "stream",
     "text": [
      "     85/125      16.5G     0.3206     0.2392      0.383     0.8956         17        640: 100%|██████████| 34/34 [00:15<00:00,  2.18it/s]\n",
      "                 Class     Images  Instances      Box(P          R      mAP50  mAP50-95)     Mask(P          R      mAP50  mAP50-95): 100%|██████████| 5/5 [00:01<00:00,  2.74it/s]"
     ]
    },
    {
     "name": "stdout",
     "output_type": "stream",
     "text": [
      "                   all        430        134      0.928      0.918       0.96      0.904      0.928      0.918       0.96      0.881\n"
     ]
    },
    {
     "name": "stderr",
     "output_type": "stream",
     "text": [
      "\n"
     ]
    },
    {
     "name": "stdout",
     "output_type": "stream",
     "text": [
      "\n",
      "      Epoch    GPU_mem   box_loss   seg_loss   cls_loss   dfl_loss  Instances       Size\n"
     ]
    },
    {
     "name": "stderr",
     "output_type": "stream",
     "text": [
      "     86/125      16.5G     0.3005     0.2499     0.3438     0.8814          7        640: 100%|██████████| 34/34 [00:15<00:00,  2.19it/s]\n",
      "                 Class     Images  Instances      Box(P          R      mAP50  mAP50-95)     Mask(P          R      mAP50  mAP50-95): 100%|██████████| 5/5 [00:01<00:00,  2.77it/s]"
     ]
    },
    {
     "name": "stdout",
     "output_type": "stream",
     "text": [
      "                   all        430        134      0.909      0.672      0.713      0.661      0.909      0.672      0.713      0.627\n"
     ]
    },
    {
     "name": "stderr",
     "output_type": "stream",
     "text": [
      "\n"
     ]
    },
    {
     "name": "stdout",
     "output_type": "stream",
     "text": [
      "\n",
      "      Epoch    GPU_mem   box_loss   seg_loss   cls_loss   dfl_loss  Instances       Size\n"
     ]
    },
    {
     "name": "stderr",
     "output_type": "stream",
     "text": [
      "     87/125      16.5G     0.3099     0.2183     0.3578     0.8822         12        640: 100%|██████████| 34/34 [00:16<00:00,  2.03it/s]\n",
      "                 Class     Images  Instances      Box(P          R      mAP50  mAP50-95)     Mask(P          R      mAP50  mAP50-95): 100%|██████████| 5/5 [00:02<00:00,  2.48it/s]"
     ]
    },
    {
     "name": "stdout",
     "output_type": "stream",
     "text": [
      "                   all        430        134      0.759      0.836      0.883      0.818      0.767      0.843      0.885      0.783\n"
     ]
    },
    {
     "name": "stderr",
     "output_type": "stream",
     "text": [
      "\n"
     ]
    },
    {
     "name": "stdout",
     "output_type": "stream",
     "text": [
      "\n",
      "      Epoch    GPU_mem   box_loss   seg_loss   cls_loss   dfl_loss  Instances       Size\n"
     ]
    },
    {
     "name": "stderr",
     "output_type": "stream",
     "text": [
      "     88/125      16.5G     0.3251     0.2375     0.3701      0.897         23        640: 100%|██████████| 34/34 [00:16<00:00,  2.11it/s]\n",
      "                 Class     Images  Instances      Box(P          R      mAP50  mAP50-95)     Mask(P          R      mAP50  mAP50-95): 100%|██████████| 5/5 [00:02<00:00,  2.43it/s]"
     ]
    },
    {
     "name": "stdout",
     "output_type": "stream",
     "text": [
      "                   all        430        134       0.93      0.657      0.791      0.735       0.93      0.657      0.791      0.699\n"
     ]
    },
    {
     "name": "stderr",
     "output_type": "stream",
     "text": [
      "\n"
     ]
    },
    {
     "name": "stdout",
     "output_type": "stream",
     "text": [
      "\n",
      "      Epoch    GPU_mem   box_loss   seg_loss   cls_loss   dfl_loss  Instances       Size\n"
     ]
    },
    {
     "name": "stderr",
     "output_type": "stream",
     "text": [
      "     89/125      16.5G     0.3041     0.2286     0.3508     0.8856         12        640: 100%|██████████| 34/34 [00:15<00:00,  2.13it/s]\n",
      "                 Class     Images  Instances      Box(P          R      mAP50  mAP50-95)     Mask(P          R      mAP50  mAP50-95): 100%|██████████| 5/5 [00:01<00:00,  2.67it/s]"
     ]
    },
    {
     "name": "stdout",
     "output_type": "stream",
     "text": [
      "                   all        430        134       0.96       0.94      0.941      0.886       0.96       0.94      0.941       0.84\n"
     ]
    },
    {
     "name": "stderr",
     "output_type": "stream",
     "text": [
      "\n"
     ]
    },
    {
     "name": "stdout",
     "output_type": "stream",
     "text": [
      "\n",
      "      Epoch    GPU_mem   box_loss   seg_loss   cls_loss   dfl_loss  Instances       Size\n"
     ]
    },
    {
     "name": "stderr",
     "output_type": "stream",
     "text": [
      "     90/125      16.5G     0.3036     0.2027     0.3598     0.8885         16        640: 100%|██████████| 34/34 [00:15<00:00,  2.17it/s]\n",
      "                 Class     Images  Instances      Box(P          R      mAP50  mAP50-95)     Mask(P          R      mAP50  mAP50-95): 100%|██████████| 5/5 [00:01<00:00,  2.69it/s]"
     ]
    },
    {
     "name": "stdout",
     "output_type": "stream",
     "text": [
      "                   all        430        134      0.938      0.903      0.959      0.909      0.938      0.903      0.959       0.88\n"
     ]
    },
    {
     "name": "stderr",
     "output_type": "stream",
     "text": [
      "\n"
     ]
    },
    {
     "name": "stdout",
     "output_type": "stream",
     "text": [
      "\n",
      "      Epoch    GPU_mem   box_loss   seg_loss   cls_loss   dfl_loss  Instances       Size\n"
     ]
    },
    {
     "name": "stderr",
     "output_type": "stream",
     "text": [
      "     91/125      16.5G     0.2979     0.2406     0.3672     0.8945          9        640: 100%|██████████| 34/34 [00:15<00:00,  2.19it/s]\n",
      "                 Class     Images  Instances      Box(P          R      mAP50  mAP50-95)     Mask(P          R      mAP50  mAP50-95): 100%|██████████| 5/5 [00:01<00:00,  2.67it/s]"
     ]
    },
    {
     "name": "stdout",
     "output_type": "stream",
     "text": [
      "                   all        430        134      0.958       0.91      0.966      0.916      0.958       0.91      0.966      0.888\n"
     ]
    },
    {
     "name": "stderr",
     "output_type": "stream",
     "text": [
      "\n"
     ]
    },
    {
     "name": "stdout",
     "output_type": "stream",
     "text": [
      "\n",
      "      Epoch    GPU_mem   box_loss   seg_loss   cls_loss   dfl_loss  Instances       Size\n"
     ]
    },
    {
     "name": "stderr",
     "output_type": "stream",
     "text": [
      "     92/125      16.5G     0.3037     0.2277     0.3489     0.8935         15        640: 100%|██████████| 34/34 [00:15<00:00,  2.18it/s]\n",
      "                 Class     Images  Instances      Box(P          R      mAP50  mAP50-95)     Mask(P          R      mAP50  mAP50-95): 100%|██████████| 5/5 [00:01<00:00,  2.79it/s]"
     ]
    },
    {
     "name": "stdout",
     "output_type": "stream",
     "text": [
      "                   all        430        134      0.939      0.664      0.851      0.796      0.939      0.664      0.851      0.761\n"
     ]
    },
    {
     "name": "stderr",
     "output_type": "stream",
     "text": [
      "\n"
     ]
    },
    {
     "name": "stdout",
     "output_type": "stream",
     "text": [
      "\n",
      "      Epoch    GPU_mem   box_loss   seg_loss   cls_loss   dfl_loss  Instances       Size\n"
     ]
    },
    {
     "name": "stderr",
     "output_type": "stream",
     "text": [
      "     93/125      16.5G     0.2931     0.2418     0.3407     0.8811          9        640: 100%|██████████| 34/34 [00:15<00:00,  2.18it/s]\n",
      "                 Class     Images  Instances      Box(P          R      mAP50  mAP50-95)     Mask(P          R      mAP50  mAP50-95): 100%|██████████| 5/5 [00:01<00:00,  2.71it/s]"
     ]
    },
    {
     "name": "stdout",
     "output_type": "stream",
     "text": [
      "                   all        430        134      0.935      0.918      0.954      0.899      0.935      0.918      0.954      0.868\n"
     ]
    },
    {
     "name": "stderr",
     "output_type": "stream",
     "text": [
      "\n"
     ]
    },
    {
     "name": "stdout",
     "output_type": "stream",
     "text": [
      "\n",
      "      Epoch    GPU_mem   box_loss   seg_loss   cls_loss   dfl_loss  Instances       Size\n"
     ]
    },
    {
     "name": "stderr",
     "output_type": "stream",
     "text": [
      "     94/125      16.5G     0.2892     0.2191     0.3321     0.8771         13        640: 100%|██████████| 34/34 [00:15<00:00,  2.18it/s]\n",
      "                 Class     Images  Instances      Box(P          R      mAP50  mAP50-95)     Mask(P          R      mAP50  mAP50-95): 100%|██████████| 5/5 [00:01<00:00,  3.26it/s]"
     ]
    },
    {
     "name": "stdout",
     "output_type": "stream",
     "text": [
      "                   all        430        134      0.811      0.767       0.92       0.87      0.811      0.767       0.92      0.835\n"
     ]
    },
    {
     "name": "stderr",
     "output_type": "stream",
     "text": [
      "\n"
     ]
    },
    {
     "name": "stdout",
     "output_type": "stream",
     "text": [
      "\n",
      "      Epoch    GPU_mem   box_loss   seg_loss   cls_loss   dfl_loss  Instances       Size\n"
     ]
    },
    {
     "name": "stderr",
     "output_type": "stream",
     "text": [
      "     95/125      16.5G      0.291     0.2152     0.3097      0.888         18        640: 100%|██████████| 34/34 [00:15<00:00,  2.13it/s]\n",
      "                 Class     Images  Instances      Box(P          R      mAP50  mAP50-95)     Mask(P          R      mAP50  mAP50-95): 100%|██████████| 5/5 [00:01<00:00,  3.00it/s]"
     ]
    },
    {
     "name": "stdout",
     "output_type": "stream",
     "text": [
      "                   all        430        134       0.96      0.907      0.964      0.917       0.96      0.907      0.964      0.888\n"
     ]
    },
    {
     "name": "stderr",
     "output_type": "stream",
     "text": [
      "\n"
     ]
    },
    {
     "name": "stdout",
     "output_type": "stream",
     "text": [
      "\n",
      "      Epoch    GPU_mem   box_loss   seg_loss   cls_loss   dfl_loss  Instances       Size\n"
     ]
    },
    {
     "name": "stderr",
     "output_type": "stream",
     "text": [
      "     96/125      16.5G     0.3004     0.2169     0.3446     0.8859         14        640: 100%|██████████| 34/34 [00:15<00:00,  2.18it/s]\n",
      "                 Class     Images  Instances      Box(P          R      mAP50  mAP50-95)     Mask(P          R      mAP50  mAP50-95): 100%|██████████| 5/5 [00:01<00:00,  2.69it/s]"
     ]
    },
    {
     "name": "stdout",
     "output_type": "stream",
     "text": [
      "                   all        430        134      0.953      0.912      0.957      0.902      0.953      0.912      0.957      0.865\n"
     ]
    },
    {
     "name": "stderr",
     "output_type": "stream",
     "text": [
      "\n"
     ]
    },
    {
     "name": "stdout",
     "output_type": "stream",
     "text": [
      "\n",
      "      Epoch    GPU_mem   box_loss   seg_loss   cls_loss   dfl_loss  Instances       Size\n"
     ]
    },
    {
     "name": "stderr",
     "output_type": "stream",
     "text": [
      "     97/125      16.5G      0.284      0.233     0.3336     0.8861         12        640: 100%|██████████| 34/34 [00:15<00:00,  2.18it/s]\n",
      "                 Class     Images  Instances      Box(P          R      mAP50  mAP50-95)     Mask(P          R      mAP50  mAP50-95): 100%|██████████| 5/5 [00:01<00:00,  2.92it/s]"
     ]
    },
    {
     "name": "stdout",
     "output_type": "stream",
     "text": [
      "                   all        430        134      0.906      0.687      0.742        0.7      0.906      0.687      0.742      0.659\n"
     ]
    },
    {
     "name": "stderr",
     "output_type": "stream",
     "text": [
      "\n"
     ]
    },
    {
     "name": "stdout",
     "output_type": "stream",
     "text": [
      "\n",
      "      Epoch    GPU_mem   box_loss   seg_loss   cls_loss   dfl_loss  Instances       Size\n"
     ]
    },
    {
     "name": "stderr",
     "output_type": "stream",
     "text": [
      "     98/125      16.5G     0.2844     0.2194     0.3237     0.8802         17        640: 100%|██████████| 34/34 [00:15<00:00,  2.19it/s]\n",
      "                 Class     Images  Instances      Box(P          R      mAP50  mAP50-95)     Mask(P          R      mAP50  mAP50-95): 100%|██████████| 5/5 [00:01<00:00,  2.80it/s]"
     ]
    },
    {
     "name": "stdout",
     "output_type": "stream",
     "text": [
      "                   all        430        134      0.969      0.922       0.97      0.921      0.969      0.922       0.97      0.881\n"
     ]
    },
    {
     "name": "stderr",
     "output_type": "stream",
     "text": [
      "\n"
     ]
    },
    {
     "name": "stdout",
     "output_type": "stream",
     "text": [
      "\n",
      "      Epoch    GPU_mem   box_loss   seg_loss   cls_loss   dfl_loss  Instances       Size\n"
     ]
    },
    {
     "name": "stderr",
     "output_type": "stream",
     "text": [
      "     99/125      16.5G     0.2843     0.2314     0.3301     0.8787         17        640: 100%|██████████| 34/34 [00:15<00:00,  2.18it/s]\n",
      "                 Class     Images  Instances      Box(P          R      mAP50  mAP50-95)     Mask(P          R      mAP50  mAP50-95): 100%|██████████| 5/5 [00:01<00:00,  2.68it/s]"
     ]
    },
    {
     "name": "stdout",
     "output_type": "stream",
     "text": [
      "                   all        430        134      0.955      0.925      0.974      0.924      0.955      0.925      0.974      0.892\n"
     ]
    },
    {
     "name": "stderr",
     "output_type": "stream",
     "text": [
      "\n"
     ]
    },
    {
     "name": "stdout",
     "output_type": "stream",
     "text": [
      "\n",
      "      Epoch    GPU_mem   box_loss   seg_loss   cls_loss   dfl_loss  Instances       Size\n"
     ]
    },
    {
     "name": "stderr",
     "output_type": "stream",
     "text": [
      "    100/125      16.5G     0.2836     0.2071     0.3128      0.883          9        640: 100%|██████████| 34/34 [00:16<00:00,  2.04it/s]\n",
      "                 Class     Images  Instances      Box(P          R      mAP50  mAP50-95)     Mask(P          R      mAP50  mAP50-95): 100%|██████████| 5/5 [00:01<00:00,  2.52it/s]"
     ]
    },
    {
     "name": "stdout",
     "output_type": "stream",
     "text": [
      "                   all        430        134      0.954      0.927      0.963      0.903      0.954      0.927      0.964      0.867\n"
     ]
    },
    {
     "name": "stderr",
     "output_type": "stream",
     "text": [
      "\n"
     ]
    },
    {
     "name": "stdout",
     "output_type": "stream",
     "text": [
      "\n",
      "      Epoch    GPU_mem   box_loss   seg_loss   cls_loss   dfl_loss  Instances       Size\n"
     ]
    },
    {
     "name": "stderr",
     "output_type": "stream",
     "text": [
      "    101/125      16.5G     0.2875     0.2183     0.3242     0.8827         17        640: 100%|██████████| 34/34 [00:16<00:00,  2.02it/s]\n",
      "                 Class     Images  Instances      Box(P          R      mAP50  mAP50-95)     Mask(P          R      mAP50  mAP50-95): 100%|██████████| 5/5 [00:01<00:00,  2.69it/s]"
     ]
    },
    {
     "name": "stdout",
     "output_type": "stream",
     "text": [
      "                   all        430        134      0.913      0.948      0.974       0.93      0.913      0.948      0.974      0.898\n"
     ]
    },
    {
     "name": "stderr",
     "output_type": "stream",
     "text": [
      "\n"
     ]
    },
    {
     "name": "stdout",
     "output_type": "stream",
     "text": [
      "\n",
      "      Epoch    GPU_mem   box_loss   seg_loss   cls_loss   dfl_loss  Instances       Size\n"
     ]
    },
    {
     "name": "stderr",
     "output_type": "stream",
     "text": [
      "    102/125      16.5G     0.2745     0.2319      0.296     0.8766         26        640: 100%|██████████| 34/34 [00:16<00:00,  2.09it/s]\n",
      "                 Class     Images  Instances      Box(P          R      mAP50  mAP50-95)     Mask(P          R      mAP50  mAP50-95): 100%|██████████| 5/5 [00:01<00:00,  2.84it/s]"
     ]
    },
    {
     "name": "stdout",
     "output_type": "stream",
     "text": [
      "                   all        430        134      0.925      0.672      0.814      0.762      0.929      0.679      0.817       0.73\n"
     ]
    },
    {
     "name": "stderr",
     "output_type": "stream",
     "text": [
      "\n"
     ]
    },
    {
     "name": "stdout",
     "output_type": "stream",
     "text": [
      "\n",
      "      Epoch    GPU_mem   box_loss   seg_loss   cls_loss   dfl_loss  Instances       Size\n"
     ]
    },
    {
     "name": "stderr",
     "output_type": "stream",
     "text": [
      "    103/125      16.5G     0.2772     0.2157      0.309     0.8708         14        640: 100%|██████████| 34/34 [00:16<00:00,  2.09it/s]\n",
      "                 Class     Images  Instances      Box(P          R      mAP50  mAP50-95)     Mask(P          R      mAP50  mAP50-95): 100%|██████████| 5/5 [00:01<00:00,  3.08it/s]"
     ]
    },
    {
     "name": "stdout",
     "output_type": "stream",
     "text": [
      "                   all        430        134      0.959       0.94       0.97      0.929      0.959       0.94       0.97      0.898\n"
     ]
    },
    {
     "name": "stderr",
     "output_type": "stream",
     "text": [
      "\n"
     ]
    },
    {
     "name": "stdout",
     "output_type": "stream",
     "text": [
      "\n",
      "      Epoch    GPU_mem   box_loss   seg_loss   cls_loss   dfl_loss  Instances       Size\n"
     ]
    },
    {
     "name": "stderr",
     "output_type": "stream",
     "text": [
      "    104/125      16.5G      0.284     0.2107     0.3227     0.8841         15        640: 100%|██████████| 34/34 [00:16<00:00,  2.11it/s]\n",
      "                 Class     Images  Instances      Box(P          R      mAP50  mAP50-95)     Mask(P          R      mAP50  mAP50-95): 100%|██████████| 5/5 [00:01<00:00,  2.96it/s]"
     ]
    },
    {
     "name": "stdout",
     "output_type": "stream",
     "text": [
      "                   all        430        134      0.928      0.679      0.768      0.721      0.928      0.679      0.768      0.688\n"
     ]
    },
    {
     "name": "stderr",
     "output_type": "stream",
     "text": [
      "\n"
     ]
    },
    {
     "name": "stdout",
     "output_type": "stream",
     "text": [
      "\n",
      "      Epoch    GPU_mem   box_loss   seg_loss   cls_loss   dfl_loss  Instances       Size\n"
     ]
    },
    {
     "name": "stderr",
     "output_type": "stream",
     "text": [
      "    105/125      16.5G     0.2725     0.2364     0.3127     0.8836         11        640: 100%|██████████| 34/34 [00:16<00:00,  2.11it/s]\n",
      "                 Class     Images  Instances      Box(P          R      mAP50  mAP50-95)     Mask(P          R      mAP50  mAP50-95): 100%|██████████| 5/5 [00:01<00:00,  2.68it/s]"
     ]
    },
    {
     "name": "stdout",
     "output_type": "stream",
     "text": [
      "                   all        430        134      0.939      0.922      0.968      0.924      0.939      0.922      0.969      0.896\n"
     ]
    },
    {
     "name": "stderr",
     "output_type": "stream",
     "text": [
      "\n"
     ]
    },
    {
     "name": "stdout",
     "output_type": "stream",
     "text": [
      "\n",
      "      Epoch    GPU_mem   box_loss   seg_loss   cls_loss   dfl_loss  Instances       Size\n"
     ]
    },
    {
     "name": "stderr",
     "output_type": "stream",
     "text": [
      "    106/125      16.5G     0.2747     0.2145     0.3228     0.8825         14        640: 100%|██████████| 34/34 [00:16<00:00,  2.12it/s]\n",
      "                 Class     Images  Instances      Box(P          R      mAP50  mAP50-95)     Mask(P          R      mAP50  mAP50-95): 100%|██████████| 5/5 [00:01<00:00,  2.77it/s]"
     ]
    },
    {
     "name": "stdout",
     "output_type": "stream",
     "text": [
      "                   all        430        134      0.916      0.918      0.965      0.917      0.916      0.918      0.966       0.89\n"
     ]
    },
    {
     "name": "stderr",
     "output_type": "stream",
     "text": [
      "\n"
     ]
    },
    {
     "name": "stdout",
     "output_type": "stream",
     "text": [
      "\n",
      "      Epoch    GPU_mem   box_loss   seg_loss   cls_loss   dfl_loss  Instances       Size\n"
     ]
    },
    {
     "name": "stderr",
     "output_type": "stream",
     "text": [
      "    107/125      16.5G     0.2616     0.2146     0.2995     0.8751         21        640: 100%|██████████| 34/34 [00:16<00:00,  2.12it/s]\n",
      "                 Class     Images  Instances      Box(P          R      mAP50  mAP50-95)     Mask(P          R      mAP50  mAP50-95): 100%|██████████| 5/5 [00:01<00:00,  2.82it/s]"
     ]
    },
    {
     "name": "stdout",
     "output_type": "stream",
     "text": [
      "                   all        430        134      0.933       0.94      0.967       0.92      0.933       0.94      0.967      0.887\n"
     ]
    },
    {
     "name": "stderr",
     "output_type": "stream",
     "text": [
      "\n"
     ]
    },
    {
     "name": "stdout",
     "output_type": "stream",
     "text": [
      "\n",
      "      Epoch    GPU_mem   box_loss   seg_loss   cls_loss   dfl_loss  Instances       Size\n"
     ]
    },
    {
     "name": "stderr",
     "output_type": "stream",
     "text": [
      "    108/125      16.5G     0.2738     0.2135     0.3007     0.8826         15        640: 100%|██████████| 34/34 [00:16<00:00,  2.12it/s]\n",
      "                 Class     Images  Instances      Box(P          R      mAP50  mAP50-95)     Mask(P          R      mAP50  mAP50-95): 100%|██████████| 5/5 [00:01<00:00,  2.90it/s]"
     ]
    },
    {
     "name": "stdout",
     "output_type": "stream",
     "text": [
      "                   all        430        134      0.913      0.925      0.963       0.92      0.919      0.936      0.963      0.892\n"
     ]
    },
    {
     "name": "stderr",
     "output_type": "stream",
     "text": [
      "\n"
     ]
    },
    {
     "name": "stdout",
     "output_type": "stream",
     "text": [
      "\n",
      "      Epoch    GPU_mem   box_loss   seg_loss   cls_loss   dfl_loss  Instances       Size\n"
     ]
    },
    {
     "name": "stderr",
     "output_type": "stream",
     "text": [
      "    109/125      16.5G     0.2617     0.2042     0.3065      0.877          7        640: 100%|██████████| 34/34 [00:15<00:00,  2.13it/s]\n",
      "                 Class     Images  Instances      Box(P          R      mAP50  mAP50-95)     Mask(P          R      mAP50  mAP50-95): 100%|██████████| 5/5 [00:01<00:00,  2.97it/s]"
     ]
    },
    {
     "name": "stdout",
     "output_type": "stream",
     "text": [
      "                   all        430        134      0.922      0.933      0.964      0.918      0.922      0.933      0.964      0.879\n"
     ]
    },
    {
     "name": "stderr",
     "output_type": "stream",
     "text": [
      "\n"
     ]
    },
    {
     "name": "stdout",
     "output_type": "stream",
     "text": [
      "\n",
      "      Epoch    GPU_mem   box_loss   seg_loss   cls_loss   dfl_loss  Instances       Size\n"
     ]
    },
    {
     "name": "stderr",
     "output_type": "stream",
     "text": [
      "    110/125      16.5G     0.2516     0.2085     0.2882     0.8769         15        640: 100%|██████████| 34/34 [00:16<00:00,  2.12it/s]\n",
      "                 Class     Images  Instances      Box(P          R      mAP50  mAP50-95)     Mask(P          R      mAP50  mAP50-95): 100%|██████████| 5/5 [00:01<00:00,  2.92it/s]"
     ]
    },
    {
     "name": "stdout",
     "output_type": "stream",
     "text": [
      "                   all        430        134      0.947      0.938      0.969      0.929      0.947      0.938      0.969      0.896\n"
     ]
    },
    {
     "name": "stderr",
     "output_type": "stream",
     "text": [
      "\n"
     ]
    },
    {
     "name": "stdout",
     "output_type": "stream",
     "text": [
      "\n",
      "      Epoch    GPU_mem   box_loss   seg_loss   cls_loss   dfl_loss  Instances       Size\n"
     ]
    },
    {
     "name": "stderr",
     "output_type": "stream",
     "text": [
      "    111/125      16.5G     0.2635     0.2177      0.294     0.8729         15        640: 100%|██████████| 34/34 [00:15<00:00,  2.13it/s]\n",
      "                 Class     Images  Instances      Box(P          R      mAP50  mAP50-95)     Mask(P          R      mAP50  mAP50-95): 100%|██████████| 5/5 [00:01<00:00,  2.92it/s]"
     ]
    },
    {
     "name": "stdout",
     "output_type": "stream",
     "text": [
      "                   all        430        134      0.943      0.933      0.964       0.91      0.943      0.933      0.964      0.867\n"
     ]
    },
    {
     "name": "stderr",
     "output_type": "stream",
     "text": [
      "\n"
     ]
    },
    {
     "name": "stdout",
     "output_type": "stream",
     "text": [
      "\n",
      "      Epoch    GPU_mem   box_loss   seg_loss   cls_loss   dfl_loss  Instances       Size\n"
     ]
    },
    {
     "name": "stderr",
     "output_type": "stream",
     "text": [
      "    112/125      16.5G     0.2519     0.1956     0.2798       0.87         15        640: 100%|██████████| 34/34 [00:15<00:00,  2.13it/s]\n",
      "                 Class     Images  Instances      Box(P          R      mAP50  mAP50-95)     Mask(P          R      mAP50  mAP50-95): 100%|██████████| 5/5 [00:01<00:00,  2.97it/s]"
     ]
    },
    {
     "name": "stdout",
     "output_type": "stream",
     "text": [
      "                   all        430        134      0.947      0.938       0.97      0.929      0.947      0.938       0.97      0.893\n"
     ]
    },
    {
     "name": "stderr",
     "output_type": "stream",
     "text": [
      "\n"
     ]
    },
    {
     "name": "stdout",
     "output_type": "stream",
     "text": [
      "\n",
      "      Epoch    GPU_mem   box_loss   seg_loss   cls_loss   dfl_loss  Instances       Size\n"
     ]
    },
    {
     "name": "stderr",
     "output_type": "stream",
     "text": [
      "    113/125      16.5G     0.2547     0.2113     0.2872     0.8645         14        640: 100%|██████████| 34/34 [00:15<00:00,  2.13it/s]\n",
      "                 Class     Images  Instances      Box(P          R      mAP50  mAP50-95)     Mask(P          R      mAP50  mAP50-95): 100%|██████████| 5/5 [00:01<00:00,  3.11it/s]"
     ]
    },
    {
     "name": "stdout",
     "output_type": "stream",
     "text": [
      "                   all        430        134      0.929      0.683      0.748      0.703      0.923      0.687       0.75      0.669\n"
     ]
    },
    {
     "name": "stderr",
     "output_type": "stream",
     "text": [
      "\n"
     ]
    },
    {
     "name": "stdout",
     "output_type": "stream",
     "text": [
      "\n",
      "      Epoch    GPU_mem   box_loss   seg_loss   cls_loss   dfl_loss  Instances       Size\n"
     ]
    },
    {
     "name": "stderr",
     "output_type": "stream",
     "text": [
      "    114/125      16.5G     0.2661     0.2084     0.3074     0.8737         13        640: 100%|██████████| 34/34 [00:16<00:00,  2.12it/s]\n",
      "                 Class     Images  Instances      Box(P          R      mAP50  mAP50-95)     Mask(P          R      mAP50  mAP50-95): 100%|██████████| 5/5 [00:01<00:00,  2.90it/s]"
     ]
    },
    {
     "name": "stdout",
     "output_type": "stream",
     "text": [
      "                   all        430        134      0.956      0.933      0.977      0.934      0.941      0.952      0.979      0.902\n"
     ]
    },
    {
     "name": "stderr",
     "output_type": "stream",
     "text": [
      "\n"
     ]
    },
    {
     "name": "stdout",
     "output_type": "stream",
     "text": [
      "\n",
      "      Epoch    GPU_mem   box_loss   seg_loss   cls_loss   dfl_loss  Instances       Size\n"
     ]
    },
    {
     "name": "stderr",
     "output_type": "stream",
     "text": [
      "    115/125      16.5G     0.2537     0.1978     0.2799     0.8689         18        640: 100%|██████████| 34/34 [00:15<00:00,  2.13it/s]\n",
      "                 Class     Images  Instances      Box(P          R      mAP50  mAP50-95)     Mask(P          R      mAP50  mAP50-95): 100%|██████████| 5/5 [00:01<00:00,  2.97it/s]"
     ]
    },
    {
     "name": "stdout",
     "output_type": "stream",
     "text": [
      "                   all        430        134      0.947      0.948      0.977      0.932      0.947      0.948      0.977        0.9\n"
     ]
    },
    {
     "name": "stderr",
     "output_type": "stream",
     "text": [
      "\n"
     ]
    },
    {
     "name": "stdout",
     "output_type": "stream",
     "text": [
      "Closing dataloader mosaic\n",
      "\n",
      "      Epoch    GPU_mem   box_loss   seg_loss   cls_loss   dfl_loss  Instances       Size\n"
     ]
    },
    {
     "name": "stderr",
     "output_type": "stream",
     "text": [
      "    116/125      16.5G     0.2415     0.2017     0.2851     0.8478          6        640: 100%|██████████| 34/34 [00:16<00:00,  2.01it/s]\n",
      "                 Class     Images  Instances      Box(P          R      mAP50  mAP50-95)     Mask(P          R      mAP50  mAP50-95): 100%|██████████| 5/5 [00:01<00:00,  2.83it/s]"
     ]
    },
    {
     "name": "stdout",
     "output_type": "stream",
     "text": [
      "                   all        430        134      0.944       0.91      0.944      0.895      0.951      0.918      0.945      0.855\n"
     ]
    },
    {
     "name": "stderr",
     "output_type": "stream",
     "text": [
      "\n"
     ]
    },
    {
     "name": "stdout",
     "output_type": "stream",
     "text": [
      "\n",
      "      Epoch    GPU_mem   box_loss   seg_loss   cls_loss   dfl_loss  Instances       Size\n"
     ]
    },
    {
     "name": "stderr",
     "output_type": "stream",
     "text": [
      "    117/125      16.5G     0.2311     0.1952     0.2417     0.8296          5        640: 100%|██████████| 34/34 [00:15<00:00,  2.15it/s]\n",
      "                 Class     Images  Instances      Box(P          R      mAP50  mAP50-95)     Mask(P          R      mAP50  mAP50-95): 100%|██████████| 5/5 [00:01<00:00,  3.00it/s]"
     ]
    },
    {
     "name": "stdout",
     "output_type": "stream",
     "text": [
      "                   all        430        134      0.947       0.93      0.971      0.931      0.953       0.94      0.973      0.902\n"
     ]
    },
    {
     "name": "stderr",
     "output_type": "stream",
     "text": [
      "\n"
     ]
    },
    {
     "name": "stdout",
     "output_type": "stream",
     "text": [
      "\n",
      "      Epoch    GPU_mem   box_loss   seg_loss   cls_loss   dfl_loss  Instances       Size\n"
     ]
    },
    {
     "name": "stderr",
     "output_type": "stream",
     "text": [
      "    118/125      16.5G     0.2178     0.2206     0.2181      0.834          6        640: 100%|██████████| 34/34 [00:15<00:00,  2.14it/s]\n",
      "                 Class     Images  Instances      Box(P          R      mAP50  mAP50-95)     Mask(P          R      mAP50  mAP50-95): 100%|██████████| 5/5 [00:01<00:00,  3.01it/s]"
     ]
    },
    {
     "name": "stdout",
     "output_type": "stream",
     "text": [
      "                   all        430        134      0.976       0.91      0.966      0.927      0.976       0.91      0.968      0.901\n"
     ]
    },
    {
     "name": "stderr",
     "output_type": "stream",
     "text": [
      "\n"
     ]
    },
    {
     "name": "stdout",
     "output_type": "stream",
     "text": [
      "\n",
      "      Epoch    GPU_mem   box_loss   seg_loss   cls_loss   dfl_loss  Instances       Size\n"
     ]
    },
    {
     "name": "stderr",
     "output_type": "stream",
     "text": [
      "    119/125      16.5G     0.2169     0.1914      0.218     0.8339          7        640: 100%|██████████| 34/34 [00:15<00:00,  2.13it/s]\n",
      "                 Class     Images  Instances      Box(P          R      mAP50  mAP50-95)     Mask(P          R      mAP50  mAP50-95): 100%|██████████| 5/5 [00:01<00:00,  3.07it/s]"
     ]
    },
    {
     "name": "stdout",
     "output_type": "stream",
     "text": [
      "                   all        430        134      0.956      0.925      0.974      0.932      0.956      0.925      0.974      0.906\n"
     ]
    },
    {
     "name": "stderr",
     "output_type": "stream",
     "text": [
      "\n"
     ]
    },
    {
     "name": "stdout",
     "output_type": "stream",
     "text": [
      "\n",
      "      Epoch    GPU_mem   box_loss   seg_loss   cls_loss   dfl_loss  Instances       Size\n"
     ]
    },
    {
     "name": "stderr",
     "output_type": "stream",
     "text": [
      "    120/125      16.5G     0.2265     0.2153     0.2225     0.8222          4        640: 100%|██████████| 34/34 [00:15<00:00,  2.13it/s]\n",
      "                 Class     Images  Instances      Box(P          R      mAP50  mAP50-95)     Mask(P          R      mAP50  mAP50-95): 100%|██████████| 5/5 [00:01<00:00,  3.15it/s]"
     ]
    },
    {
     "name": "stdout",
     "output_type": "stream",
     "text": [
      "                   all        430        134      0.976      0.907      0.975      0.934      0.976      0.907      0.975      0.909\n"
     ]
    },
    {
     "name": "stderr",
     "output_type": "stream",
     "text": [
      "\n"
     ]
    },
    {
     "name": "stdout",
     "output_type": "stream",
     "text": [
      "\n",
      "      Epoch    GPU_mem   box_loss   seg_loss   cls_loss   dfl_loss  Instances       Size\n"
     ]
    },
    {
     "name": "stderr",
     "output_type": "stream",
     "text": [
      "    121/125      16.5G     0.2098     0.1896     0.2081     0.8332         11        640: 100%|██████████| 34/34 [00:15<00:00,  2.14it/s]\n",
      "                 Class     Images  Instances      Box(P          R      mAP50  mAP50-95)     Mask(P          R      mAP50  mAP50-95): 100%|██████████| 5/5 [00:01<00:00,  3.09it/s]"
     ]
    },
    {
     "name": "stdout",
     "output_type": "stream",
     "text": [
      "                   all        430        134      0.984      0.903      0.972      0.927      0.984      0.903      0.972      0.905\n"
     ]
    },
    {
     "name": "stderr",
     "output_type": "stream",
     "text": [
      "\n"
     ]
    },
    {
     "name": "stdout",
     "output_type": "stream",
     "text": [
      "\n",
      "      Epoch    GPU_mem   box_loss   seg_loss   cls_loss   dfl_loss  Instances       Size\n"
     ]
    },
    {
     "name": "stderr",
     "output_type": "stream",
     "text": [
      "    122/125      16.5G     0.2193     0.2059     0.2051     0.8249          6        640: 100%|██████████| 34/34 [00:15<00:00,  2.14it/s]\n",
      "                 Class     Images  Instances      Box(P          R      mAP50  mAP50-95)     Mask(P          R      mAP50  mAP50-95): 100%|██████████| 5/5 [00:01<00:00,  3.03it/s]"
     ]
    },
    {
     "name": "stdout",
     "output_type": "stream",
     "text": [
      "                   all        430        134      0.961      0.919      0.974       0.93      0.961      0.919      0.974      0.902\n"
     ]
    },
    {
     "name": "stderr",
     "output_type": "stream",
     "text": [
      "\n"
     ]
    },
    {
     "name": "stdout",
     "output_type": "stream",
     "text": [
      "\n",
      "      Epoch    GPU_mem   box_loss   seg_loss   cls_loss   dfl_loss  Instances       Size\n"
     ]
    },
    {
     "name": "stderr",
     "output_type": "stream",
     "text": [
      "    123/125      16.5G     0.2149     0.1926     0.2083      0.837          7        640: 100%|██████████| 34/34 [00:15<00:00,  2.14it/s]\n",
      "                 Class     Images  Instances      Box(P          R      mAP50  mAP50-95)     Mask(P          R      mAP50  mAP50-95): 100%|██████████| 5/5 [00:01<00:00,  3.06it/s]"
     ]
    },
    {
     "name": "stdout",
     "output_type": "stream",
     "text": [
      "                   all        430        134      0.976      0.903      0.973       0.93      0.976      0.903      0.973        0.9\n"
     ]
    },
    {
     "name": "stderr",
     "output_type": "stream",
     "text": [
      "\n"
     ]
    },
    {
     "name": "stdout",
     "output_type": "stream",
     "text": [
      "\n",
      "      Epoch    GPU_mem   box_loss   seg_loss   cls_loss   dfl_loss  Instances       Size\n"
     ]
    },
    {
     "name": "stderr",
     "output_type": "stream",
     "text": [
      "    124/125      16.5G      0.203     0.1933     0.1934     0.8255          7        640: 100%|██████████| 34/34 [00:15<00:00,  2.14it/s]\n",
      "                 Class     Images  Instances      Box(P          R      mAP50  mAP50-95)     Mask(P          R      mAP50  mAP50-95): 100%|██████████| 5/5 [00:01<00:00,  3.04it/s]"
     ]
    },
    {
     "name": "stdout",
     "output_type": "stream",
     "text": [
      "                   all        430        134      0.947      0.932      0.971      0.929      0.947      0.932      0.971      0.899\n"
     ]
    },
    {
     "name": "stderr",
     "output_type": "stream",
     "text": [
      "\n"
     ]
    },
    {
     "name": "stdout",
     "output_type": "stream",
     "text": [
      "\n",
      "      Epoch    GPU_mem   box_loss   seg_loss   cls_loss   dfl_loss  Instances       Size\n"
     ]
    },
    {
     "name": "stderr",
     "output_type": "stream",
     "text": [
      "    125/125      16.5G     0.1977     0.1897     0.1888     0.8331          6        640: 100%|██████████| 34/34 [00:15<00:00,  2.15it/s]\n",
      "                 Class     Images  Instances      Box(P          R      mAP50  mAP50-95)     Mask(P          R      mAP50  mAP50-95): 100%|██████████| 5/5 [00:01<00:00,  3.00it/s]"
     ]
    },
    {
     "name": "stdout",
     "output_type": "stream",
     "text": [
      "                   all        430        134      0.976       0.91       0.97      0.928      0.976       0.91       0.97        0.9\n"
     ]
    },
    {
     "name": "stderr",
     "output_type": "stream",
     "text": [
      "\n"
     ]
    },
    {
     "name": "stdout",
     "output_type": "stream",
     "text": [
      "\n",
      "125 epochs completed in 0.665 hours.\n",
      "Optimizer stripped from runs/segment/train4/weights/last.pt, 20.5MB\n",
      "Optimizer stripped from runs/segment/train4/weights/best.pt, 20.5MB\n",
      "\n",
      "Validating runs/segment/train4/weights/best.pt...\n",
      "Ultralytics 8.3.66 🚀 Python-3.10.12 torch-2.5.1+cu124 CUDA:0 (NVIDIA RTX A6000, 45619MiB)\n",
      "YOLO11s-seg summary (fused): 265 layers, 10,067,203 parameters, 0 gradients, 35.3 GFLOPs\n"
     ]
    },
    {
     "name": "stderr",
     "output_type": "stream",
     "text": [
      "                 Class     Images  Instances      Box(P          R      mAP50  mAP50-95)     Mask(P          R      mAP50  mAP50-95): 100%|██████████| 5/5 [00:01<00:00,  2.51it/s]\n"
     ]
    },
    {
     "name": "stdout",
     "output_type": "stream",
     "text": [
      "                   all        430        134      0.976      0.907      0.975      0.934      0.976      0.907      0.975      0.909\n",
      "Speed: 0.1ms preprocess, 1.2ms inference, 0.0ms loss, 0.8ms postprocess per image\n",
      "Results saved to \u001b[1mruns/segment/train4\u001b[0m\n"
     ]
    },
    {
     "data": {
      "text/plain": [
       "ultralytics.utils.metrics.SegmentMetrics object with attributes:\n",
       "\n",
       "ap_class_index: array([0])\n",
       "box: ultralytics.utils.metrics.Metric object\n",
       "confusion_matrix: <ultralytics.utils.metrics.ConfusionMatrix object at 0x7f67b503df30>\n",
       "curves: ['Precision-Recall(B)', 'F1-Confidence(B)', 'Precision-Confidence(B)', 'Recall-Confidence(B)', 'Precision-Recall(M)', 'F1-Confidence(M)', 'Precision-Confidence(M)', 'Recall-Confidence(M)']\n",
       "curves_results: [[array([          0,    0.001001,    0.002002,    0.003003,    0.004004,    0.005005,    0.006006,    0.007007,    0.008008,    0.009009,     0.01001,    0.011011,    0.012012,    0.013013,    0.014014,    0.015015,    0.016016,    0.017017,    0.018018,    0.019019,     0.02002,    0.021021,    0.022022,    0.023023,\n",
       "          0.024024,    0.025025,    0.026026,    0.027027,    0.028028,    0.029029,     0.03003,    0.031031,    0.032032,    0.033033,    0.034034,    0.035035,    0.036036,    0.037037,    0.038038,    0.039039,     0.04004,    0.041041,    0.042042,    0.043043,    0.044044,    0.045045,    0.046046,    0.047047,\n",
       "          0.048048,    0.049049,     0.05005,    0.051051,    0.052052,    0.053053,    0.054054,    0.055055,    0.056056,    0.057057,    0.058058,    0.059059,     0.06006,    0.061061,    0.062062,    0.063063,    0.064064,    0.065065,    0.066066,    0.067067,    0.068068,    0.069069,     0.07007,    0.071071,\n",
       "          0.072072,    0.073073,    0.074074,    0.075075,    0.076076,    0.077077,    0.078078,    0.079079,     0.08008,    0.081081,    0.082082,    0.083083,    0.084084,    0.085085,    0.086086,    0.087087,    0.088088,    0.089089,     0.09009,    0.091091,    0.092092,    0.093093,    0.094094,    0.095095,\n",
       "          0.096096,    0.097097,    0.098098,    0.099099,      0.1001,      0.1011,      0.1021,      0.1031,      0.1041,     0.10511,     0.10611,     0.10711,     0.10811,     0.10911,     0.11011,     0.11111,     0.11211,     0.11311,     0.11411,     0.11512,     0.11612,     0.11712,     0.11812,     0.11912,\n",
       "           0.12012,     0.12112,     0.12212,     0.12312,     0.12412,     0.12513,     0.12613,     0.12713,     0.12813,     0.12913,     0.13013,     0.13113,     0.13213,     0.13313,     0.13413,     0.13514,     0.13614,     0.13714,     0.13814,     0.13914,     0.14014,     0.14114,     0.14214,     0.14314,\n",
       "           0.14414,     0.14515,     0.14615,     0.14715,     0.14815,     0.14915,     0.15015,     0.15115,     0.15215,     0.15315,     0.15415,     0.15516,     0.15616,     0.15716,     0.15816,     0.15916,     0.16016,     0.16116,     0.16216,     0.16316,     0.16416,     0.16517,     0.16617,     0.16717,\n",
       "           0.16817,     0.16917,     0.17017,     0.17117,     0.17217,     0.17317,     0.17417,     0.17518,     0.17618,     0.17718,     0.17818,     0.17918,     0.18018,     0.18118,     0.18218,     0.18318,     0.18418,     0.18519,     0.18619,     0.18719,     0.18819,     0.18919,     0.19019,     0.19119,\n",
       "           0.19219,     0.19319,     0.19419,      0.1952,      0.1962,      0.1972,      0.1982,      0.1992,      0.2002,      0.2012,      0.2022,      0.2032,      0.2042,     0.20521,     0.20621,     0.20721,     0.20821,     0.20921,     0.21021,     0.21121,     0.21221,     0.21321,     0.21421,     0.21522,\n",
       "           0.21622,     0.21722,     0.21822,     0.21922,     0.22022,     0.22122,     0.22222,     0.22322,     0.22422,     0.22523,     0.22623,     0.22723,     0.22823,     0.22923,     0.23023,     0.23123,     0.23223,     0.23323,     0.23423,     0.23524,     0.23624,     0.23724,     0.23824,     0.23924,\n",
       "           0.24024,     0.24124,     0.24224,     0.24324,     0.24424,     0.24525,     0.24625,     0.24725,     0.24825,     0.24925,     0.25025,     0.25125,     0.25225,     0.25325,     0.25425,     0.25526,     0.25626,     0.25726,     0.25826,     0.25926,     0.26026,     0.26126,     0.26226,     0.26326,\n",
       "           0.26426,     0.26527,     0.26627,     0.26727,     0.26827,     0.26927,     0.27027,     0.27127,     0.27227,     0.27327,     0.27427,     0.27528,     0.27628,     0.27728,     0.27828,     0.27928,     0.28028,     0.28128,     0.28228,     0.28328,     0.28428,     0.28529,     0.28629,     0.28729,\n",
       "           0.28829,     0.28929,     0.29029,     0.29129,     0.29229,     0.29329,     0.29429,      0.2953,      0.2963,      0.2973,      0.2983,      0.2993,      0.3003,      0.3013,      0.3023,      0.3033,      0.3043,     0.30531,     0.30631,     0.30731,     0.30831,     0.30931,     0.31031,     0.31131,\n",
       "           0.31231,     0.31331,     0.31431,     0.31532,     0.31632,     0.31732,     0.31832,     0.31932,     0.32032,     0.32132,     0.32232,     0.32332,     0.32432,     0.32533,     0.32633,     0.32733,     0.32833,     0.32933,     0.33033,     0.33133,     0.33233,     0.33333,     0.33433,     0.33534,\n",
       "           0.33634,     0.33734,     0.33834,     0.33934,     0.34034,     0.34134,     0.34234,     0.34334,     0.34434,     0.34535,     0.34635,     0.34735,     0.34835,     0.34935,     0.35035,     0.35135,     0.35235,     0.35335,     0.35435,     0.35536,     0.35636,     0.35736,     0.35836,     0.35936,\n",
       "           0.36036,     0.36136,     0.36236,     0.36336,     0.36436,     0.36537,     0.36637,     0.36737,     0.36837,     0.36937,     0.37037,     0.37137,     0.37237,     0.37337,     0.37437,     0.37538,     0.37638,     0.37738,     0.37838,     0.37938,     0.38038,     0.38138,     0.38238,     0.38338,\n",
       "           0.38438,     0.38539,     0.38639,     0.38739,     0.38839,     0.38939,     0.39039,     0.39139,     0.39239,     0.39339,     0.39439,      0.3954,      0.3964,      0.3974,      0.3984,      0.3994,      0.4004,      0.4014,      0.4024,      0.4034,      0.4044,     0.40541,     0.40641,     0.40741,\n",
       "           0.40841,     0.40941,     0.41041,     0.41141,     0.41241,     0.41341,     0.41441,     0.41542,     0.41642,     0.41742,     0.41842,     0.41942,     0.42042,     0.42142,     0.42242,     0.42342,     0.42442,     0.42543,     0.42643,     0.42743,     0.42843,     0.42943,     0.43043,     0.43143,\n",
       "           0.43243,     0.43343,     0.43443,     0.43544,     0.43644,     0.43744,     0.43844,     0.43944,     0.44044,     0.44144,     0.44244,     0.44344,     0.44444,     0.44545,     0.44645,     0.44745,     0.44845,     0.44945,     0.45045,     0.45145,     0.45245,     0.45345,     0.45445,     0.45546,\n",
       "           0.45646,     0.45746,     0.45846,     0.45946,     0.46046,     0.46146,     0.46246,     0.46346,     0.46446,     0.46547,     0.46647,     0.46747,     0.46847,     0.46947,     0.47047,     0.47147,     0.47247,     0.47347,     0.47447,     0.47548,     0.47648,     0.47748,     0.47848,     0.47948,\n",
       "           0.48048,     0.48148,     0.48248,     0.48348,     0.48448,     0.48549,     0.48649,     0.48749,     0.48849,     0.48949,     0.49049,     0.49149,     0.49249,     0.49349,     0.49449,      0.4955,      0.4965,      0.4975,      0.4985,      0.4995,      0.5005,      0.5015,      0.5025,      0.5035,\n",
       "            0.5045,     0.50551,     0.50651,     0.50751,     0.50851,     0.50951,     0.51051,     0.51151,     0.51251,     0.51351,     0.51451,     0.51552,     0.51652,     0.51752,     0.51852,     0.51952,     0.52052,     0.52152,     0.52252,     0.52352,     0.52452,     0.52553,     0.52653,     0.52753,\n",
       "           0.52853,     0.52953,     0.53053,     0.53153,     0.53253,     0.53353,     0.53453,     0.53554,     0.53654,     0.53754,     0.53854,     0.53954,     0.54054,     0.54154,     0.54254,     0.54354,     0.54454,     0.54555,     0.54655,     0.54755,     0.54855,     0.54955,     0.55055,     0.55155,\n",
       "           0.55255,     0.55355,     0.55455,     0.55556,     0.55656,     0.55756,     0.55856,     0.55956,     0.56056,     0.56156,     0.56256,     0.56356,     0.56456,     0.56557,     0.56657,     0.56757,     0.56857,     0.56957,     0.57057,     0.57157,     0.57257,     0.57357,     0.57457,     0.57558,\n",
       "           0.57658,     0.57758,     0.57858,     0.57958,     0.58058,     0.58158,     0.58258,     0.58358,     0.58458,     0.58559,     0.58659,     0.58759,     0.58859,     0.58959,     0.59059,     0.59159,     0.59259,     0.59359,     0.59459,      0.5956,      0.5966,      0.5976,      0.5986,      0.5996,\n",
       "            0.6006,      0.6016,      0.6026,      0.6036,      0.6046,     0.60561,     0.60661,     0.60761,     0.60861,     0.60961,     0.61061,     0.61161,     0.61261,     0.61361,     0.61461,     0.61562,     0.61662,     0.61762,     0.61862,     0.61962,     0.62062,     0.62162,     0.62262,     0.62362,\n",
       "           0.62462,     0.62563,     0.62663,     0.62763,     0.62863,     0.62963,     0.63063,     0.63163,     0.63263,     0.63363,     0.63463,     0.63564,     0.63664,     0.63764,     0.63864,     0.63964,     0.64064,     0.64164,     0.64264,     0.64364,     0.64464,     0.64565,     0.64665,     0.64765,\n",
       "           0.64865,     0.64965,     0.65065,     0.65165,     0.65265,     0.65365,     0.65465,     0.65566,     0.65666,     0.65766,     0.65866,     0.65966,     0.66066,     0.66166,     0.66266,     0.66366,     0.66466,     0.66567,     0.66667,     0.66767,     0.66867,     0.66967,     0.67067,     0.67167,\n",
       "           0.67267,     0.67367,     0.67467,     0.67568,     0.67668,     0.67768,     0.67868,     0.67968,     0.68068,     0.68168,     0.68268,     0.68368,     0.68468,     0.68569,     0.68669,     0.68769,     0.68869,     0.68969,     0.69069,     0.69169,     0.69269,     0.69369,     0.69469,      0.6957,\n",
       "            0.6967,      0.6977,      0.6987,      0.6997,      0.7007,      0.7017,      0.7027,      0.7037,      0.7047,     0.70571,     0.70671,     0.70771,     0.70871,     0.70971,     0.71071,     0.71171,     0.71271,     0.71371,     0.71471,     0.71572,     0.71672,     0.71772,     0.71872,     0.71972,\n",
       "           0.72072,     0.72172,     0.72272,     0.72372,     0.72472,     0.72573,     0.72673,     0.72773,     0.72873,     0.72973,     0.73073,     0.73173,     0.73273,     0.73373,     0.73473,     0.73574,     0.73674,     0.73774,     0.73874,     0.73974,     0.74074,     0.74174,     0.74274,     0.74374,\n",
       "           0.74474,     0.74575,     0.74675,     0.74775,     0.74875,     0.74975,     0.75075,     0.75175,     0.75275,     0.75375,     0.75475,     0.75576,     0.75676,     0.75776,     0.75876,     0.75976,     0.76076,     0.76176,     0.76276,     0.76376,     0.76476,     0.76577,     0.76677,     0.76777,\n",
       "           0.76877,     0.76977,     0.77077,     0.77177,     0.77277,     0.77377,     0.77477,     0.77578,     0.77678,     0.77778,     0.77878,     0.77978,     0.78078,     0.78178,     0.78278,     0.78378,     0.78478,     0.78579,     0.78679,     0.78779,     0.78879,     0.78979,     0.79079,     0.79179,\n",
       "           0.79279,     0.79379,     0.79479,      0.7958,      0.7968,      0.7978,      0.7988,      0.7998,      0.8008,      0.8018,      0.8028,      0.8038,      0.8048,     0.80581,     0.80681,     0.80781,     0.80881,     0.80981,     0.81081,     0.81181,     0.81281,     0.81381,     0.81481,     0.81582,\n",
       "           0.81682,     0.81782,     0.81882,     0.81982,     0.82082,     0.82182,     0.82282,     0.82382,     0.82482,     0.82583,     0.82683,     0.82783,     0.82883,     0.82983,     0.83083,     0.83183,     0.83283,     0.83383,     0.83483,     0.83584,     0.83684,     0.83784,     0.83884,     0.83984,\n",
       "           0.84084,     0.84184,     0.84284,     0.84384,     0.84484,     0.84585,     0.84685,     0.84785,     0.84885,     0.84985,     0.85085,     0.85185,     0.85285,     0.85385,     0.85485,     0.85586,     0.85686,     0.85786,     0.85886,     0.85986,     0.86086,     0.86186,     0.86286,     0.86386,\n",
       "           0.86486,     0.86587,     0.86687,     0.86787,     0.86887,     0.86987,     0.87087,     0.87187,     0.87287,     0.87387,     0.87487,     0.87588,     0.87688,     0.87788,     0.87888,     0.87988,     0.88088,     0.88188,     0.88288,     0.88388,     0.88488,     0.88589,     0.88689,     0.88789,\n",
       "           0.88889,     0.88989,     0.89089,     0.89189,     0.89289,     0.89389,     0.89489,      0.8959,      0.8969,      0.8979,      0.8989,      0.8999,      0.9009,      0.9019,      0.9029,      0.9039,      0.9049,     0.90591,     0.90691,     0.90791,     0.90891,     0.90991,     0.91091,     0.91191,\n",
       "           0.91291,     0.91391,     0.91491,     0.91592,     0.91692,     0.91792,     0.91892,     0.91992,     0.92092,     0.92192,     0.92292,     0.92392,     0.92492,     0.92593,     0.92693,     0.92793,     0.92893,     0.92993,     0.93093,     0.93193,     0.93293,     0.93393,     0.93493,     0.93594,\n",
       "           0.93694,     0.93794,     0.93894,     0.93994,     0.94094,     0.94194,     0.94294,     0.94394,     0.94494,     0.94595,     0.94695,     0.94795,     0.94895,     0.94995,     0.95095,     0.95195,     0.95295,     0.95395,     0.95495,     0.95596,     0.95696,     0.95796,     0.95896,     0.95996,\n",
       "           0.96096,     0.96196,     0.96296,     0.96396,     0.96496,     0.96597,     0.96697,     0.96797,     0.96897,     0.96997,     0.97097,     0.97197,     0.97297,     0.97397,     0.97497,     0.97598,     0.97698,     0.97798,     0.97898,     0.97998,     0.98098,     0.98198,     0.98298,     0.98398,\n",
       "           0.98498,     0.98599,     0.98699,     0.98799,     0.98899,     0.98999,     0.99099,     0.99199,     0.99299,     0.99399,     0.99499,       0.996,       0.997,       0.998,       0.999,           1]), array([[          1,           1,           1,           1,           1,           1,           1,           1,           1,           1,           1,           1,           1,           1,           1,           1,           1,           1,           1,           1,           1,           1,           1,\n",
       "                  1,           1,           1,           1,           1,           1,           1,           1,           1,           1,           1,           1,           1,           1,           1,           1,           1,           1,           1,           1,           1,           1,           1,\n",
       "                  1,           1,           1,           1,           1,           1,           1,           1,           1,           1,           1,           1,           1,           1,           1,           1,           1,           1,           1,           1,           1,           1,           1,\n",
       "                  1,           1,           1,           1,           1,           1,           1,           1,           1,           1,           1,           1,           1,           1,           1,           1,           1,           1,           1,           1,           1,           1,           1,\n",
       "                  1,           1,           1,           1,           1,           1,           1,           1,           1,           1,           1,           1,           1,           1,           1,           1,           1,           1,           1,           1,           1,           1,           1,\n",
       "                  1,           1,           1,           1,           1,           1,           1,           1,           1,           1,           1,           1,           1,           1,           1,           1,           1,           1,           1,           1,           1,           1,           1,\n",
       "                  1,           1,           1,           1,           1,           1,           1,           1,           1,           1,           1,           1,           1,           1,           1,           1,           1,           1,           1,           1,           1,           1,           1,\n",
       "                  1,           1,           1,           1,           1,           1,           1,           1,           1,           1,           1,           1,           1,           1,           1,           1,           1,           1,           1,           1,           1,           1,           1,\n",
       "                  1,           1,           1,           1,           1,           1,           1,           1,           1,           1,           1,           1,           1,           1,           1,           1,           1,           1,           1,           1,           1,           1,           1,\n",
       "                  1,           1,           1,           1,           1,           1,           1,           1,           1,           1,           1,           1,           1,           1,           1,           1,           1,           1,           1,           1,           1,           1,           1,\n",
       "                  1,           1,           1,           1,           1,           1,           1,           1,           1,           1,           1,           1,           1,           1,           1,           1,           1,           1,           1,           1,           1,           1,           1,\n",
       "                  1,           1,           1,           1,           1,           1,           1,           1,           1,           1,           1,           1,           1,           1,           1,           1,           1,           1,           1,           1,           1,           1,           1,\n",
       "                  1,           1,           1,           1,           1,           1,           1,           1,           1,           1,           1,           1,           1,           1,           1,           1,           1,           1,           1,           1,           1,           1,           1,\n",
       "                  1,           1,           1,           1,           1,           1,           1,           1,           1,           1,           1,           1,           1,           1,           1,           1,           1,           1,           1,           1,           1,           1,           1,\n",
       "                  1,           1,           1,           1,           1,           1,           1,           1,           1,           1,           1,           1,           1,           1,           1,           1,           1,           1,           1,           1,           1,           1,           1,\n",
       "                  1,           1,           1,           1,           1,           1,           1,           1,           1,           1,           1,           1,           1,           1,           1,           1,           1,           1,           1,           1,           1,           1,           1,\n",
       "                  1,           1,           1,           1,           1,           1,           1,           1,           1,           1,           1,           1,           1,           1,           1,           1,           1,           1,           1,           1,           1,           1,           1,\n",
       "                  1,           1,           1,           1,           1,           1,           1,           1,           1,           1,           1,           1,           1,           1,           1,           1,           1,           1,           1,           1,           1,           1,           1,\n",
       "                  1,           1,           1,           1,           1,           1,           1,           1,           1,           1,           1,           1,           1,           1,           1,           1,           1,           1,           1,           1,           1,           1,           1,\n",
       "                  1,           1,           1,           1,           1,           1,           1,           1,           1,           1,           1,           1,           1,           1,           1,           1,           1,           1,           1,           1,           1,           1,           1,\n",
       "                  1,           1,           1,           1,           1,           1,           1,           1,           1,           1,           1,           1,           1,           1,           1,           1,           1,           1,           1,           1,           1,           1,           1,\n",
       "                  1,           1,           1,           1,           1,           1,           1,           1,           1,           1,           1,           1,           1,           1,           1,           1,           1,           1,           1,           1,           1,           1,           1,\n",
       "                  1,           1,           1,           1,           1,           1,           1,           1,           1,           1,           1,           1,           1,           1,           1,           1,           1,           1,           1,           1,           1,           1,           1,\n",
       "                  1,           1,           1,           1,           1,           1,           1,           1,           1,           1,           1,           1,           1,           1,           1,           1,           1,           1,           1,           1,           1,           1,           1,\n",
       "                  1,           1,           1,           1,           1,           1,           1,           1,           1,           1,           1,           1,           1,           1,           1,           1,           1,           1,           1,           1,           1,           1,           1,\n",
       "                  1,           1,           1,           1,           1,           1,           1,           1,           1,           1,           1,           1,           1,           1,           1,           1,           1,           1,           1,           1,           1,           1,           1,\n",
       "                  1,           1,           1,           1,           1,           1,           1,           1,           1,           1,           1,           1,           1,           1,           1,           1,           1,           1,           1,           1,           1,           1,           1,\n",
       "                  1,           1,           1,           1,           1,           1,           1,           1,           1,           1,           1,           1,           1,           1,           1,           1,           1,           1,           1,           1,           1,           1,           1,\n",
       "                  1,           1,           1,           1,           1,           1,           1,           1,           1,           1,           1,           1,           1,           1,           1,           1,           1,           1,           1,           1,           1,           1,           1,\n",
       "                  1,           1,           1,           1,           1,           1,           1,           1,           1,           1,           1,           1,           1,           1,           1,           1,           1,           1,           1,           1,           1,           1,           1,\n",
       "                  1,           1,           1,           1,           1,           1,           1,           1,           1,           1,           1,           1,           1,           1,           1,           1,           1,           1,           1,           1,           1,           1,           1,\n",
       "                  1,           1,           1,           1,           1,           1,           1,           1,           1,           1,           1,           1,           1,           1,           1,           1,           1,           1,           1,           1,           1,           1,           1,\n",
       "                  1,           1,           1,           1,           1,           1,           1,           1,           1,           1,           1,           1,           1,           1,           1,           1,           1,           1,           1,           1,           1,           1,           1,\n",
       "                  1,           1,           1,           1,           1,           1,           1,           1,           1,           1,           1,           1,           1,           1,           1,           1,           1,           1,           1,           1,           1,           1,           1,\n",
       "                  1,           1,           1,           1,           1,           1,           1,           1,           1,           1,           1,           1,           1,           1,           1,           1,           1,           1,           1,           1,           1,           1,           1,\n",
       "                  1,           1,           1,           1,           1,           1,           1,           1,           1,           1,           1,           1,           1,           1,           1,           1,           1,           1,           1,           1,           1,           1,           1,\n",
       "                  1,           1,           1,           1,           1,           1,           1,           1,           1,           1,           1,           1,           1,           1,           1,           1,           1,           1,           1,           1,           1,           1,           1,\n",
       "                  1,           1,           1,           1,           1,           1,           1,           1,           1,           1,           1,           1,           1,           1,           1,           1,           1,           1,           1,           1,           1,           1,           1,\n",
       "                  1,           1,           1,           1,           1,           1,     0.99174,     0.99174,     0.99174,     0.99174,     0.99174,     0.99174,     0.99174,     0.99174,     0.99174,     0.99174,     0.99174,     0.99174,     0.99174,     0.99174,     0.99174,     0.98374,     0.98374,\n",
       "            0.98374,     0.98374,     0.98374,     0.98374,     0.98374,     0.98374,       0.976,       0.976,       0.976,       0.976,       0.976,       0.976,       0.976,      0.9685,      0.9685,      0.9685,      0.9685,      0.9685,      0.9685,      0.9685,     0.93939,     0.93939,     0.93939,\n",
       "            0.93939,     0.93939,     0.93939,     0.93939,     0.93939,     0.92647,     0.92647,     0.92647,     0.92647,     0.92647,     0.92647,     0.92647,     0.92647,     0.92647,     0.92647,     0.92647,     0.92647,     0.92647,     0.92647,     0.92647,     0.90071,     0.90071,     0.90071,\n",
       "            0.90071,     0.90071,     0.90071,     0.90071,     0.78528,     0.78528,     0.78528,     0.78528,     0.78528,     0.78528,     0.78528,     0.78528,     0.70492,     0.70492,     0.70492,     0.70492,     0.70492,     0.70492,     0.70492,     0.62201,     0.62201,     0.62201,     0.62201,\n",
       "            0.62201,     0.62201,     0.62201,     0.62201,     0.60092,     0.60092,     0.60092,     0.60092,     0.60092,     0.60092,     0.60092,     0.55417,     0.55417,     0.55417,     0.55417,     0.55417,     0.55417,     0.55417,     0.55417,     0.55417,     0.55417,     0.55417,     0.55417,\n",
       "            0.55417,     0.55417,     0.55417,     0.30987,     0.26561,     0.22134,     0.17707,      0.1328,    0.088535,    0.044268,           0]]), 'Recall', 'Precision'], [array([          0,    0.001001,    0.002002,    0.003003,    0.004004,    0.005005,    0.006006,    0.007007,    0.008008,    0.009009,     0.01001,    0.011011,    0.012012,    0.013013,    0.014014,    0.015015,    0.016016,    0.017017,    0.018018,    0.019019,     0.02002,    0.021021,    0.022022,    0.023023,\n",
       "          0.024024,    0.025025,    0.026026,    0.027027,    0.028028,    0.029029,     0.03003,    0.031031,    0.032032,    0.033033,    0.034034,    0.035035,    0.036036,    0.037037,    0.038038,    0.039039,     0.04004,    0.041041,    0.042042,    0.043043,    0.044044,    0.045045,    0.046046,    0.047047,\n",
       "          0.048048,    0.049049,     0.05005,    0.051051,    0.052052,    0.053053,    0.054054,    0.055055,    0.056056,    0.057057,    0.058058,    0.059059,     0.06006,    0.061061,    0.062062,    0.063063,    0.064064,    0.065065,    0.066066,    0.067067,    0.068068,    0.069069,     0.07007,    0.071071,\n",
       "          0.072072,    0.073073,    0.074074,    0.075075,    0.076076,    0.077077,    0.078078,    0.079079,     0.08008,    0.081081,    0.082082,    0.083083,    0.084084,    0.085085,    0.086086,    0.087087,    0.088088,    0.089089,     0.09009,    0.091091,    0.092092,    0.093093,    0.094094,    0.095095,\n",
       "          0.096096,    0.097097,    0.098098,    0.099099,      0.1001,      0.1011,      0.1021,      0.1031,      0.1041,     0.10511,     0.10611,     0.10711,     0.10811,     0.10911,     0.11011,     0.11111,     0.11211,     0.11311,     0.11411,     0.11512,     0.11612,     0.11712,     0.11812,     0.11912,\n",
       "           0.12012,     0.12112,     0.12212,     0.12312,     0.12412,     0.12513,     0.12613,     0.12713,     0.12813,     0.12913,     0.13013,     0.13113,     0.13213,     0.13313,     0.13413,     0.13514,     0.13614,     0.13714,     0.13814,     0.13914,     0.14014,     0.14114,     0.14214,     0.14314,\n",
       "           0.14414,     0.14515,     0.14615,     0.14715,     0.14815,     0.14915,     0.15015,     0.15115,     0.15215,     0.15315,     0.15415,     0.15516,     0.15616,     0.15716,     0.15816,     0.15916,     0.16016,     0.16116,     0.16216,     0.16316,     0.16416,     0.16517,     0.16617,     0.16717,\n",
       "           0.16817,     0.16917,     0.17017,     0.17117,     0.17217,     0.17317,     0.17417,     0.17518,     0.17618,     0.17718,     0.17818,     0.17918,     0.18018,     0.18118,     0.18218,     0.18318,     0.18418,     0.18519,     0.18619,     0.18719,     0.18819,     0.18919,     0.19019,     0.19119,\n",
       "           0.19219,     0.19319,     0.19419,      0.1952,      0.1962,      0.1972,      0.1982,      0.1992,      0.2002,      0.2012,      0.2022,      0.2032,      0.2042,     0.20521,     0.20621,     0.20721,     0.20821,     0.20921,     0.21021,     0.21121,     0.21221,     0.21321,     0.21421,     0.21522,\n",
       "           0.21622,     0.21722,     0.21822,     0.21922,     0.22022,     0.22122,     0.22222,     0.22322,     0.22422,     0.22523,     0.22623,     0.22723,     0.22823,     0.22923,     0.23023,     0.23123,     0.23223,     0.23323,     0.23423,     0.23524,     0.23624,     0.23724,     0.23824,     0.23924,\n",
       "           0.24024,     0.24124,     0.24224,     0.24324,     0.24424,     0.24525,     0.24625,     0.24725,     0.24825,     0.24925,     0.25025,     0.25125,     0.25225,     0.25325,     0.25425,     0.25526,     0.25626,     0.25726,     0.25826,     0.25926,     0.26026,     0.26126,     0.26226,     0.26326,\n",
       "           0.26426,     0.26527,     0.26627,     0.26727,     0.26827,     0.26927,     0.27027,     0.27127,     0.27227,     0.27327,     0.27427,     0.27528,     0.27628,     0.27728,     0.27828,     0.27928,     0.28028,     0.28128,     0.28228,     0.28328,     0.28428,     0.28529,     0.28629,     0.28729,\n",
       "           0.28829,     0.28929,     0.29029,     0.29129,     0.29229,     0.29329,     0.29429,      0.2953,      0.2963,      0.2973,      0.2983,      0.2993,      0.3003,      0.3013,      0.3023,      0.3033,      0.3043,     0.30531,     0.30631,     0.30731,     0.30831,     0.30931,     0.31031,     0.31131,\n",
       "           0.31231,     0.31331,     0.31431,     0.31532,     0.31632,     0.31732,     0.31832,     0.31932,     0.32032,     0.32132,     0.32232,     0.32332,     0.32432,     0.32533,     0.32633,     0.32733,     0.32833,     0.32933,     0.33033,     0.33133,     0.33233,     0.33333,     0.33433,     0.33534,\n",
       "           0.33634,     0.33734,     0.33834,     0.33934,     0.34034,     0.34134,     0.34234,     0.34334,     0.34434,     0.34535,     0.34635,     0.34735,     0.34835,     0.34935,     0.35035,     0.35135,     0.35235,     0.35335,     0.35435,     0.35536,     0.35636,     0.35736,     0.35836,     0.35936,\n",
       "           0.36036,     0.36136,     0.36236,     0.36336,     0.36436,     0.36537,     0.36637,     0.36737,     0.36837,     0.36937,     0.37037,     0.37137,     0.37237,     0.37337,     0.37437,     0.37538,     0.37638,     0.37738,     0.37838,     0.37938,     0.38038,     0.38138,     0.38238,     0.38338,\n",
       "           0.38438,     0.38539,     0.38639,     0.38739,     0.38839,     0.38939,     0.39039,     0.39139,     0.39239,     0.39339,     0.39439,      0.3954,      0.3964,      0.3974,      0.3984,      0.3994,      0.4004,      0.4014,      0.4024,      0.4034,      0.4044,     0.40541,     0.40641,     0.40741,\n",
       "           0.40841,     0.40941,     0.41041,     0.41141,     0.41241,     0.41341,     0.41441,     0.41542,     0.41642,     0.41742,     0.41842,     0.41942,     0.42042,     0.42142,     0.42242,     0.42342,     0.42442,     0.42543,     0.42643,     0.42743,     0.42843,     0.42943,     0.43043,     0.43143,\n",
       "           0.43243,     0.43343,     0.43443,     0.43544,     0.43644,     0.43744,     0.43844,     0.43944,     0.44044,     0.44144,     0.44244,     0.44344,     0.44444,     0.44545,     0.44645,     0.44745,     0.44845,     0.44945,     0.45045,     0.45145,     0.45245,     0.45345,     0.45445,     0.45546,\n",
       "           0.45646,     0.45746,     0.45846,     0.45946,     0.46046,     0.46146,     0.46246,     0.46346,     0.46446,     0.46547,     0.46647,     0.46747,     0.46847,     0.46947,     0.47047,     0.47147,     0.47247,     0.47347,     0.47447,     0.47548,     0.47648,     0.47748,     0.47848,     0.47948,\n",
       "           0.48048,     0.48148,     0.48248,     0.48348,     0.48448,     0.48549,     0.48649,     0.48749,     0.48849,     0.48949,     0.49049,     0.49149,     0.49249,     0.49349,     0.49449,      0.4955,      0.4965,      0.4975,      0.4985,      0.4995,      0.5005,      0.5015,      0.5025,      0.5035,\n",
       "            0.5045,     0.50551,     0.50651,     0.50751,     0.50851,     0.50951,     0.51051,     0.51151,     0.51251,     0.51351,     0.51451,     0.51552,     0.51652,     0.51752,     0.51852,     0.51952,     0.52052,     0.52152,     0.52252,     0.52352,     0.52452,     0.52553,     0.52653,     0.52753,\n",
       "           0.52853,     0.52953,     0.53053,     0.53153,     0.53253,     0.53353,     0.53453,     0.53554,     0.53654,     0.53754,     0.53854,     0.53954,     0.54054,     0.54154,     0.54254,     0.54354,     0.54454,     0.54555,     0.54655,     0.54755,     0.54855,     0.54955,     0.55055,     0.55155,\n",
       "           0.55255,     0.55355,     0.55455,     0.55556,     0.55656,     0.55756,     0.55856,     0.55956,     0.56056,     0.56156,     0.56256,     0.56356,     0.56456,     0.56557,     0.56657,     0.56757,     0.56857,     0.56957,     0.57057,     0.57157,     0.57257,     0.57357,     0.57457,     0.57558,\n",
       "           0.57658,     0.57758,     0.57858,     0.57958,     0.58058,     0.58158,     0.58258,     0.58358,     0.58458,     0.58559,     0.58659,     0.58759,     0.58859,     0.58959,     0.59059,     0.59159,     0.59259,     0.59359,     0.59459,      0.5956,      0.5966,      0.5976,      0.5986,      0.5996,\n",
       "            0.6006,      0.6016,      0.6026,      0.6036,      0.6046,     0.60561,     0.60661,     0.60761,     0.60861,     0.60961,     0.61061,     0.61161,     0.61261,     0.61361,     0.61461,     0.61562,     0.61662,     0.61762,     0.61862,     0.61962,     0.62062,     0.62162,     0.62262,     0.62362,\n",
       "           0.62462,     0.62563,     0.62663,     0.62763,     0.62863,     0.62963,     0.63063,     0.63163,     0.63263,     0.63363,     0.63463,     0.63564,     0.63664,     0.63764,     0.63864,     0.63964,     0.64064,     0.64164,     0.64264,     0.64364,     0.64464,     0.64565,     0.64665,     0.64765,\n",
       "           0.64865,     0.64965,     0.65065,     0.65165,     0.65265,     0.65365,     0.65465,     0.65566,     0.65666,     0.65766,     0.65866,     0.65966,     0.66066,     0.66166,     0.66266,     0.66366,     0.66466,     0.66567,     0.66667,     0.66767,     0.66867,     0.66967,     0.67067,     0.67167,\n",
       "           0.67267,     0.67367,     0.67467,     0.67568,     0.67668,     0.67768,     0.67868,     0.67968,     0.68068,     0.68168,     0.68268,     0.68368,     0.68468,     0.68569,     0.68669,     0.68769,     0.68869,     0.68969,     0.69069,     0.69169,     0.69269,     0.69369,     0.69469,      0.6957,\n",
       "            0.6967,      0.6977,      0.6987,      0.6997,      0.7007,      0.7017,      0.7027,      0.7037,      0.7047,     0.70571,     0.70671,     0.70771,     0.70871,     0.70971,     0.71071,     0.71171,     0.71271,     0.71371,     0.71471,     0.71572,     0.71672,     0.71772,     0.71872,     0.71972,\n",
       "           0.72072,     0.72172,     0.72272,     0.72372,     0.72472,     0.72573,     0.72673,     0.72773,     0.72873,     0.72973,     0.73073,     0.73173,     0.73273,     0.73373,     0.73473,     0.73574,     0.73674,     0.73774,     0.73874,     0.73974,     0.74074,     0.74174,     0.74274,     0.74374,\n",
       "           0.74474,     0.74575,     0.74675,     0.74775,     0.74875,     0.74975,     0.75075,     0.75175,     0.75275,     0.75375,     0.75475,     0.75576,     0.75676,     0.75776,     0.75876,     0.75976,     0.76076,     0.76176,     0.76276,     0.76376,     0.76476,     0.76577,     0.76677,     0.76777,\n",
       "           0.76877,     0.76977,     0.77077,     0.77177,     0.77277,     0.77377,     0.77477,     0.77578,     0.77678,     0.77778,     0.77878,     0.77978,     0.78078,     0.78178,     0.78278,     0.78378,     0.78478,     0.78579,     0.78679,     0.78779,     0.78879,     0.78979,     0.79079,     0.79179,\n",
       "           0.79279,     0.79379,     0.79479,      0.7958,      0.7968,      0.7978,      0.7988,      0.7998,      0.8008,      0.8018,      0.8028,      0.8038,      0.8048,     0.80581,     0.80681,     0.80781,     0.80881,     0.80981,     0.81081,     0.81181,     0.81281,     0.81381,     0.81481,     0.81582,\n",
       "           0.81682,     0.81782,     0.81882,     0.81982,     0.82082,     0.82182,     0.82282,     0.82382,     0.82482,     0.82583,     0.82683,     0.82783,     0.82883,     0.82983,     0.83083,     0.83183,     0.83283,     0.83383,     0.83483,     0.83584,     0.83684,     0.83784,     0.83884,     0.83984,\n",
       "           0.84084,     0.84184,     0.84284,     0.84384,     0.84484,     0.84585,     0.84685,     0.84785,     0.84885,     0.84985,     0.85085,     0.85185,     0.85285,     0.85385,     0.85485,     0.85586,     0.85686,     0.85786,     0.85886,     0.85986,     0.86086,     0.86186,     0.86286,     0.86386,\n",
       "           0.86486,     0.86587,     0.86687,     0.86787,     0.86887,     0.86987,     0.87087,     0.87187,     0.87287,     0.87387,     0.87487,     0.87588,     0.87688,     0.87788,     0.87888,     0.87988,     0.88088,     0.88188,     0.88288,     0.88388,     0.88488,     0.88589,     0.88689,     0.88789,\n",
       "           0.88889,     0.88989,     0.89089,     0.89189,     0.89289,     0.89389,     0.89489,      0.8959,      0.8969,      0.8979,      0.8989,      0.8999,      0.9009,      0.9019,      0.9029,      0.9039,      0.9049,     0.90591,     0.90691,     0.90791,     0.90891,     0.90991,     0.91091,     0.91191,\n",
       "           0.91291,     0.91391,     0.91491,     0.91592,     0.91692,     0.91792,     0.91892,     0.91992,     0.92092,     0.92192,     0.92292,     0.92392,     0.92492,     0.92593,     0.92693,     0.92793,     0.92893,     0.92993,     0.93093,     0.93193,     0.93293,     0.93393,     0.93493,     0.93594,\n",
       "           0.93694,     0.93794,     0.93894,     0.93994,     0.94094,     0.94194,     0.94294,     0.94394,     0.94494,     0.94595,     0.94695,     0.94795,     0.94895,     0.94995,     0.95095,     0.95195,     0.95295,     0.95395,     0.95495,     0.95596,     0.95696,     0.95796,     0.95896,     0.95996,\n",
       "           0.96096,     0.96196,     0.96296,     0.96396,     0.96496,     0.96597,     0.96697,     0.96797,     0.96897,     0.96997,     0.97097,     0.97197,     0.97297,     0.97397,     0.97497,     0.97598,     0.97698,     0.97798,     0.97898,     0.97998,     0.98098,     0.98198,     0.98298,     0.98398,\n",
       "           0.98498,     0.98599,     0.98699,     0.98799,     0.98899,     0.98999,     0.99099,     0.99199,     0.99299,     0.99399,     0.99499,       0.996,       0.997,       0.998,       0.999,           1]), array([[    0.49534,     0.49534,     0.67794,     0.73248,      0.7731,     0.78635,     0.79877,     0.80347,     0.81293,     0.81525,     0.82347,     0.82817,     0.83663,     0.84528,     0.84689,     0.85086,     0.85244,     0.85378,     0.85481,     0.85585,     0.85744,     0.85915,      0.8598,\n",
       "            0.86045,      0.8611,     0.86175,     0.85885,     0.86215,     0.86638,     0.86756,     0.86832,     0.86909,     0.86985,     0.87588,     0.87763,     0.88165,     0.88761,     0.89124,      0.8914,     0.89157,     0.89173,      0.8919,     0.89206,     0.89223,     0.89239,     0.89256,\n",
       "            0.89272,     0.89289,     0.89305,     0.89322,     0.89338,     0.89355,     0.89371,     0.89388,     0.89404,     0.89421,     0.89439,     0.89535,     0.89631,     0.89727,      0.8979,     0.89841,     0.89891,     0.89942,     0.89993,     0.90043,     0.90082,     0.90105,     0.90129,\n",
       "            0.90153,     0.90176,       0.902,     0.90223,     0.90247,      0.9027,     0.90294,     0.90318,     0.90341,     0.90365,     0.90388,     0.90425,     0.90465,     0.90505,     0.90544,     0.90584,     0.90623,     0.90662,     0.90702,     0.90873,     0.91044,     0.91058,     0.91073,\n",
       "            0.91088,     0.91103,     0.91118,     0.91132,     0.91147,     0.91162,     0.91177,     0.91191,     0.91206,     0.91221,     0.91236,      0.9125,     0.91265,      0.9128,     0.91295,     0.91309,     0.91324,     0.91339,     0.91353,     0.91486,      0.9172,     0.91748,     0.91776,\n",
       "            0.91804,     0.91832,      0.9186,     0.91888,     0.91916,     0.91944,     0.91972,        0.92,     0.92028,     0.92041,     0.92053,     0.92065,     0.92078,      0.9209,     0.92102,     0.92114,     0.92127,     0.92139,     0.92151,     0.92163,     0.92176,     0.92188,       0.922,\n",
       "            0.92212,     0.92225,     0.92237,     0.92249,     0.92261,     0.92274,     0.92286,     0.92298,      0.9231,     0.92323,     0.92335,     0.92347,     0.92359,     0.92349,     0.92326,     0.92304,     0.92281,     0.92258,     0.92235,     0.92212,     0.92189,     0.92167,     0.92144,\n",
       "            0.92121,     0.92098,     0.92075,     0.92052,     0.92029,     0.92006,     0.91984,     0.92016,     0.92119,     0.92221,     0.92392,     0.92657,     0.92676,     0.92694,     0.92713,     0.92732,      0.9275,     0.92769,     0.92787,     0.92806,     0.92824,     0.92843,     0.92862,\n",
       "             0.9288,     0.92899,     0.92917,     0.92936,     0.92954,     0.92973,     0.92992,     0.93013,     0.93034,     0.93056,     0.93077,     0.93098,     0.93119,     0.93141,     0.93162,     0.93183,     0.93204,     0.93225,     0.93247,     0.93268,     0.93289,      0.9331,     0.93331,\n",
       "            0.93313,      0.9329,     0.93267,     0.93245,     0.93222,     0.93199,     0.93177,     0.93154,     0.93131,     0.93108,     0.93086,     0.93063,      0.9304,     0.93017,     0.92995,     0.92972,     0.92949,     0.92856,     0.92684,     0.92546,     0.92602,     0.92658,     0.92713,\n",
       "            0.92769,     0.92825,      0.9288,     0.92886,     0.92889,     0.92891,     0.92894,     0.92896,     0.92899,     0.92901,     0.92904,     0.92906,     0.92909,     0.92912,     0.92914,     0.92917,     0.92919,     0.92922,     0.92924,     0.92927,     0.92929,     0.92932,     0.92934,\n",
       "            0.92937,     0.92939,     0.92942,     0.92944,     0.92947,     0.92949,     0.92952,     0.92954,     0.92957,      0.9296,     0.92962,     0.92965,     0.92967,      0.9297,     0.92972,     0.92975,     0.92977,      0.9298,     0.92982,     0.92985,     0.92987,      0.9299,     0.92992,\n",
       "            0.92995,     0.92997,        0.93,     0.93002,     0.93005,     0.93007,      0.9301,     0.93012,     0.93015,     0.93018,      0.9302,     0.93023,     0.93025,     0.93028,      0.9303,     0.93033,     0.93035,     0.93038,      0.9304,     0.93043,     0.93045,     0.93048,      0.9305,\n",
       "            0.93053,     0.93055,     0.93058,      0.9306,     0.93063,     0.93065,     0.93068,      0.9307,     0.93073,     0.93075,     0.93078,      0.9308,     0.93083,     0.93086,     0.93088,     0.93091,     0.93093,     0.93096,     0.93098,     0.93101,     0.93103,     0.93106,     0.93108,\n",
       "            0.93111,     0.93113,     0.93116,     0.93118,     0.93121,     0.93123,     0.93126,     0.93128,     0.93131,     0.93133,     0.93136,     0.93138,     0.93141,     0.93143,     0.93146,     0.93148,     0.93151,     0.93153,     0.93156,     0.93158,     0.93161,     0.93163,     0.93166,\n",
       "            0.93169,     0.93171,     0.93174,     0.93176,     0.93179,     0.93181,     0.93184,     0.93186,     0.93189,     0.93191,     0.93194,     0.93196,     0.93199,     0.93201,     0.93204,     0.93206,     0.93209,     0.93211,     0.93214,     0.93216,     0.93219,     0.93221,     0.93224,\n",
       "            0.93226,     0.93229,     0.93231,     0.93232,     0.93229,     0.93227,     0.93224,     0.93221,     0.93218,     0.93215,     0.93212,     0.93209,     0.93206,     0.93203,     0.93201,     0.93198,     0.93195,     0.93192,     0.93189,     0.93186,     0.93183,      0.9318,     0.93178,\n",
       "            0.93175,     0.93172,     0.93169,     0.93166,     0.93163,      0.9316,     0.93157,     0.93155,     0.93152,     0.93149,     0.93146,     0.93143,      0.9314,     0.93137,     0.93134,     0.93131,     0.93129,     0.93126,     0.93123,      0.9312,     0.93117,     0.93114,     0.93111,\n",
       "            0.93108,     0.93106,     0.93103,       0.931,     0.93097,     0.93094,     0.93091,     0.93088,     0.93085,     0.93082,      0.9308,     0.93077,     0.93074,     0.93071,     0.93068,     0.93065,     0.93062,     0.93059,     0.93056,     0.93054,     0.93051,     0.93048,     0.93045,\n",
       "            0.93042,     0.93039,     0.93036,     0.93033,      0.9303,     0.93028,     0.93025,     0.93022,     0.93019,     0.93016,     0.93013,      0.9301,     0.93007,     0.93004,     0.93002,     0.92999,     0.92996,     0.92993,      0.9299,     0.92987,     0.92984,     0.92981,     0.92978,\n",
       "            0.92976,     0.92973,      0.9297,     0.92967,     0.92964,     0.92961,     0.92958,     0.92955,     0.92952,      0.9295,     0.92947,     0.92944,     0.92941,     0.92938,     0.92935,     0.92932,     0.92929,     0.92926,     0.92924,     0.92921,     0.92918,     0.92915,     0.92912,\n",
       "            0.92909,     0.92906,     0.92903,       0.929,     0.92897,     0.92895,     0.92892,     0.92889,     0.92886,     0.92883,      0.9288,     0.92877,     0.92874,     0.92871,     0.92869,     0.92866,     0.92863,      0.9286,     0.92857,     0.92854,     0.92851,     0.92848,     0.92845,\n",
       "            0.92842,      0.9284,     0.92837,     0.92834,     0.92831,     0.92847,     0.92868,     0.92889,      0.9291,     0.92932,     0.92953,     0.92974,     0.92995,     0.93016,     0.93038,     0.93059,      0.9308,     0.93101,     0.93122,     0.93143,     0.93165,     0.93183,     0.93187,\n",
       "            0.93192,     0.93196,     0.93201,     0.93205,      0.9321,     0.93214,     0.93219,     0.93223,     0.93228,     0.93232,     0.93237,     0.93241,     0.93246,     0.93251,     0.93255,      0.9326,     0.93264,     0.93269,     0.93273,     0.93278,     0.93282,     0.93287,     0.93291,\n",
       "            0.93296,       0.933,     0.93305,     0.93309,     0.93314,     0.93318,     0.93323,     0.93327,     0.93332,     0.93336,     0.93341,     0.93345,      0.9335,     0.93354,     0.93359,     0.93363,     0.93368,     0.93372,     0.93377,     0.93381,     0.93386,     0.93391,     0.93395,\n",
       "              0.934,     0.93404,     0.93409,     0.93413,     0.93418,     0.93422,     0.93427,     0.93431,     0.93436,      0.9344,     0.93445,     0.93449,     0.93454,     0.93458,     0.93463,     0.93467,     0.93472,     0.93476,     0.93481,     0.93485,      0.9349,     0.93494,     0.93499,\n",
       "            0.93503,     0.93508,     0.93512,     0.93517,     0.93521,     0.93526,      0.9353,     0.93535,     0.93546,     0.93562,     0.93578,     0.93593,     0.93609,     0.93624,      0.9364,     0.93656,     0.93671,     0.93687,     0.93702,     0.93718,     0.93733,     0.93749,     0.93765,\n",
       "             0.9378,     0.93796,     0.93811,     0.93827,     0.93842,     0.93858,     0.93873,     0.93889,     0.93942,     0.94009,     0.94076,     0.94143,      0.9421,     0.94248,     0.94235,     0.94221,     0.94208,     0.94194,     0.94181,     0.94168,     0.94154,     0.94141,     0.94127,\n",
       "            0.94114,       0.941,     0.94087,     0.94074,      0.9406,     0.94047,     0.94033,      0.9402,     0.94006,     0.93993,     0.93979,     0.93966,     0.93952,     0.93939,     0.93926,     0.93912,     0.93899,     0.93885,     0.93872,     0.93858,     0.93889,     0.94207,     0.94194,\n",
       "            0.94181,     0.94167,     0.94154,     0.94141,     0.94128,     0.94115,     0.94102,     0.94089,     0.94076,     0.94063,     0.94049,     0.94036,     0.94023,      0.9401,     0.93997,     0.93984,     0.93971,     0.93957,     0.93944,     0.93931,     0.93918,     0.93905,     0.93892,\n",
       "            0.93879,     0.93865,     0.93852,     0.93839,     0.93826,     0.93813,       0.938,     0.93821,     0.93846,     0.93872,     0.93897,     0.93921,     0.93946,     0.93971,     0.93996,     0.94021,     0.94046,     0.94071,     0.94096,     0.94121,     0.94146,     0.94162,     0.94156,\n",
       "            0.94151,     0.94145,     0.94139,     0.94134,     0.94128,     0.94123,     0.94117,     0.94111,     0.94106,       0.941,     0.94095,     0.94089,     0.94083,     0.94078,     0.94072,     0.94067,     0.94061,     0.94055,      0.9405,     0.94044,     0.94039,     0.94033,     0.94027,\n",
       "            0.94022,     0.94016,     0.94011,     0.94005,     0.93999,     0.93994,     0.93988,     0.93983,     0.93977,     0.93971,     0.93966,      0.9396,     0.93955,     0.93949,     0.93943,     0.93938,     0.93932,     0.93926,     0.93921,     0.93915,      0.9391,     0.93904,     0.93898,\n",
       "            0.93893,     0.93887,     0.93882,     0.93876,      0.9387,     0.93865,     0.93859,     0.93853,     0.93848,     0.93842,     0.93837,     0.93831,     0.93825,      0.9382,     0.93814,     0.93808,     0.93803,     0.93797,     0.93792,     0.93786,      0.9378,     0.93775,     0.93769,\n",
       "            0.93763,     0.93758,     0.93752,     0.93759,     0.93774,     0.93789,     0.93804,     0.93819,     0.93833,     0.93848,     0.93863,     0.93878,     0.93893,     0.93907,     0.93922,     0.93937,     0.93952,     0.93967,     0.93981,     0.93996,     0.94011,     0.94026,      0.9404,\n",
       "            0.94055,      0.9407,     0.94085,     0.94099,     0.94114,     0.94047,     0.93952,     0.93857,     0.93762,      0.9367,     0.93584,     0.93498,     0.93412,     0.93325,     0.93287,     0.93301,     0.93314,     0.93328,     0.93342,     0.93355,     0.93369,     0.93382,     0.93396,\n",
       "             0.9341,     0.93423,     0.93437,      0.9345,     0.93464,     0.93477,     0.93491,     0.93504,     0.93518,     0.93531,     0.93545,     0.93559,     0.93572,     0.93586,     0.93599,     0.93613,     0.93626,      0.9364,     0.93648,      0.9363,     0.93612,     0.93594,     0.93576,\n",
       "            0.93558,      0.9354,     0.93521,     0.93503,     0.93485,     0.93467,     0.93449,     0.93431,     0.93413,     0.93395,     0.93377,     0.93359,      0.9334,     0.93322,     0.93304,     0.93286,     0.93268,      0.9325,     0.93232,     0.93145,     0.93036,     0.92926,     0.92816,\n",
       "            0.92693,     0.92567,     0.92441,     0.92176,     0.91798,     0.91499,     0.91398,     0.91298,     0.91197,     0.91097,     0.90873,     0.90602,     0.90532,     0.90461,      0.9039,      0.9032,     0.90249,     0.90178,     0.89979,     0.89747,     0.89553,     0.89366,     0.89213,\n",
       "            0.89109,     0.89004,     0.88899,     0.88312,     0.87695,     0.87385,     0.87246,     0.87107,     0.86968,     0.86759,     0.86513,     0.85606,     0.84236,     0.82315,     0.81783,     0.81382,     0.81274,     0.81166,     0.81058,      0.8095,     0.80794,     0.80576,     0.80358,\n",
       "            0.77617,     0.77234,     0.74681,     0.73468,     0.72798,     0.72488,     0.71557,     0.70865,     0.70252,     0.67873,     0.67426,       0.668,     0.65855,     0.65395,     0.64134,     0.62141,      0.6125,     0.60798,     0.60426,     0.59687,     0.58166,      0.5703,     0.56244,\n",
       "            0.55759,     0.55494,     0.55227,     0.53813,     0.52559,     0.52281,     0.52002,     0.50188,     0.49844,     0.49498,     0.48717,     0.48288,     0.47935,     0.47544,     0.47098,     0.46739,     0.46481,     0.46223,      0.4589,     0.45018,     0.44896,     0.44773,      0.4465,\n",
       "            0.44527,     0.44403,      0.4428,     0.44158,     0.44042,     0.43925,     0.43809,     0.43692,     0.43575,     0.43458,     0.43341,     0.43069,     0.42596,     0.41421,     0.41035,     0.40647,     0.17502,           0,           0,           0,           0,           0,           0,\n",
       "                  0,           0,           0,           0,           0,           0,           0,           0,           0,           0,           0]]), 'Confidence', 'F1'], [array([          0,    0.001001,    0.002002,    0.003003,    0.004004,    0.005005,    0.006006,    0.007007,    0.008008,    0.009009,     0.01001,    0.011011,    0.012012,    0.013013,    0.014014,    0.015015,    0.016016,    0.017017,    0.018018,    0.019019,     0.02002,    0.021021,    0.022022,    0.023023,\n",
       "          0.024024,    0.025025,    0.026026,    0.027027,    0.028028,    0.029029,     0.03003,    0.031031,    0.032032,    0.033033,    0.034034,    0.035035,    0.036036,    0.037037,    0.038038,    0.039039,     0.04004,    0.041041,    0.042042,    0.043043,    0.044044,    0.045045,    0.046046,    0.047047,\n",
       "          0.048048,    0.049049,     0.05005,    0.051051,    0.052052,    0.053053,    0.054054,    0.055055,    0.056056,    0.057057,    0.058058,    0.059059,     0.06006,    0.061061,    0.062062,    0.063063,    0.064064,    0.065065,    0.066066,    0.067067,    0.068068,    0.069069,     0.07007,    0.071071,\n",
       "          0.072072,    0.073073,    0.074074,    0.075075,    0.076076,    0.077077,    0.078078,    0.079079,     0.08008,    0.081081,    0.082082,    0.083083,    0.084084,    0.085085,    0.086086,    0.087087,    0.088088,    0.089089,     0.09009,    0.091091,    0.092092,    0.093093,    0.094094,    0.095095,\n",
       "          0.096096,    0.097097,    0.098098,    0.099099,      0.1001,      0.1011,      0.1021,      0.1031,      0.1041,     0.10511,     0.10611,     0.10711,     0.10811,     0.10911,     0.11011,     0.11111,     0.11211,     0.11311,     0.11411,     0.11512,     0.11612,     0.11712,     0.11812,     0.11912,\n",
       "           0.12012,     0.12112,     0.12212,     0.12312,     0.12412,     0.12513,     0.12613,     0.12713,     0.12813,     0.12913,     0.13013,     0.13113,     0.13213,     0.13313,     0.13413,     0.13514,     0.13614,     0.13714,     0.13814,     0.13914,     0.14014,     0.14114,     0.14214,     0.14314,\n",
       "           0.14414,     0.14515,     0.14615,     0.14715,     0.14815,     0.14915,     0.15015,     0.15115,     0.15215,     0.15315,     0.15415,     0.15516,     0.15616,     0.15716,     0.15816,     0.15916,     0.16016,     0.16116,     0.16216,     0.16316,     0.16416,     0.16517,     0.16617,     0.16717,\n",
       "           0.16817,     0.16917,     0.17017,     0.17117,     0.17217,     0.17317,     0.17417,     0.17518,     0.17618,     0.17718,     0.17818,     0.17918,     0.18018,     0.18118,     0.18218,     0.18318,     0.18418,     0.18519,     0.18619,     0.18719,     0.18819,     0.18919,     0.19019,     0.19119,\n",
       "           0.19219,     0.19319,     0.19419,      0.1952,      0.1962,      0.1972,      0.1982,      0.1992,      0.2002,      0.2012,      0.2022,      0.2032,      0.2042,     0.20521,     0.20621,     0.20721,     0.20821,     0.20921,     0.21021,     0.21121,     0.21221,     0.21321,     0.21421,     0.21522,\n",
       "           0.21622,     0.21722,     0.21822,     0.21922,     0.22022,     0.22122,     0.22222,     0.22322,     0.22422,     0.22523,     0.22623,     0.22723,     0.22823,     0.22923,     0.23023,     0.23123,     0.23223,     0.23323,     0.23423,     0.23524,     0.23624,     0.23724,     0.23824,     0.23924,\n",
       "           0.24024,     0.24124,     0.24224,     0.24324,     0.24424,     0.24525,     0.24625,     0.24725,     0.24825,     0.24925,     0.25025,     0.25125,     0.25225,     0.25325,     0.25425,     0.25526,     0.25626,     0.25726,     0.25826,     0.25926,     0.26026,     0.26126,     0.26226,     0.26326,\n",
       "           0.26426,     0.26527,     0.26627,     0.26727,     0.26827,     0.26927,     0.27027,     0.27127,     0.27227,     0.27327,     0.27427,     0.27528,     0.27628,     0.27728,     0.27828,     0.27928,     0.28028,     0.28128,     0.28228,     0.28328,     0.28428,     0.28529,     0.28629,     0.28729,\n",
       "           0.28829,     0.28929,     0.29029,     0.29129,     0.29229,     0.29329,     0.29429,      0.2953,      0.2963,      0.2973,      0.2983,      0.2993,      0.3003,      0.3013,      0.3023,      0.3033,      0.3043,     0.30531,     0.30631,     0.30731,     0.30831,     0.30931,     0.31031,     0.31131,\n",
       "           0.31231,     0.31331,     0.31431,     0.31532,     0.31632,     0.31732,     0.31832,     0.31932,     0.32032,     0.32132,     0.32232,     0.32332,     0.32432,     0.32533,     0.32633,     0.32733,     0.32833,     0.32933,     0.33033,     0.33133,     0.33233,     0.33333,     0.33433,     0.33534,\n",
       "           0.33634,     0.33734,     0.33834,     0.33934,     0.34034,     0.34134,     0.34234,     0.34334,     0.34434,     0.34535,     0.34635,     0.34735,     0.34835,     0.34935,     0.35035,     0.35135,     0.35235,     0.35335,     0.35435,     0.35536,     0.35636,     0.35736,     0.35836,     0.35936,\n",
       "           0.36036,     0.36136,     0.36236,     0.36336,     0.36436,     0.36537,     0.36637,     0.36737,     0.36837,     0.36937,     0.37037,     0.37137,     0.37237,     0.37337,     0.37437,     0.37538,     0.37638,     0.37738,     0.37838,     0.37938,     0.38038,     0.38138,     0.38238,     0.38338,\n",
       "           0.38438,     0.38539,     0.38639,     0.38739,     0.38839,     0.38939,     0.39039,     0.39139,     0.39239,     0.39339,     0.39439,      0.3954,      0.3964,      0.3974,      0.3984,      0.3994,      0.4004,      0.4014,      0.4024,      0.4034,      0.4044,     0.40541,     0.40641,     0.40741,\n",
       "           0.40841,     0.40941,     0.41041,     0.41141,     0.41241,     0.41341,     0.41441,     0.41542,     0.41642,     0.41742,     0.41842,     0.41942,     0.42042,     0.42142,     0.42242,     0.42342,     0.42442,     0.42543,     0.42643,     0.42743,     0.42843,     0.42943,     0.43043,     0.43143,\n",
       "           0.43243,     0.43343,     0.43443,     0.43544,     0.43644,     0.43744,     0.43844,     0.43944,     0.44044,     0.44144,     0.44244,     0.44344,     0.44444,     0.44545,     0.44645,     0.44745,     0.44845,     0.44945,     0.45045,     0.45145,     0.45245,     0.45345,     0.45445,     0.45546,\n",
       "           0.45646,     0.45746,     0.45846,     0.45946,     0.46046,     0.46146,     0.46246,     0.46346,     0.46446,     0.46547,     0.46647,     0.46747,     0.46847,     0.46947,     0.47047,     0.47147,     0.47247,     0.47347,     0.47447,     0.47548,     0.47648,     0.47748,     0.47848,     0.47948,\n",
       "           0.48048,     0.48148,     0.48248,     0.48348,     0.48448,     0.48549,     0.48649,     0.48749,     0.48849,     0.48949,     0.49049,     0.49149,     0.49249,     0.49349,     0.49449,      0.4955,      0.4965,      0.4975,      0.4985,      0.4995,      0.5005,      0.5015,      0.5025,      0.5035,\n",
       "            0.5045,     0.50551,     0.50651,     0.50751,     0.50851,     0.50951,     0.51051,     0.51151,     0.51251,     0.51351,     0.51451,     0.51552,     0.51652,     0.51752,     0.51852,     0.51952,     0.52052,     0.52152,     0.52252,     0.52352,     0.52452,     0.52553,     0.52653,     0.52753,\n",
       "           0.52853,     0.52953,     0.53053,     0.53153,     0.53253,     0.53353,     0.53453,     0.53554,     0.53654,     0.53754,     0.53854,     0.53954,     0.54054,     0.54154,     0.54254,     0.54354,     0.54454,     0.54555,     0.54655,     0.54755,     0.54855,     0.54955,     0.55055,     0.55155,\n",
       "           0.55255,     0.55355,     0.55455,     0.55556,     0.55656,     0.55756,     0.55856,     0.55956,     0.56056,     0.56156,     0.56256,     0.56356,     0.56456,     0.56557,     0.56657,     0.56757,     0.56857,     0.56957,     0.57057,     0.57157,     0.57257,     0.57357,     0.57457,     0.57558,\n",
       "           0.57658,     0.57758,     0.57858,     0.57958,     0.58058,     0.58158,     0.58258,     0.58358,     0.58458,     0.58559,     0.58659,     0.58759,     0.58859,     0.58959,     0.59059,     0.59159,     0.59259,     0.59359,     0.59459,      0.5956,      0.5966,      0.5976,      0.5986,      0.5996,\n",
       "            0.6006,      0.6016,      0.6026,      0.6036,      0.6046,     0.60561,     0.60661,     0.60761,     0.60861,     0.60961,     0.61061,     0.61161,     0.61261,     0.61361,     0.61461,     0.61562,     0.61662,     0.61762,     0.61862,     0.61962,     0.62062,     0.62162,     0.62262,     0.62362,\n",
       "           0.62462,     0.62563,     0.62663,     0.62763,     0.62863,     0.62963,     0.63063,     0.63163,     0.63263,     0.63363,     0.63463,     0.63564,     0.63664,     0.63764,     0.63864,     0.63964,     0.64064,     0.64164,     0.64264,     0.64364,     0.64464,     0.64565,     0.64665,     0.64765,\n",
       "           0.64865,     0.64965,     0.65065,     0.65165,     0.65265,     0.65365,     0.65465,     0.65566,     0.65666,     0.65766,     0.65866,     0.65966,     0.66066,     0.66166,     0.66266,     0.66366,     0.66466,     0.66567,     0.66667,     0.66767,     0.66867,     0.66967,     0.67067,     0.67167,\n",
       "           0.67267,     0.67367,     0.67467,     0.67568,     0.67668,     0.67768,     0.67868,     0.67968,     0.68068,     0.68168,     0.68268,     0.68368,     0.68468,     0.68569,     0.68669,     0.68769,     0.68869,     0.68969,     0.69069,     0.69169,     0.69269,     0.69369,     0.69469,      0.6957,\n",
       "            0.6967,      0.6977,      0.6987,      0.6997,      0.7007,      0.7017,      0.7027,      0.7037,      0.7047,     0.70571,     0.70671,     0.70771,     0.70871,     0.70971,     0.71071,     0.71171,     0.71271,     0.71371,     0.71471,     0.71572,     0.71672,     0.71772,     0.71872,     0.71972,\n",
       "           0.72072,     0.72172,     0.72272,     0.72372,     0.72472,     0.72573,     0.72673,     0.72773,     0.72873,     0.72973,     0.73073,     0.73173,     0.73273,     0.73373,     0.73473,     0.73574,     0.73674,     0.73774,     0.73874,     0.73974,     0.74074,     0.74174,     0.74274,     0.74374,\n",
       "           0.74474,     0.74575,     0.74675,     0.74775,     0.74875,     0.74975,     0.75075,     0.75175,     0.75275,     0.75375,     0.75475,     0.75576,     0.75676,     0.75776,     0.75876,     0.75976,     0.76076,     0.76176,     0.76276,     0.76376,     0.76476,     0.76577,     0.76677,     0.76777,\n",
       "           0.76877,     0.76977,     0.77077,     0.77177,     0.77277,     0.77377,     0.77477,     0.77578,     0.77678,     0.77778,     0.77878,     0.77978,     0.78078,     0.78178,     0.78278,     0.78378,     0.78478,     0.78579,     0.78679,     0.78779,     0.78879,     0.78979,     0.79079,     0.79179,\n",
       "           0.79279,     0.79379,     0.79479,      0.7958,      0.7968,      0.7978,      0.7988,      0.7998,      0.8008,      0.8018,      0.8028,      0.8038,      0.8048,     0.80581,     0.80681,     0.80781,     0.80881,     0.80981,     0.81081,     0.81181,     0.81281,     0.81381,     0.81481,     0.81582,\n",
       "           0.81682,     0.81782,     0.81882,     0.81982,     0.82082,     0.82182,     0.82282,     0.82382,     0.82482,     0.82583,     0.82683,     0.82783,     0.82883,     0.82983,     0.83083,     0.83183,     0.83283,     0.83383,     0.83483,     0.83584,     0.83684,     0.83784,     0.83884,     0.83984,\n",
       "           0.84084,     0.84184,     0.84284,     0.84384,     0.84484,     0.84585,     0.84685,     0.84785,     0.84885,     0.84985,     0.85085,     0.85185,     0.85285,     0.85385,     0.85485,     0.85586,     0.85686,     0.85786,     0.85886,     0.85986,     0.86086,     0.86186,     0.86286,     0.86386,\n",
       "           0.86486,     0.86587,     0.86687,     0.86787,     0.86887,     0.86987,     0.87087,     0.87187,     0.87287,     0.87387,     0.87487,     0.87588,     0.87688,     0.87788,     0.87888,     0.87988,     0.88088,     0.88188,     0.88288,     0.88388,     0.88488,     0.88589,     0.88689,     0.88789,\n",
       "           0.88889,     0.88989,     0.89089,     0.89189,     0.89289,     0.89389,     0.89489,      0.8959,      0.8969,      0.8979,      0.8989,      0.8999,      0.9009,      0.9019,      0.9029,      0.9039,      0.9049,     0.90591,     0.90691,     0.90791,     0.90891,     0.90991,     0.91091,     0.91191,\n",
       "           0.91291,     0.91391,     0.91491,     0.91592,     0.91692,     0.91792,     0.91892,     0.91992,     0.92092,     0.92192,     0.92292,     0.92392,     0.92492,     0.92593,     0.92693,     0.92793,     0.92893,     0.92993,     0.93093,     0.93193,     0.93293,     0.93393,     0.93493,     0.93594,\n",
       "           0.93694,     0.93794,     0.93894,     0.93994,     0.94094,     0.94194,     0.94294,     0.94394,     0.94494,     0.94595,     0.94695,     0.94795,     0.94895,     0.94995,     0.95095,     0.95195,     0.95295,     0.95395,     0.95495,     0.95596,     0.95696,     0.95796,     0.95896,     0.95996,\n",
       "           0.96096,     0.96196,     0.96296,     0.96396,     0.96496,     0.96597,     0.96697,     0.96797,     0.96897,     0.96997,     0.97097,     0.97197,     0.97297,     0.97397,     0.97497,     0.97598,     0.97698,     0.97798,     0.97898,     0.97998,     0.98098,     0.98198,     0.98298,     0.98398,\n",
       "           0.98498,     0.98599,     0.98699,     0.98799,     0.98899,     0.98999,     0.99099,     0.99199,     0.99299,     0.99399,     0.99499,       0.996,       0.997,       0.998,       0.999,           1]), array([[    0.33002,     0.33002,     0.51478,     0.58563,      0.6459,     0.66461,     0.68255,     0.68945,     0.70451,     0.71106,     0.72366,     0.73094,     0.74424,     0.75802,     0.76063,     0.76705,     0.76962,     0.77181,     0.77351,      0.7752,     0.77782,     0.78063,     0.78171,\n",
       "            0.78279,     0.78387,     0.78495,      0.7852,     0.79072,     0.79786,     0.79987,     0.80117,     0.80248,     0.80378,     0.81414,     0.81716,     0.82416,     0.83464,     0.84107,     0.84137,     0.84166,     0.84196,     0.84225,     0.84255,     0.84284,     0.84314,     0.84343,\n",
       "            0.84373,     0.84402,     0.84432,     0.84461,     0.84491,      0.8452,      0.8455,     0.84579,     0.84608,     0.84638,     0.84671,     0.84844,     0.85016,     0.85189,     0.85302,     0.85394,     0.85486,     0.85577,     0.85669,     0.85761,      0.8583,     0.85873,     0.85916,\n",
       "            0.85959,     0.86002,     0.86045,     0.86088,     0.86131,     0.86174,     0.86217,      0.8626,     0.86302,     0.86345,     0.86388,     0.86457,     0.86529,     0.86601,     0.86674,     0.86746,     0.86819,     0.86891,     0.86963,     0.87279,     0.87594,     0.87621,     0.87649,\n",
       "            0.87676,     0.87704,     0.87731,     0.87758,     0.87786,     0.87813,     0.87841,     0.87868,     0.87895,     0.87923,      0.8795,     0.87978,     0.88005,     0.88032,      0.8806,     0.88087,     0.88115,     0.88142,     0.88169,     0.88417,     0.88856,     0.88908,     0.88961,\n",
       "            0.89013,     0.89066,     0.89119,     0.89171,     0.89224,     0.89276,     0.89329,     0.89382,     0.89434,     0.89459,     0.89482,     0.89505,     0.89528,     0.89552,     0.89575,     0.89598,     0.89621,     0.89645,     0.89668,     0.89691,     0.89714,     0.89737,     0.89761,\n",
       "            0.89784,     0.89807,      0.8983,     0.89854,     0.89877,       0.899,     0.89923,     0.89946,      0.8997,     0.89993,     0.90016,     0.90039,     0.90063,     0.90068,     0.90064,      0.9006,     0.90056,     0.90052,     0.90048,     0.90044,     0.90039,     0.90035,     0.90031,\n",
       "            0.90027,     0.90023,     0.90019,     0.90015,     0.90011,     0.90006,     0.90002,     0.90087,     0.90284,      0.9048,      0.9081,     0.91324,      0.9136,     0.91396,     0.91432,     0.91469,     0.91505,     0.91541,     0.91577,     0.91613,      0.9165,     0.91686,     0.91722,\n",
       "            0.91758,     0.91794,     0.91831,     0.91867,     0.91903,     0.91939,     0.91976,     0.92018,     0.92059,     0.92101,     0.92143,     0.92185,     0.92226,     0.92268,      0.9231,     0.92351,     0.92393,     0.92435,     0.92476,     0.92518,      0.9256,     0.92602,     0.92643,\n",
       "            0.92644,     0.92641,     0.92638,     0.92635,     0.92632,     0.92629,     0.92625,     0.92622,     0.92619,     0.92616,     0.92613,      0.9261,     0.92607,     0.92604,       0.926,     0.92597,     0.92594,     0.92581,     0.92558,     0.92554,     0.92666,     0.92778,      0.9289,\n",
       "            0.93002,     0.93114,     0.93226,     0.93238,     0.93243,     0.93248,     0.93253,     0.93258,     0.93263,     0.93268,     0.93273,     0.93279,     0.93284,     0.93289,     0.93294,     0.93299,     0.93304,     0.93309,     0.93314,     0.93319,     0.93324,      0.9333,     0.93335,\n",
       "             0.9334,     0.93345,      0.9335,     0.93355,      0.9336,     0.93365,      0.9337,     0.93375,      0.9338,     0.93386,     0.93391,     0.93396,     0.93401,     0.93406,     0.93411,     0.93416,     0.93421,     0.93426,     0.93431,     0.93436,     0.93442,     0.93447,     0.93452,\n",
       "            0.93457,     0.93462,     0.93467,     0.93472,     0.93477,     0.93482,     0.93487,     0.93493,     0.93498,     0.93503,     0.93508,     0.93513,     0.93518,     0.93523,     0.93528,     0.93533,     0.93538,     0.93543,     0.93549,     0.93554,     0.93559,     0.93564,     0.93569,\n",
       "            0.93574,     0.93579,     0.93584,     0.93589,     0.93594,       0.936,     0.93605,      0.9361,     0.93615,      0.9362,     0.93625,      0.9363,     0.93635,      0.9364,     0.93645,      0.9365,     0.93656,     0.93661,     0.93666,     0.93671,     0.93676,     0.93681,     0.93686,\n",
       "            0.93691,     0.93696,     0.93701,     0.93706,     0.93712,     0.93717,     0.93722,     0.93727,     0.93732,     0.93737,     0.93742,     0.93747,     0.93752,     0.93757,     0.93763,     0.93768,     0.93773,     0.93778,     0.93783,     0.93788,     0.93793,     0.93798,     0.93803,\n",
       "            0.93808,     0.93813,     0.93819,     0.93824,     0.93829,     0.93834,     0.93839,     0.93844,     0.93849,     0.93854,     0.93859,     0.93864,     0.93869,     0.93875,      0.9388,     0.93885,      0.9389,     0.93895,       0.939,     0.93905,      0.9391,     0.93915,      0.9392,\n",
       "            0.93926,     0.93931,     0.93936,     0.93939,     0.93939,     0.93939,     0.93938,     0.93938,     0.93938,     0.93937,     0.93937,     0.93937,     0.93936,     0.93936,     0.93936,     0.93935,     0.93935,     0.93935,     0.93934,     0.93934,     0.93934,     0.93933,     0.93933,\n",
       "            0.93933,     0.93932,     0.93932,     0.93932,     0.93931,     0.93931,     0.93931,      0.9393,      0.9393,      0.9393,     0.93929,     0.93929,     0.93929,     0.93928,     0.93928,     0.93928,     0.93927,     0.93927,     0.93927,     0.93926,     0.93926,     0.93926,     0.93925,\n",
       "            0.93925,     0.93925,     0.93924,     0.93924,     0.93924,     0.93923,     0.93923,     0.93923,     0.93922,     0.93922,     0.93922,     0.93921,     0.93921,     0.93921,      0.9392,      0.9392,      0.9392,     0.93919,     0.93919,     0.93919,     0.93918,     0.93918,     0.93918,\n",
       "            0.93917,     0.93917,     0.93917,     0.93916,     0.93916,     0.93916,     0.93915,     0.93915,     0.93915,     0.93914,     0.93914,     0.93914,     0.93913,     0.93913,     0.93913,     0.93912,     0.93912,     0.93912,     0.93911,     0.93911,     0.93911,      0.9391,      0.9391,\n",
       "             0.9391,     0.93909,     0.93909,     0.93909,     0.93908,     0.93908,     0.93908,     0.93907,     0.93907,     0.93907,     0.93906,     0.93906,     0.93906,     0.93905,     0.93905,     0.93905,     0.93904,     0.93904,     0.93904,     0.93903,     0.93903,     0.93903,     0.93902,\n",
       "            0.93902,     0.93902,     0.93901,     0.93901,     0.93901,     0.93901,       0.939,       0.939,       0.939,     0.93899,     0.93899,     0.93899,     0.93898,     0.93898,     0.93898,     0.93897,     0.93897,     0.93897,     0.93896,     0.93896,     0.93896,     0.93895,     0.93895,\n",
       "            0.93895,     0.93894,     0.93894,     0.93894,     0.93893,     0.93927,      0.9397,     0.94014,     0.94057,     0.94101,     0.94144,     0.94188,     0.94231,     0.94275,     0.94319,     0.94362,     0.94406,     0.94449,     0.94493,     0.94536,      0.9458,     0.94617,     0.94626,\n",
       "            0.94636,     0.94645,     0.94654,     0.94664,     0.94673,     0.94682,     0.94692,     0.94701,      0.9471,      0.9472,     0.94729,     0.94739,     0.94748,     0.94757,     0.94767,     0.94776,     0.94785,     0.94795,     0.94804,     0.94813,     0.94823,     0.94832,     0.94841,\n",
       "            0.94851,      0.9486,     0.94869,     0.94879,     0.94888,     0.94897,     0.94907,     0.94916,     0.94925,     0.94935,     0.94944,     0.94953,     0.94963,     0.94972,     0.94981,     0.94991,        0.95,     0.95009,     0.95019,     0.95028,     0.95037,     0.95047,     0.95056,\n",
       "            0.95065,     0.95075,     0.95084,     0.95093,     0.95103,     0.95112,     0.95121,     0.95131,      0.9514,     0.95149,     0.95159,     0.95168,     0.95177,     0.95187,     0.95196,     0.95205,     0.95215,     0.95224,     0.95233,     0.95243,     0.95252,     0.95262,     0.95271,\n",
       "             0.9528,      0.9529,     0.95299,     0.95308,     0.95318,     0.95327,     0.95336,     0.95346,      0.9537,     0.95402,     0.95435,     0.95467,       0.955,     0.95532,     0.95565,     0.95597,      0.9563,     0.95662,     0.95695,     0.95727,      0.9576,     0.95792,     0.95825,\n",
       "            0.95857,      0.9589,     0.95922,     0.95955,     0.95987,      0.9602,     0.96052,     0.96085,     0.96196,     0.96337,     0.96478,     0.96619,      0.9676,      0.9685,     0.96849,     0.96848,     0.96848,     0.96847,     0.96846,     0.96845,     0.96844,     0.96843,     0.96843,\n",
       "            0.96842,     0.96841,      0.9684,     0.96839,     0.96839,     0.96838,     0.96837,     0.96836,     0.96835,     0.96834,     0.96834,     0.96833,     0.96832,     0.96831,      0.9683,     0.96829,     0.96829,     0.96828,     0.96827,     0.96826,     0.96916,       0.976,     0.97599,\n",
       "            0.97599,     0.97598,     0.97597,     0.97597,     0.97596,     0.97596,     0.97595,     0.97594,     0.97594,     0.97593,     0.97592,     0.97592,     0.97591,     0.97591,      0.9759,     0.97589,     0.97589,     0.97588,     0.97588,     0.97587,     0.97586,     0.97586,     0.97585,\n",
       "            0.97584,     0.97584,     0.97583,     0.97583,     0.97582,     0.97581,     0.97581,      0.9763,     0.97685,     0.97739,     0.97793,     0.97847,     0.97902,     0.97956,      0.9801,     0.98064,     0.98118,     0.98173,     0.98227,     0.98281,     0.98335,     0.98374,     0.98374,\n",
       "            0.98374,     0.98373,     0.98373,     0.98373,     0.98373,     0.98373,     0.98372,     0.98372,     0.98372,     0.98372,     0.98372,     0.98372,     0.98371,     0.98371,     0.98371,     0.98371,     0.98371,      0.9837,      0.9837,      0.9837,      0.9837,      0.9837,      0.9837,\n",
       "            0.98369,     0.98369,     0.98369,     0.98369,     0.98369,     0.98369,     0.98368,     0.98368,     0.98368,     0.98368,     0.98368,     0.98367,     0.98367,     0.98367,     0.98367,     0.98367,     0.98367,     0.98366,     0.98366,     0.98366,     0.98366,     0.98366,     0.98365,\n",
       "            0.98365,     0.98365,     0.98365,     0.98365,     0.98365,     0.98364,     0.98364,     0.98364,     0.98364,     0.98364,     0.98363,     0.98363,     0.98363,     0.98363,     0.98363,     0.98363,     0.98362,     0.98362,     0.98362,     0.98362,     0.98362,     0.98361,     0.98361,\n",
       "            0.98361,     0.98361,     0.98361,     0.98381,     0.98414,     0.98447,     0.98479,     0.98512,     0.98545,     0.98577,      0.9861,     0.98643,     0.98675,     0.98708,     0.98741,     0.98773,     0.98806,     0.98839,     0.98871,     0.98904,     0.98937,     0.98969,     0.99002,\n",
       "            0.99035,     0.99067,       0.991,     0.99133,     0.99165,     0.99172,     0.99171,     0.99169,     0.99168,     0.99166,     0.99165,     0.99163,     0.99162,      0.9916,     0.99175,     0.99205,     0.99236,     0.99267,     0.99298,     0.99328,     0.99359,      0.9939,     0.99421,\n",
       "            0.99451,     0.99482,     0.99513,     0.99544,     0.99574,     0.99605,     0.99636,     0.99667,     0.99698,     0.99728,     0.99759,      0.9979,     0.99821,     0.99851,     0.99882,     0.99913,     0.99944,     0.99974,           1,           1,           1,           1,           1,\n",
       "                  1,           1,           1,           1,           1,           1,           1,           1,           1,           1,           1,           1,           1,           1,           1,           1,           1,           1,           1,           1,           1,           1,           1,\n",
       "                  1,           1,           1,           1,           1,           1,           1,           1,           1,           1,           1,           1,           1,           1,           1,           1,           1,           1,           1,           1,           1,           1,           1,\n",
       "                  1,           1,           1,           1,           1,           1,           1,           1,           1,           1,           1,           1,           1,           1,           1,           1,           1,           1,           1,           1,           1,           1,           1,\n",
       "                  1,           1,           1,           1,           1,           1,           1,           1,           1,           1,           1,           1,           1,           1,           1,           1,           1,           1,           1,           1,           1,           1,           1,\n",
       "                  1,           1,           1,           1,           1,           1,           1,           1,           1,           1,           1,           1,           1,           1,           1,           1,           1,           1,           1,           1,           1,           1,           1,\n",
       "                  1,           1,           1,           1,           1,           1,           1,           1,           1,           1,           1,           1,           1,           1,           1,           1,           1,           1,           1,           1,           1,           1,           1,\n",
       "                  1,           1,           1,           1,           1,           1,           1,           1,           1,           1,           1]]), 'Confidence', 'Precision'], [array([          0,    0.001001,    0.002002,    0.003003,    0.004004,    0.005005,    0.006006,    0.007007,    0.008008,    0.009009,     0.01001,    0.011011,    0.012012,    0.013013,    0.014014,    0.015015,    0.016016,    0.017017,    0.018018,    0.019019,     0.02002,    0.021021,    0.022022,    0.023023,\n",
       "          0.024024,    0.025025,    0.026026,    0.027027,    0.028028,    0.029029,     0.03003,    0.031031,    0.032032,    0.033033,    0.034034,    0.035035,    0.036036,    0.037037,    0.038038,    0.039039,     0.04004,    0.041041,    0.042042,    0.043043,    0.044044,    0.045045,    0.046046,    0.047047,\n",
       "          0.048048,    0.049049,     0.05005,    0.051051,    0.052052,    0.053053,    0.054054,    0.055055,    0.056056,    0.057057,    0.058058,    0.059059,     0.06006,    0.061061,    0.062062,    0.063063,    0.064064,    0.065065,    0.066066,    0.067067,    0.068068,    0.069069,     0.07007,    0.071071,\n",
       "          0.072072,    0.073073,    0.074074,    0.075075,    0.076076,    0.077077,    0.078078,    0.079079,     0.08008,    0.081081,    0.082082,    0.083083,    0.084084,    0.085085,    0.086086,    0.087087,    0.088088,    0.089089,     0.09009,    0.091091,    0.092092,    0.093093,    0.094094,    0.095095,\n",
       "          0.096096,    0.097097,    0.098098,    0.099099,      0.1001,      0.1011,      0.1021,      0.1031,      0.1041,     0.10511,     0.10611,     0.10711,     0.10811,     0.10911,     0.11011,     0.11111,     0.11211,     0.11311,     0.11411,     0.11512,     0.11612,     0.11712,     0.11812,     0.11912,\n",
       "           0.12012,     0.12112,     0.12212,     0.12312,     0.12412,     0.12513,     0.12613,     0.12713,     0.12813,     0.12913,     0.13013,     0.13113,     0.13213,     0.13313,     0.13413,     0.13514,     0.13614,     0.13714,     0.13814,     0.13914,     0.14014,     0.14114,     0.14214,     0.14314,\n",
       "           0.14414,     0.14515,     0.14615,     0.14715,     0.14815,     0.14915,     0.15015,     0.15115,     0.15215,     0.15315,     0.15415,     0.15516,     0.15616,     0.15716,     0.15816,     0.15916,     0.16016,     0.16116,     0.16216,     0.16316,     0.16416,     0.16517,     0.16617,     0.16717,\n",
       "           0.16817,     0.16917,     0.17017,     0.17117,     0.17217,     0.17317,     0.17417,     0.17518,     0.17618,     0.17718,     0.17818,     0.17918,     0.18018,     0.18118,     0.18218,     0.18318,     0.18418,     0.18519,     0.18619,     0.18719,     0.18819,     0.18919,     0.19019,     0.19119,\n",
       "           0.19219,     0.19319,     0.19419,      0.1952,      0.1962,      0.1972,      0.1982,      0.1992,      0.2002,      0.2012,      0.2022,      0.2032,      0.2042,     0.20521,     0.20621,     0.20721,     0.20821,     0.20921,     0.21021,     0.21121,     0.21221,     0.21321,     0.21421,     0.21522,\n",
       "           0.21622,     0.21722,     0.21822,     0.21922,     0.22022,     0.22122,     0.22222,     0.22322,     0.22422,     0.22523,     0.22623,     0.22723,     0.22823,     0.22923,     0.23023,     0.23123,     0.23223,     0.23323,     0.23423,     0.23524,     0.23624,     0.23724,     0.23824,     0.23924,\n",
       "           0.24024,     0.24124,     0.24224,     0.24324,     0.24424,     0.24525,     0.24625,     0.24725,     0.24825,     0.24925,     0.25025,     0.25125,     0.25225,     0.25325,     0.25425,     0.25526,     0.25626,     0.25726,     0.25826,     0.25926,     0.26026,     0.26126,     0.26226,     0.26326,\n",
       "           0.26426,     0.26527,     0.26627,     0.26727,     0.26827,     0.26927,     0.27027,     0.27127,     0.27227,     0.27327,     0.27427,     0.27528,     0.27628,     0.27728,     0.27828,     0.27928,     0.28028,     0.28128,     0.28228,     0.28328,     0.28428,     0.28529,     0.28629,     0.28729,\n",
       "           0.28829,     0.28929,     0.29029,     0.29129,     0.29229,     0.29329,     0.29429,      0.2953,      0.2963,      0.2973,      0.2983,      0.2993,      0.3003,      0.3013,      0.3023,      0.3033,      0.3043,     0.30531,     0.30631,     0.30731,     0.30831,     0.30931,     0.31031,     0.31131,\n",
       "           0.31231,     0.31331,     0.31431,     0.31532,     0.31632,     0.31732,     0.31832,     0.31932,     0.32032,     0.32132,     0.32232,     0.32332,     0.32432,     0.32533,     0.32633,     0.32733,     0.32833,     0.32933,     0.33033,     0.33133,     0.33233,     0.33333,     0.33433,     0.33534,\n",
       "           0.33634,     0.33734,     0.33834,     0.33934,     0.34034,     0.34134,     0.34234,     0.34334,     0.34434,     0.34535,     0.34635,     0.34735,     0.34835,     0.34935,     0.35035,     0.35135,     0.35235,     0.35335,     0.35435,     0.35536,     0.35636,     0.35736,     0.35836,     0.35936,\n",
       "           0.36036,     0.36136,     0.36236,     0.36336,     0.36436,     0.36537,     0.36637,     0.36737,     0.36837,     0.36937,     0.37037,     0.37137,     0.37237,     0.37337,     0.37437,     0.37538,     0.37638,     0.37738,     0.37838,     0.37938,     0.38038,     0.38138,     0.38238,     0.38338,\n",
       "           0.38438,     0.38539,     0.38639,     0.38739,     0.38839,     0.38939,     0.39039,     0.39139,     0.39239,     0.39339,     0.39439,      0.3954,      0.3964,      0.3974,      0.3984,      0.3994,      0.4004,      0.4014,      0.4024,      0.4034,      0.4044,     0.40541,     0.40641,     0.40741,\n",
       "           0.40841,     0.40941,     0.41041,     0.41141,     0.41241,     0.41341,     0.41441,     0.41542,     0.41642,     0.41742,     0.41842,     0.41942,     0.42042,     0.42142,     0.42242,     0.42342,     0.42442,     0.42543,     0.42643,     0.42743,     0.42843,     0.42943,     0.43043,     0.43143,\n",
       "           0.43243,     0.43343,     0.43443,     0.43544,     0.43644,     0.43744,     0.43844,     0.43944,     0.44044,     0.44144,     0.44244,     0.44344,     0.44444,     0.44545,     0.44645,     0.44745,     0.44845,     0.44945,     0.45045,     0.45145,     0.45245,     0.45345,     0.45445,     0.45546,\n",
       "           0.45646,     0.45746,     0.45846,     0.45946,     0.46046,     0.46146,     0.46246,     0.46346,     0.46446,     0.46547,     0.46647,     0.46747,     0.46847,     0.46947,     0.47047,     0.47147,     0.47247,     0.47347,     0.47447,     0.47548,     0.47648,     0.47748,     0.47848,     0.47948,\n",
       "           0.48048,     0.48148,     0.48248,     0.48348,     0.48448,     0.48549,     0.48649,     0.48749,     0.48849,     0.48949,     0.49049,     0.49149,     0.49249,     0.49349,     0.49449,      0.4955,      0.4965,      0.4975,      0.4985,      0.4995,      0.5005,      0.5015,      0.5025,      0.5035,\n",
       "            0.5045,     0.50551,     0.50651,     0.50751,     0.50851,     0.50951,     0.51051,     0.51151,     0.51251,     0.51351,     0.51451,     0.51552,     0.51652,     0.51752,     0.51852,     0.51952,     0.52052,     0.52152,     0.52252,     0.52352,     0.52452,     0.52553,     0.52653,     0.52753,\n",
       "           0.52853,     0.52953,     0.53053,     0.53153,     0.53253,     0.53353,     0.53453,     0.53554,     0.53654,     0.53754,     0.53854,     0.53954,     0.54054,     0.54154,     0.54254,     0.54354,     0.54454,     0.54555,     0.54655,     0.54755,     0.54855,     0.54955,     0.55055,     0.55155,\n",
       "           0.55255,     0.55355,     0.55455,     0.55556,     0.55656,     0.55756,     0.55856,     0.55956,     0.56056,     0.56156,     0.56256,     0.56356,     0.56456,     0.56557,     0.56657,     0.56757,     0.56857,     0.56957,     0.57057,     0.57157,     0.57257,     0.57357,     0.57457,     0.57558,\n",
       "           0.57658,     0.57758,     0.57858,     0.57958,     0.58058,     0.58158,     0.58258,     0.58358,     0.58458,     0.58559,     0.58659,     0.58759,     0.58859,     0.58959,     0.59059,     0.59159,     0.59259,     0.59359,     0.59459,      0.5956,      0.5966,      0.5976,      0.5986,      0.5996,\n",
       "            0.6006,      0.6016,      0.6026,      0.6036,      0.6046,     0.60561,     0.60661,     0.60761,     0.60861,     0.60961,     0.61061,     0.61161,     0.61261,     0.61361,     0.61461,     0.61562,     0.61662,     0.61762,     0.61862,     0.61962,     0.62062,     0.62162,     0.62262,     0.62362,\n",
       "           0.62462,     0.62563,     0.62663,     0.62763,     0.62863,     0.62963,     0.63063,     0.63163,     0.63263,     0.63363,     0.63463,     0.63564,     0.63664,     0.63764,     0.63864,     0.63964,     0.64064,     0.64164,     0.64264,     0.64364,     0.64464,     0.64565,     0.64665,     0.64765,\n",
       "           0.64865,     0.64965,     0.65065,     0.65165,     0.65265,     0.65365,     0.65465,     0.65566,     0.65666,     0.65766,     0.65866,     0.65966,     0.66066,     0.66166,     0.66266,     0.66366,     0.66466,     0.66567,     0.66667,     0.66767,     0.66867,     0.66967,     0.67067,     0.67167,\n",
       "           0.67267,     0.67367,     0.67467,     0.67568,     0.67668,     0.67768,     0.67868,     0.67968,     0.68068,     0.68168,     0.68268,     0.68368,     0.68468,     0.68569,     0.68669,     0.68769,     0.68869,     0.68969,     0.69069,     0.69169,     0.69269,     0.69369,     0.69469,      0.6957,\n",
       "            0.6967,      0.6977,      0.6987,      0.6997,      0.7007,      0.7017,      0.7027,      0.7037,      0.7047,     0.70571,     0.70671,     0.70771,     0.70871,     0.70971,     0.71071,     0.71171,     0.71271,     0.71371,     0.71471,     0.71572,     0.71672,     0.71772,     0.71872,     0.71972,\n",
       "           0.72072,     0.72172,     0.72272,     0.72372,     0.72472,     0.72573,     0.72673,     0.72773,     0.72873,     0.72973,     0.73073,     0.73173,     0.73273,     0.73373,     0.73473,     0.73574,     0.73674,     0.73774,     0.73874,     0.73974,     0.74074,     0.74174,     0.74274,     0.74374,\n",
       "           0.74474,     0.74575,     0.74675,     0.74775,     0.74875,     0.74975,     0.75075,     0.75175,     0.75275,     0.75375,     0.75475,     0.75576,     0.75676,     0.75776,     0.75876,     0.75976,     0.76076,     0.76176,     0.76276,     0.76376,     0.76476,     0.76577,     0.76677,     0.76777,\n",
       "           0.76877,     0.76977,     0.77077,     0.77177,     0.77277,     0.77377,     0.77477,     0.77578,     0.77678,     0.77778,     0.77878,     0.77978,     0.78078,     0.78178,     0.78278,     0.78378,     0.78478,     0.78579,     0.78679,     0.78779,     0.78879,     0.78979,     0.79079,     0.79179,\n",
       "           0.79279,     0.79379,     0.79479,      0.7958,      0.7968,      0.7978,      0.7988,      0.7998,      0.8008,      0.8018,      0.8028,      0.8038,      0.8048,     0.80581,     0.80681,     0.80781,     0.80881,     0.80981,     0.81081,     0.81181,     0.81281,     0.81381,     0.81481,     0.81582,\n",
       "           0.81682,     0.81782,     0.81882,     0.81982,     0.82082,     0.82182,     0.82282,     0.82382,     0.82482,     0.82583,     0.82683,     0.82783,     0.82883,     0.82983,     0.83083,     0.83183,     0.83283,     0.83383,     0.83483,     0.83584,     0.83684,     0.83784,     0.83884,     0.83984,\n",
       "           0.84084,     0.84184,     0.84284,     0.84384,     0.84484,     0.84585,     0.84685,     0.84785,     0.84885,     0.84985,     0.85085,     0.85185,     0.85285,     0.85385,     0.85485,     0.85586,     0.85686,     0.85786,     0.85886,     0.85986,     0.86086,     0.86186,     0.86286,     0.86386,\n",
       "           0.86486,     0.86587,     0.86687,     0.86787,     0.86887,     0.86987,     0.87087,     0.87187,     0.87287,     0.87387,     0.87487,     0.87588,     0.87688,     0.87788,     0.87888,     0.87988,     0.88088,     0.88188,     0.88288,     0.88388,     0.88488,     0.88589,     0.88689,     0.88789,\n",
       "           0.88889,     0.88989,     0.89089,     0.89189,     0.89289,     0.89389,     0.89489,      0.8959,      0.8969,      0.8979,      0.8989,      0.8999,      0.9009,      0.9019,      0.9029,      0.9039,      0.9049,     0.90591,     0.90691,     0.90791,     0.90891,     0.90991,     0.91091,     0.91191,\n",
       "           0.91291,     0.91391,     0.91491,     0.91592,     0.91692,     0.91792,     0.91892,     0.91992,     0.92092,     0.92192,     0.92292,     0.92392,     0.92492,     0.92593,     0.92693,     0.92793,     0.92893,     0.92993,     0.93093,     0.93193,     0.93293,     0.93393,     0.93493,     0.93594,\n",
       "           0.93694,     0.93794,     0.93894,     0.93994,     0.94094,     0.94194,     0.94294,     0.94394,     0.94494,     0.94595,     0.94695,     0.94795,     0.94895,     0.94995,     0.95095,     0.95195,     0.95295,     0.95395,     0.95495,     0.95596,     0.95696,     0.95796,     0.95896,     0.95996,\n",
       "           0.96096,     0.96196,     0.96296,     0.96396,     0.96496,     0.96597,     0.96697,     0.96797,     0.96897,     0.96997,     0.97097,     0.97197,     0.97297,     0.97397,     0.97497,     0.97598,     0.97698,     0.97798,     0.97898,     0.97998,     0.98098,     0.98198,     0.98298,     0.98398,\n",
       "           0.98498,     0.98599,     0.98699,     0.98799,     0.98899,     0.98999,     0.99099,     0.99199,     0.99299,     0.99399,     0.99499,       0.996,       0.997,       0.998,       0.999,           1]), array([[    0.99254,     0.99254,     0.99254,     0.97761,     0.96269,     0.96269,     0.96269,     0.96269,      0.9608,     0.95522,     0.95522,     0.95522,     0.95522,     0.95522,     0.95522,     0.95522,     0.95522,     0.95522,     0.95522,     0.95522,     0.95522,     0.95522,     0.95522,\n",
       "            0.95522,     0.95522,     0.95522,     0.94776,     0.94776,     0.94776,     0.94776,     0.94776,     0.94776,     0.94776,     0.94776,     0.94776,     0.94776,     0.94776,     0.94776,     0.94776,     0.94776,     0.94776,     0.94776,     0.94776,     0.94776,     0.94776,     0.94776,\n",
       "            0.94776,     0.94776,     0.94776,     0.94776,     0.94776,     0.94776,     0.94776,     0.94776,     0.94776,     0.94776,     0.94776,     0.94776,     0.94776,     0.94776,     0.94776,     0.94776,     0.94776,     0.94776,     0.94776,     0.94776,     0.94776,     0.94776,     0.94776,\n",
       "            0.94776,     0.94776,     0.94776,     0.94776,     0.94776,     0.94776,     0.94776,     0.94776,     0.94776,     0.94776,     0.94776,     0.94776,     0.94776,     0.94776,     0.94776,     0.94776,     0.94776,     0.94776,     0.94776,     0.94776,     0.94776,     0.94776,     0.94776,\n",
       "            0.94776,     0.94776,     0.94776,     0.94776,     0.94776,     0.94776,     0.94776,     0.94776,     0.94776,     0.94776,     0.94776,     0.94776,     0.94776,     0.94776,     0.94776,     0.94776,     0.94776,     0.94776,     0.94776,     0.94776,     0.94776,     0.94776,     0.94776,\n",
       "            0.94776,     0.94776,     0.94776,     0.94776,     0.94776,     0.94776,     0.94776,     0.94776,     0.94776,     0.94776,     0.94776,     0.94776,     0.94776,     0.94776,     0.94776,     0.94776,     0.94776,     0.94776,     0.94776,     0.94776,     0.94776,     0.94776,     0.94776,\n",
       "            0.94776,     0.94776,     0.94776,     0.94776,     0.94776,     0.94776,     0.94776,     0.94776,     0.94776,     0.94776,     0.94776,     0.94776,     0.94776,     0.94748,     0.94705,     0.94662,     0.94618,     0.94575,     0.94531,     0.94488,     0.94445,     0.94401,     0.94358,\n",
       "            0.94314,     0.94271,     0.94228,     0.94184,     0.94141,     0.94097,     0.94054,      0.9403,      0.9403,      0.9403,      0.9403,      0.9403,      0.9403,      0.9403,      0.9403,      0.9403,      0.9403,      0.9403,      0.9403,      0.9403,      0.9403,      0.9403,      0.9403,\n",
       "             0.9403,      0.9403,      0.9403,      0.9403,      0.9403,      0.9403,      0.9403,      0.9403,      0.9403,      0.9403,      0.9403,      0.9403,      0.9403,      0.9403,      0.9403,      0.9403,      0.9403,      0.9403,      0.9403,      0.9403,      0.9403,      0.9403,      0.9403,\n",
       "            0.93991,     0.93948,     0.93905,     0.93863,      0.9382,     0.93777,     0.93734,     0.93691,     0.93649,     0.93606,     0.93563,      0.9352,     0.93477,     0.93435,     0.93392,     0.93349,     0.93306,     0.93133,      0.9281,     0.92537,     0.92537,     0.92537,     0.92537,\n",
       "            0.92537,     0.92537,     0.92537,     0.92537,     0.92537,     0.92537,     0.92537,     0.92537,     0.92537,     0.92537,     0.92537,     0.92537,     0.92537,     0.92537,     0.92537,     0.92537,     0.92537,     0.92537,     0.92537,     0.92537,     0.92537,     0.92537,     0.92537,\n",
       "            0.92537,     0.92537,     0.92537,     0.92537,     0.92537,     0.92537,     0.92537,     0.92537,     0.92537,     0.92537,     0.92537,     0.92537,     0.92537,     0.92537,     0.92537,     0.92537,     0.92537,     0.92537,     0.92537,     0.92537,     0.92537,     0.92537,     0.92537,\n",
       "            0.92537,     0.92537,     0.92537,     0.92537,     0.92537,     0.92537,     0.92537,     0.92537,     0.92537,     0.92537,     0.92537,     0.92537,     0.92537,     0.92537,     0.92537,     0.92537,     0.92537,     0.92537,     0.92537,     0.92537,     0.92537,     0.92537,     0.92537,\n",
       "            0.92537,     0.92537,     0.92537,     0.92537,     0.92537,     0.92537,     0.92537,     0.92537,     0.92537,     0.92537,     0.92537,     0.92537,     0.92537,     0.92537,     0.92537,     0.92537,     0.92537,     0.92537,     0.92537,     0.92537,     0.92537,     0.92537,     0.92537,\n",
       "            0.92537,     0.92537,     0.92537,     0.92537,     0.92537,     0.92537,     0.92537,     0.92537,     0.92537,     0.92537,     0.92537,     0.92537,     0.92537,     0.92537,     0.92537,     0.92537,     0.92537,     0.92537,     0.92537,     0.92537,     0.92537,     0.92537,     0.92537,\n",
       "            0.92537,     0.92537,     0.92537,     0.92537,     0.92537,     0.92537,     0.92537,     0.92537,     0.92537,     0.92537,     0.92537,     0.92537,     0.92537,     0.92537,     0.92537,     0.92537,     0.92537,     0.92537,     0.92537,     0.92537,     0.92537,     0.92537,     0.92537,\n",
       "            0.92537,     0.92537,     0.92537,     0.92536,      0.9253,     0.92525,      0.9252,     0.92514,     0.92509,     0.92504,     0.92498,     0.92493,     0.92488,     0.92482,     0.92477,     0.92472,     0.92466,     0.92461,     0.92456,      0.9245,     0.92445,      0.9244,     0.92434,\n",
       "            0.92429,     0.92423,     0.92418,     0.92413,     0.92407,     0.92402,     0.92397,     0.92391,     0.92386,     0.92381,     0.92375,      0.9237,     0.92365,     0.92359,     0.92354,     0.92349,     0.92343,     0.92338,     0.92333,     0.92327,     0.92322,     0.92317,     0.92311,\n",
       "            0.92306,       0.923,     0.92295,      0.9229,     0.92284,     0.92279,     0.92274,     0.92268,     0.92263,     0.92258,     0.92252,     0.92247,     0.92242,     0.92236,     0.92231,     0.92226,      0.9222,     0.92215,      0.9221,     0.92204,     0.92199,     0.92193,     0.92188,\n",
       "            0.92183,     0.92177,     0.92172,     0.92167,     0.92161,     0.92156,     0.92151,     0.92145,      0.9214,     0.92135,     0.92129,     0.92124,     0.92119,     0.92113,     0.92108,     0.92103,     0.92097,     0.92092,     0.92086,     0.92081,     0.92076,      0.9207,     0.92065,\n",
       "             0.9206,     0.92054,     0.92049,     0.92044,     0.92038,     0.92033,     0.92028,     0.92022,     0.92017,     0.92012,     0.92006,     0.92001,     0.91996,      0.9199,     0.91985,      0.9198,     0.91974,     0.91969,     0.91963,     0.91958,     0.91953,     0.91947,     0.91942,\n",
       "            0.91937,     0.91931,     0.91926,     0.91921,     0.91915,      0.9191,     0.91905,     0.91899,     0.91894,     0.91889,     0.91883,     0.91878,     0.91873,     0.91867,     0.91862,     0.91856,     0.91851,     0.91846,      0.9184,     0.91835,      0.9183,     0.91824,     0.91819,\n",
       "            0.91814,     0.91808,     0.91803,     0.91798,     0.91792,     0.91791,     0.91791,     0.91791,     0.91791,     0.91791,     0.91791,     0.91791,     0.91791,     0.91791,     0.91791,     0.91791,     0.91791,     0.91791,     0.91791,     0.91791,     0.91791,     0.91791,     0.91791,\n",
       "            0.91791,     0.91791,     0.91791,     0.91791,     0.91791,     0.91791,     0.91791,     0.91791,     0.91791,     0.91791,     0.91791,     0.91791,     0.91791,     0.91791,     0.91791,     0.91791,     0.91791,     0.91791,     0.91791,     0.91791,     0.91791,     0.91791,     0.91791,\n",
       "            0.91791,     0.91791,     0.91791,     0.91791,     0.91791,     0.91791,     0.91791,     0.91791,     0.91791,     0.91791,     0.91791,     0.91791,     0.91791,     0.91791,     0.91791,     0.91791,     0.91791,     0.91791,     0.91791,     0.91791,     0.91791,     0.91791,     0.91791,\n",
       "            0.91791,     0.91791,     0.91791,     0.91791,     0.91791,     0.91791,     0.91791,     0.91791,     0.91791,     0.91791,     0.91791,     0.91791,     0.91791,     0.91791,     0.91791,     0.91791,     0.91791,     0.91791,     0.91791,     0.91791,     0.91791,     0.91791,     0.91791,\n",
       "            0.91791,     0.91791,     0.91791,     0.91791,     0.91791,     0.91791,     0.91791,     0.91791,     0.91791,     0.91791,     0.91791,     0.91791,     0.91791,     0.91791,     0.91791,     0.91791,     0.91791,     0.91791,     0.91791,     0.91791,     0.91791,     0.91791,     0.91791,\n",
       "            0.91791,     0.91791,     0.91791,     0.91791,     0.91791,     0.91791,     0.91791,     0.91791,     0.91791,     0.91791,     0.91791,     0.91791,     0.91791,     0.91782,     0.91758,     0.91733,     0.91708,     0.91684,     0.91659,     0.91634,      0.9161,     0.91585,      0.9156,\n",
       "            0.91535,     0.91511,     0.91486,     0.91461,     0.91437,     0.91412,     0.91387,     0.91363,     0.91338,     0.91313,     0.91289,     0.91264,     0.91239,     0.91215,      0.9119,     0.91165,     0.91141,     0.91116,     0.91091,     0.91067,     0.91045,     0.91041,     0.91018,\n",
       "            0.90994,      0.9097,     0.90946,     0.90922,     0.90898,     0.90874,      0.9085,     0.90826,     0.90802,     0.90779,     0.90755,     0.90731,     0.90707,     0.90683,     0.90659,     0.90635,     0.90611,     0.90587,     0.90563,     0.90539,     0.90516,     0.90492,     0.90468,\n",
       "            0.90444,      0.9042,     0.90396,     0.90372,     0.90348,     0.90324,       0.903,     0.90299,     0.90299,     0.90299,     0.90299,     0.90299,     0.90299,     0.90299,     0.90299,     0.90299,     0.90299,     0.90299,     0.90299,     0.90299,     0.90299,     0.90296,     0.90285,\n",
       "            0.90275,     0.90265,     0.90255,     0.90245,     0.90235,     0.90225,     0.90215,     0.90204,     0.90194,     0.90184,     0.90174,     0.90164,     0.90154,     0.90144,     0.90134,     0.90123,     0.90113,     0.90103,     0.90093,     0.90083,     0.90073,     0.90063,     0.90052,\n",
       "            0.90042,     0.90032,     0.90022,     0.90012,     0.90002,     0.89992,     0.89982,     0.89971,     0.89961,     0.89951,     0.89941,     0.89931,     0.89921,     0.89911,       0.899,      0.8989,      0.8988,      0.8987,      0.8986,      0.8985,      0.8984,      0.8983,     0.89819,\n",
       "            0.89809,     0.89799,     0.89789,     0.89779,     0.89769,     0.89759,     0.89749,     0.89738,     0.89728,     0.89718,     0.89708,     0.89698,     0.89688,     0.89678,     0.89667,     0.89657,     0.89647,     0.89637,     0.89627,     0.89617,     0.89607,     0.89597,     0.89586,\n",
       "            0.89576,     0.89566,     0.89556,     0.89552,     0.89552,     0.89552,     0.89552,     0.89552,     0.89552,     0.89552,     0.89552,     0.89552,     0.89552,     0.89552,     0.89552,     0.89552,     0.89552,     0.89552,     0.89552,     0.89552,     0.89552,     0.89552,     0.89552,\n",
       "            0.89552,     0.89552,     0.89552,     0.89552,     0.89552,     0.89424,     0.89255,     0.89085,     0.88915,     0.88751,     0.88598,     0.88445,     0.88292,     0.88139,      0.8806,      0.8806,      0.8806,      0.8806,      0.8806,      0.8806,      0.8806,      0.8806,      0.8806,\n",
       "             0.8806,      0.8806,      0.8806,      0.8806,      0.8806,      0.8806,      0.8806,      0.8806,      0.8806,      0.8806,      0.8806,      0.8806,      0.8806,      0.8806,      0.8806,      0.8806,      0.8806,      0.8806,     0.88054,     0.88023,     0.87991,     0.87959,     0.87927,\n",
       "            0.87895,     0.87863,     0.87831,     0.87799,     0.87768,     0.87736,     0.87704,     0.87672,      0.8764,     0.87608,     0.87576,     0.87544,     0.87513,     0.87481,     0.87449,     0.87417,     0.87385,     0.87353,     0.87321,     0.87169,     0.86978,     0.86787,     0.86596,\n",
       "            0.86381,     0.86163,     0.85944,     0.85487,      0.8484,      0.8433,     0.84159,     0.83989,     0.83819,     0.83649,     0.83273,     0.82819,     0.82701,     0.82584,     0.82466,     0.82348,     0.82231,     0.82113,     0.81783,       0.814,     0.81083,     0.80777,     0.80527,\n",
       "            0.80357,     0.80187,     0.80017,     0.79071,     0.78086,     0.77596,     0.77378,     0.77159,     0.76941,     0.76615,     0.76232,     0.74834,     0.72765,     0.69946,     0.69181,     0.68609,     0.68456,     0.68303,      0.6815,     0.67997,     0.67777,     0.67471,     0.67165,\n",
       "            0.63421,     0.62911,     0.59592,     0.58063,      0.5723,     0.56848,     0.55712,     0.54877,     0.54144,     0.51369,     0.50859,     0.50151,     0.49093,     0.48583,     0.47204,     0.45075,     0.44144,     0.43676,     0.43293,     0.42538,      0.4101,     0.39889,     0.39124,\n",
       "            0.38657,     0.38402,     0.38147,     0.36811,     0.35647,     0.35392,     0.35137,       0.335,     0.33194,     0.32888,     0.32202,     0.31829,     0.31523,     0.31185,     0.30803,     0.30496,     0.30277,     0.30059,     0.29778,     0.29047,     0.28945,     0.28843,     0.28741,\n",
       "            0.28639,     0.28537,     0.28435,     0.28335,     0.28239,     0.28144,     0.28048,     0.27952,     0.27857,     0.27761,     0.27666,     0.27444,     0.27062,      0.2612,     0.25814,     0.25508,    0.095902,           0,           0,           0,           0,           0,           0,\n",
       "                  0,           0,           0,           0,           0,           0,           0,           0,           0,           0,           0]]), 'Confidence', 'Recall'], [array([          0,    0.001001,    0.002002,    0.003003,    0.004004,    0.005005,    0.006006,    0.007007,    0.008008,    0.009009,     0.01001,    0.011011,    0.012012,    0.013013,    0.014014,    0.015015,    0.016016,    0.017017,    0.018018,    0.019019,     0.02002,    0.021021,    0.022022,    0.023023,\n",
       "          0.024024,    0.025025,    0.026026,    0.027027,    0.028028,    0.029029,     0.03003,    0.031031,    0.032032,    0.033033,    0.034034,    0.035035,    0.036036,    0.037037,    0.038038,    0.039039,     0.04004,    0.041041,    0.042042,    0.043043,    0.044044,    0.045045,    0.046046,    0.047047,\n",
       "          0.048048,    0.049049,     0.05005,    0.051051,    0.052052,    0.053053,    0.054054,    0.055055,    0.056056,    0.057057,    0.058058,    0.059059,     0.06006,    0.061061,    0.062062,    0.063063,    0.064064,    0.065065,    0.066066,    0.067067,    0.068068,    0.069069,     0.07007,    0.071071,\n",
       "          0.072072,    0.073073,    0.074074,    0.075075,    0.076076,    0.077077,    0.078078,    0.079079,     0.08008,    0.081081,    0.082082,    0.083083,    0.084084,    0.085085,    0.086086,    0.087087,    0.088088,    0.089089,     0.09009,    0.091091,    0.092092,    0.093093,    0.094094,    0.095095,\n",
       "          0.096096,    0.097097,    0.098098,    0.099099,      0.1001,      0.1011,      0.1021,      0.1031,      0.1041,     0.10511,     0.10611,     0.10711,     0.10811,     0.10911,     0.11011,     0.11111,     0.11211,     0.11311,     0.11411,     0.11512,     0.11612,     0.11712,     0.11812,     0.11912,\n",
       "           0.12012,     0.12112,     0.12212,     0.12312,     0.12412,     0.12513,     0.12613,     0.12713,     0.12813,     0.12913,     0.13013,     0.13113,     0.13213,     0.13313,     0.13413,     0.13514,     0.13614,     0.13714,     0.13814,     0.13914,     0.14014,     0.14114,     0.14214,     0.14314,\n",
       "           0.14414,     0.14515,     0.14615,     0.14715,     0.14815,     0.14915,     0.15015,     0.15115,     0.15215,     0.15315,     0.15415,     0.15516,     0.15616,     0.15716,     0.15816,     0.15916,     0.16016,     0.16116,     0.16216,     0.16316,     0.16416,     0.16517,     0.16617,     0.16717,\n",
       "           0.16817,     0.16917,     0.17017,     0.17117,     0.17217,     0.17317,     0.17417,     0.17518,     0.17618,     0.17718,     0.17818,     0.17918,     0.18018,     0.18118,     0.18218,     0.18318,     0.18418,     0.18519,     0.18619,     0.18719,     0.18819,     0.18919,     0.19019,     0.19119,\n",
       "           0.19219,     0.19319,     0.19419,      0.1952,      0.1962,      0.1972,      0.1982,      0.1992,      0.2002,      0.2012,      0.2022,      0.2032,      0.2042,     0.20521,     0.20621,     0.20721,     0.20821,     0.20921,     0.21021,     0.21121,     0.21221,     0.21321,     0.21421,     0.21522,\n",
       "           0.21622,     0.21722,     0.21822,     0.21922,     0.22022,     0.22122,     0.22222,     0.22322,     0.22422,     0.22523,     0.22623,     0.22723,     0.22823,     0.22923,     0.23023,     0.23123,     0.23223,     0.23323,     0.23423,     0.23524,     0.23624,     0.23724,     0.23824,     0.23924,\n",
       "           0.24024,     0.24124,     0.24224,     0.24324,     0.24424,     0.24525,     0.24625,     0.24725,     0.24825,     0.24925,     0.25025,     0.25125,     0.25225,     0.25325,     0.25425,     0.25526,     0.25626,     0.25726,     0.25826,     0.25926,     0.26026,     0.26126,     0.26226,     0.26326,\n",
       "           0.26426,     0.26527,     0.26627,     0.26727,     0.26827,     0.26927,     0.27027,     0.27127,     0.27227,     0.27327,     0.27427,     0.27528,     0.27628,     0.27728,     0.27828,     0.27928,     0.28028,     0.28128,     0.28228,     0.28328,     0.28428,     0.28529,     0.28629,     0.28729,\n",
       "           0.28829,     0.28929,     0.29029,     0.29129,     0.29229,     0.29329,     0.29429,      0.2953,      0.2963,      0.2973,      0.2983,      0.2993,      0.3003,      0.3013,      0.3023,      0.3033,      0.3043,     0.30531,     0.30631,     0.30731,     0.30831,     0.30931,     0.31031,     0.31131,\n",
       "           0.31231,     0.31331,     0.31431,     0.31532,     0.31632,     0.31732,     0.31832,     0.31932,     0.32032,     0.32132,     0.32232,     0.32332,     0.32432,     0.32533,     0.32633,     0.32733,     0.32833,     0.32933,     0.33033,     0.33133,     0.33233,     0.33333,     0.33433,     0.33534,\n",
       "           0.33634,     0.33734,     0.33834,     0.33934,     0.34034,     0.34134,     0.34234,     0.34334,     0.34434,     0.34535,     0.34635,     0.34735,     0.34835,     0.34935,     0.35035,     0.35135,     0.35235,     0.35335,     0.35435,     0.35536,     0.35636,     0.35736,     0.35836,     0.35936,\n",
       "           0.36036,     0.36136,     0.36236,     0.36336,     0.36436,     0.36537,     0.36637,     0.36737,     0.36837,     0.36937,     0.37037,     0.37137,     0.37237,     0.37337,     0.37437,     0.37538,     0.37638,     0.37738,     0.37838,     0.37938,     0.38038,     0.38138,     0.38238,     0.38338,\n",
       "           0.38438,     0.38539,     0.38639,     0.38739,     0.38839,     0.38939,     0.39039,     0.39139,     0.39239,     0.39339,     0.39439,      0.3954,      0.3964,      0.3974,      0.3984,      0.3994,      0.4004,      0.4014,      0.4024,      0.4034,      0.4044,     0.40541,     0.40641,     0.40741,\n",
       "           0.40841,     0.40941,     0.41041,     0.41141,     0.41241,     0.41341,     0.41441,     0.41542,     0.41642,     0.41742,     0.41842,     0.41942,     0.42042,     0.42142,     0.42242,     0.42342,     0.42442,     0.42543,     0.42643,     0.42743,     0.42843,     0.42943,     0.43043,     0.43143,\n",
       "           0.43243,     0.43343,     0.43443,     0.43544,     0.43644,     0.43744,     0.43844,     0.43944,     0.44044,     0.44144,     0.44244,     0.44344,     0.44444,     0.44545,     0.44645,     0.44745,     0.44845,     0.44945,     0.45045,     0.45145,     0.45245,     0.45345,     0.45445,     0.45546,\n",
       "           0.45646,     0.45746,     0.45846,     0.45946,     0.46046,     0.46146,     0.46246,     0.46346,     0.46446,     0.46547,     0.46647,     0.46747,     0.46847,     0.46947,     0.47047,     0.47147,     0.47247,     0.47347,     0.47447,     0.47548,     0.47648,     0.47748,     0.47848,     0.47948,\n",
       "           0.48048,     0.48148,     0.48248,     0.48348,     0.48448,     0.48549,     0.48649,     0.48749,     0.48849,     0.48949,     0.49049,     0.49149,     0.49249,     0.49349,     0.49449,      0.4955,      0.4965,      0.4975,      0.4985,      0.4995,      0.5005,      0.5015,      0.5025,      0.5035,\n",
       "            0.5045,     0.50551,     0.50651,     0.50751,     0.50851,     0.50951,     0.51051,     0.51151,     0.51251,     0.51351,     0.51451,     0.51552,     0.51652,     0.51752,     0.51852,     0.51952,     0.52052,     0.52152,     0.52252,     0.52352,     0.52452,     0.52553,     0.52653,     0.52753,\n",
       "           0.52853,     0.52953,     0.53053,     0.53153,     0.53253,     0.53353,     0.53453,     0.53554,     0.53654,     0.53754,     0.53854,     0.53954,     0.54054,     0.54154,     0.54254,     0.54354,     0.54454,     0.54555,     0.54655,     0.54755,     0.54855,     0.54955,     0.55055,     0.55155,\n",
       "           0.55255,     0.55355,     0.55455,     0.55556,     0.55656,     0.55756,     0.55856,     0.55956,     0.56056,     0.56156,     0.56256,     0.56356,     0.56456,     0.56557,     0.56657,     0.56757,     0.56857,     0.56957,     0.57057,     0.57157,     0.57257,     0.57357,     0.57457,     0.57558,\n",
       "           0.57658,     0.57758,     0.57858,     0.57958,     0.58058,     0.58158,     0.58258,     0.58358,     0.58458,     0.58559,     0.58659,     0.58759,     0.58859,     0.58959,     0.59059,     0.59159,     0.59259,     0.59359,     0.59459,      0.5956,      0.5966,      0.5976,      0.5986,      0.5996,\n",
       "            0.6006,      0.6016,      0.6026,      0.6036,      0.6046,     0.60561,     0.60661,     0.60761,     0.60861,     0.60961,     0.61061,     0.61161,     0.61261,     0.61361,     0.61461,     0.61562,     0.61662,     0.61762,     0.61862,     0.61962,     0.62062,     0.62162,     0.62262,     0.62362,\n",
       "           0.62462,     0.62563,     0.62663,     0.62763,     0.62863,     0.62963,     0.63063,     0.63163,     0.63263,     0.63363,     0.63463,     0.63564,     0.63664,     0.63764,     0.63864,     0.63964,     0.64064,     0.64164,     0.64264,     0.64364,     0.64464,     0.64565,     0.64665,     0.64765,\n",
       "           0.64865,     0.64965,     0.65065,     0.65165,     0.65265,     0.65365,     0.65465,     0.65566,     0.65666,     0.65766,     0.65866,     0.65966,     0.66066,     0.66166,     0.66266,     0.66366,     0.66466,     0.66567,     0.66667,     0.66767,     0.66867,     0.66967,     0.67067,     0.67167,\n",
       "           0.67267,     0.67367,     0.67467,     0.67568,     0.67668,     0.67768,     0.67868,     0.67968,     0.68068,     0.68168,     0.68268,     0.68368,     0.68468,     0.68569,     0.68669,     0.68769,     0.68869,     0.68969,     0.69069,     0.69169,     0.69269,     0.69369,     0.69469,      0.6957,\n",
       "            0.6967,      0.6977,      0.6987,      0.6997,      0.7007,      0.7017,      0.7027,      0.7037,      0.7047,     0.70571,     0.70671,     0.70771,     0.70871,     0.70971,     0.71071,     0.71171,     0.71271,     0.71371,     0.71471,     0.71572,     0.71672,     0.71772,     0.71872,     0.71972,\n",
       "           0.72072,     0.72172,     0.72272,     0.72372,     0.72472,     0.72573,     0.72673,     0.72773,     0.72873,     0.72973,     0.73073,     0.73173,     0.73273,     0.73373,     0.73473,     0.73574,     0.73674,     0.73774,     0.73874,     0.73974,     0.74074,     0.74174,     0.74274,     0.74374,\n",
       "           0.74474,     0.74575,     0.74675,     0.74775,     0.74875,     0.74975,     0.75075,     0.75175,     0.75275,     0.75375,     0.75475,     0.75576,     0.75676,     0.75776,     0.75876,     0.75976,     0.76076,     0.76176,     0.76276,     0.76376,     0.76476,     0.76577,     0.76677,     0.76777,\n",
       "           0.76877,     0.76977,     0.77077,     0.77177,     0.77277,     0.77377,     0.77477,     0.77578,     0.77678,     0.77778,     0.77878,     0.77978,     0.78078,     0.78178,     0.78278,     0.78378,     0.78478,     0.78579,     0.78679,     0.78779,     0.78879,     0.78979,     0.79079,     0.79179,\n",
       "           0.79279,     0.79379,     0.79479,      0.7958,      0.7968,      0.7978,      0.7988,      0.7998,      0.8008,      0.8018,      0.8028,      0.8038,      0.8048,     0.80581,     0.80681,     0.80781,     0.80881,     0.80981,     0.81081,     0.81181,     0.81281,     0.81381,     0.81481,     0.81582,\n",
       "           0.81682,     0.81782,     0.81882,     0.81982,     0.82082,     0.82182,     0.82282,     0.82382,     0.82482,     0.82583,     0.82683,     0.82783,     0.82883,     0.82983,     0.83083,     0.83183,     0.83283,     0.83383,     0.83483,     0.83584,     0.83684,     0.83784,     0.83884,     0.83984,\n",
       "           0.84084,     0.84184,     0.84284,     0.84384,     0.84484,     0.84585,     0.84685,     0.84785,     0.84885,     0.84985,     0.85085,     0.85185,     0.85285,     0.85385,     0.85485,     0.85586,     0.85686,     0.85786,     0.85886,     0.85986,     0.86086,     0.86186,     0.86286,     0.86386,\n",
       "           0.86486,     0.86587,     0.86687,     0.86787,     0.86887,     0.86987,     0.87087,     0.87187,     0.87287,     0.87387,     0.87487,     0.87588,     0.87688,     0.87788,     0.87888,     0.87988,     0.88088,     0.88188,     0.88288,     0.88388,     0.88488,     0.88589,     0.88689,     0.88789,\n",
       "           0.88889,     0.88989,     0.89089,     0.89189,     0.89289,     0.89389,     0.89489,      0.8959,      0.8969,      0.8979,      0.8989,      0.8999,      0.9009,      0.9019,      0.9029,      0.9039,      0.9049,     0.90591,     0.90691,     0.90791,     0.90891,     0.90991,     0.91091,     0.91191,\n",
       "           0.91291,     0.91391,     0.91491,     0.91592,     0.91692,     0.91792,     0.91892,     0.91992,     0.92092,     0.92192,     0.92292,     0.92392,     0.92492,     0.92593,     0.92693,     0.92793,     0.92893,     0.92993,     0.93093,     0.93193,     0.93293,     0.93393,     0.93493,     0.93594,\n",
       "           0.93694,     0.93794,     0.93894,     0.93994,     0.94094,     0.94194,     0.94294,     0.94394,     0.94494,     0.94595,     0.94695,     0.94795,     0.94895,     0.94995,     0.95095,     0.95195,     0.95295,     0.95395,     0.95495,     0.95596,     0.95696,     0.95796,     0.95896,     0.95996,\n",
       "           0.96096,     0.96196,     0.96296,     0.96396,     0.96496,     0.96597,     0.96697,     0.96797,     0.96897,     0.96997,     0.97097,     0.97197,     0.97297,     0.97397,     0.97497,     0.97598,     0.97698,     0.97798,     0.97898,     0.97998,     0.98098,     0.98198,     0.98298,     0.98398,\n",
       "           0.98498,     0.98599,     0.98699,     0.98799,     0.98899,     0.98999,     0.99099,     0.99199,     0.99299,     0.99399,     0.99499,       0.996,       0.997,       0.998,       0.999,           1]), array([[          1,           1,           1,           1,           1,           1,           1,           1,           1,           1,           1,           1,           1,           1,           1,           1,           1,           1,           1,           1,           1,           1,           1,\n",
       "                  1,           1,           1,           1,           1,           1,           1,           1,           1,           1,           1,           1,           1,           1,           1,           1,           1,           1,           1,           1,           1,           1,           1,\n",
       "                  1,           1,           1,           1,           1,           1,           1,           1,           1,           1,           1,           1,           1,           1,           1,           1,           1,           1,           1,           1,           1,           1,           1,\n",
       "                  1,           1,           1,           1,           1,           1,           1,           1,           1,           1,           1,           1,           1,           1,           1,           1,           1,           1,           1,           1,           1,           1,           1,\n",
       "                  1,           1,           1,           1,           1,           1,           1,           1,           1,           1,           1,           1,           1,           1,           1,           1,           1,           1,           1,           1,           1,           1,           1,\n",
       "                  1,           1,           1,           1,           1,           1,           1,           1,           1,           1,           1,           1,           1,           1,           1,           1,           1,           1,           1,           1,           1,           1,           1,\n",
       "                  1,           1,           1,           1,           1,           1,           1,           1,           1,           1,           1,           1,           1,           1,           1,           1,           1,           1,           1,           1,           1,           1,           1,\n",
       "                  1,           1,           1,           1,           1,           1,           1,           1,           1,           1,           1,           1,           1,           1,           1,           1,           1,           1,           1,           1,           1,           1,           1,\n",
       "                  1,           1,           1,           1,           1,           1,           1,           1,           1,           1,           1,           1,           1,           1,           1,           1,           1,           1,           1,           1,           1,           1,           1,\n",
       "                  1,           1,           1,           1,           1,           1,           1,           1,           1,           1,           1,           1,           1,           1,           1,           1,           1,           1,           1,           1,           1,           1,           1,\n",
       "                  1,           1,           1,           1,           1,           1,           1,           1,           1,           1,           1,           1,           1,           1,           1,           1,           1,           1,           1,           1,           1,           1,           1,\n",
       "                  1,           1,           1,           1,           1,           1,           1,           1,           1,           1,           1,           1,           1,           1,           1,           1,           1,           1,           1,           1,           1,           1,           1,\n",
       "                  1,           1,           1,           1,           1,           1,           1,           1,           1,           1,           1,           1,           1,           1,           1,           1,           1,           1,           1,           1,           1,           1,           1,\n",
       "                  1,           1,           1,           1,           1,           1,           1,           1,           1,           1,           1,           1,           1,           1,           1,           1,           1,           1,           1,           1,           1,           1,           1,\n",
       "                  1,           1,           1,           1,           1,           1,           1,           1,           1,           1,           1,           1,           1,           1,           1,           1,           1,           1,           1,           1,           1,           1,           1,\n",
       "                  1,           1,           1,           1,           1,           1,           1,           1,           1,           1,           1,           1,           1,           1,           1,           1,           1,           1,           1,           1,           1,           1,           1,\n",
       "                  1,           1,           1,           1,           1,           1,           1,           1,           1,           1,           1,           1,           1,           1,           1,           1,           1,           1,           1,           1,           1,           1,           1,\n",
       "                  1,           1,           1,           1,           1,           1,           1,           1,           1,           1,           1,           1,           1,           1,           1,           1,           1,           1,           1,           1,           1,           1,           1,\n",
       "                  1,           1,           1,           1,           1,           1,           1,           1,           1,           1,           1,           1,           1,           1,           1,           1,           1,           1,           1,           1,           1,           1,           1,\n",
       "                  1,           1,           1,           1,           1,           1,           1,           1,           1,           1,           1,           1,           1,           1,           1,           1,           1,           1,           1,           1,           1,           1,           1,\n",
       "                  1,           1,           1,           1,           1,           1,           1,           1,           1,           1,           1,           1,           1,           1,           1,           1,           1,           1,           1,           1,           1,           1,           1,\n",
       "                  1,           1,           1,           1,           1,           1,           1,           1,           1,           1,           1,           1,           1,           1,           1,           1,           1,           1,           1,           1,           1,           1,           1,\n",
       "                  1,           1,           1,           1,           1,           1,           1,           1,           1,           1,           1,           1,           1,           1,           1,           1,           1,           1,           1,           1,           1,           1,           1,\n",
       "                  1,           1,           1,           1,           1,           1,           1,           1,           1,           1,           1,           1,           1,           1,           1,           1,           1,           1,           1,           1,           1,           1,           1,\n",
       "                  1,           1,           1,           1,           1,           1,           1,           1,           1,           1,           1,           1,           1,           1,           1,           1,           1,           1,           1,           1,           1,           1,           1,\n",
       "                  1,           1,           1,           1,           1,           1,           1,           1,           1,           1,           1,           1,           1,           1,           1,           1,           1,           1,           1,           1,           1,           1,           1,\n",
       "                  1,           1,           1,           1,           1,           1,           1,           1,           1,           1,           1,           1,           1,           1,           1,           1,           1,           1,           1,           1,           1,           1,           1,\n",
       "                  1,           1,           1,           1,           1,           1,           1,           1,           1,           1,           1,           1,           1,           1,           1,           1,           1,           1,           1,           1,           1,           1,           1,\n",
       "                  1,           1,           1,           1,           1,           1,           1,           1,           1,           1,           1,           1,           1,           1,           1,           1,           1,           1,           1,           1,           1,           1,           1,\n",
       "                  1,           1,           1,           1,           1,           1,           1,           1,           1,           1,           1,           1,           1,           1,           1,           1,           1,           1,           1,           1,           1,           1,           1,\n",
       "                  1,           1,           1,           1,           1,           1,           1,           1,           1,           1,           1,           1,           1,           1,           1,           1,           1,           1,           1,           1,           1,           1,           1,\n",
       "                  1,           1,           1,           1,           1,           1,           1,           1,           1,           1,           1,           1,           1,           1,           1,           1,           1,           1,           1,           1,           1,           1,           1,\n",
       "                  1,           1,           1,           1,           1,           1,           1,           1,           1,           1,           1,           1,           1,           1,           1,           1,           1,           1,           1,           1,           1,           1,           1,\n",
       "                  1,           1,           1,           1,           1,           1,           1,           1,           1,           1,           1,           1,           1,           1,           1,           1,           1,           1,           1,           1,           1,           1,           1,\n",
       "                  1,           1,           1,           1,           1,           1,           1,           1,           1,           1,           1,           1,           1,           1,           1,           1,           1,           1,           1,           1,           1,           1,           1,\n",
       "                  1,           1,           1,           1,           1,           1,           1,           1,           1,           1,           1,           1,           1,           1,           1,           1,           1,           1,           1,           1,           1,           1,           1,\n",
       "                  1,           1,           1,           1,           1,           1,           1,           1,           1,           1,           1,           1,           1,           1,           1,           1,           1,           1,           1,           1,           1,           1,           1,\n",
       "                  1,           1,           1,           1,           1,           1,           1,           1,           1,           1,           1,           1,           1,           1,           1,           1,           1,           1,           1,           1,           1,           1,           1,\n",
       "                  1,           1,           1,           1,           1,           1,     0.99174,     0.99174,     0.99174,     0.99174,     0.99174,     0.99174,     0.99174,     0.99174,     0.99174,     0.99174,     0.99174,     0.99174,     0.99174,     0.99174,     0.99174,     0.98374,     0.98374,\n",
       "            0.98374,     0.98374,     0.98374,     0.98374,     0.98374,     0.98374,       0.976,       0.976,       0.976,       0.976,       0.976,       0.976,       0.976,      0.9685,      0.9685,      0.9685,      0.9685,      0.9685,      0.9685,      0.9685,     0.93939,     0.93939,     0.93939,\n",
       "            0.93939,     0.93939,     0.93939,     0.93939,     0.93939,     0.92647,     0.92647,     0.92647,     0.92647,     0.92647,     0.92647,     0.92647,     0.92647,     0.92647,     0.92647,     0.92647,     0.92647,     0.92647,     0.92647,     0.92647,     0.90071,     0.90071,     0.90071,\n",
       "            0.90071,     0.90071,     0.90071,     0.90071,     0.78528,     0.78528,     0.78528,     0.78528,     0.78528,     0.78528,     0.78528,     0.78528,     0.70492,     0.70492,     0.70492,     0.70492,     0.70492,     0.70492,     0.70492,     0.62201,     0.62201,     0.62201,     0.62201,\n",
       "            0.62201,     0.62201,     0.62201,     0.62201,     0.60092,     0.60092,     0.60092,     0.60092,     0.60092,     0.60092,     0.60092,     0.55417,     0.55417,     0.55417,     0.55417,     0.55417,     0.55417,     0.55417,     0.55417,     0.55417,     0.55417,     0.55417,     0.55417,\n",
       "            0.55417,     0.55417,     0.55417,     0.30987,     0.26561,     0.22134,     0.17707,      0.1328,    0.088535,    0.044268,           0]]), 'Recall', 'Precision'], [array([          0,    0.001001,    0.002002,    0.003003,    0.004004,    0.005005,    0.006006,    0.007007,    0.008008,    0.009009,     0.01001,    0.011011,    0.012012,    0.013013,    0.014014,    0.015015,    0.016016,    0.017017,    0.018018,    0.019019,     0.02002,    0.021021,    0.022022,    0.023023,\n",
       "          0.024024,    0.025025,    0.026026,    0.027027,    0.028028,    0.029029,     0.03003,    0.031031,    0.032032,    0.033033,    0.034034,    0.035035,    0.036036,    0.037037,    0.038038,    0.039039,     0.04004,    0.041041,    0.042042,    0.043043,    0.044044,    0.045045,    0.046046,    0.047047,\n",
       "          0.048048,    0.049049,     0.05005,    0.051051,    0.052052,    0.053053,    0.054054,    0.055055,    0.056056,    0.057057,    0.058058,    0.059059,     0.06006,    0.061061,    0.062062,    0.063063,    0.064064,    0.065065,    0.066066,    0.067067,    0.068068,    0.069069,     0.07007,    0.071071,\n",
       "          0.072072,    0.073073,    0.074074,    0.075075,    0.076076,    0.077077,    0.078078,    0.079079,     0.08008,    0.081081,    0.082082,    0.083083,    0.084084,    0.085085,    0.086086,    0.087087,    0.088088,    0.089089,     0.09009,    0.091091,    0.092092,    0.093093,    0.094094,    0.095095,\n",
       "          0.096096,    0.097097,    0.098098,    0.099099,      0.1001,      0.1011,      0.1021,      0.1031,      0.1041,     0.10511,     0.10611,     0.10711,     0.10811,     0.10911,     0.11011,     0.11111,     0.11211,     0.11311,     0.11411,     0.11512,     0.11612,     0.11712,     0.11812,     0.11912,\n",
       "           0.12012,     0.12112,     0.12212,     0.12312,     0.12412,     0.12513,     0.12613,     0.12713,     0.12813,     0.12913,     0.13013,     0.13113,     0.13213,     0.13313,     0.13413,     0.13514,     0.13614,     0.13714,     0.13814,     0.13914,     0.14014,     0.14114,     0.14214,     0.14314,\n",
       "           0.14414,     0.14515,     0.14615,     0.14715,     0.14815,     0.14915,     0.15015,     0.15115,     0.15215,     0.15315,     0.15415,     0.15516,     0.15616,     0.15716,     0.15816,     0.15916,     0.16016,     0.16116,     0.16216,     0.16316,     0.16416,     0.16517,     0.16617,     0.16717,\n",
       "           0.16817,     0.16917,     0.17017,     0.17117,     0.17217,     0.17317,     0.17417,     0.17518,     0.17618,     0.17718,     0.17818,     0.17918,     0.18018,     0.18118,     0.18218,     0.18318,     0.18418,     0.18519,     0.18619,     0.18719,     0.18819,     0.18919,     0.19019,     0.19119,\n",
       "           0.19219,     0.19319,     0.19419,      0.1952,      0.1962,      0.1972,      0.1982,      0.1992,      0.2002,      0.2012,      0.2022,      0.2032,      0.2042,     0.20521,     0.20621,     0.20721,     0.20821,     0.20921,     0.21021,     0.21121,     0.21221,     0.21321,     0.21421,     0.21522,\n",
       "           0.21622,     0.21722,     0.21822,     0.21922,     0.22022,     0.22122,     0.22222,     0.22322,     0.22422,     0.22523,     0.22623,     0.22723,     0.22823,     0.22923,     0.23023,     0.23123,     0.23223,     0.23323,     0.23423,     0.23524,     0.23624,     0.23724,     0.23824,     0.23924,\n",
       "           0.24024,     0.24124,     0.24224,     0.24324,     0.24424,     0.24525,     0.24625,     0.24725,     0.24825,     0.24925,     0.25025,     0.25125,     0.25225,     0.25325,     0.25425,     0.25526,     0.25626,     0.25726,     0.25826,     0.25926,     0.26026,     0.26126,     0.26226,     0.26326,\n",
       "           0.26426,     0.26527,     0.26627,     0.26727,     0.26827,     0.26927,     0.27027,     0.27127,     0.27227,     0.27327,     0.27427,     0.27528,     0.27628,     0.27728,     0.27828,     0.27928,     0.28028,     0.28128,     0.28228,     0.28328,     0.28428,     0.28529,     0.28629,     0.28729,\n",
       "           0.28829,     0.28929,     0.29029,     0.29129,     0.29229,     0.29329,     0.29429,      0.2953,      0.2963,      0.2973,      0.2983,      0.2993,      0.3003,      0.3013,      0.3023,      0.3033,      0.3043,     0.30531,     0.30631,     0.30731,     0.30831,     0.30931,     0.31031,     0.31131,\n",
       "           0.31231,     0.31331,     0.31431,     0.31532,     0.31632,     0.31732,     0.31832,     0.31932,     0.32032,     0.32132,     0.32232,     0.32332,     0.32432,     0.32533,     0.32633,     0.32733,     0.32833,     0.32933,     0.33033,     0.33133,     0.33233,     0.33333,     0.33433,     0.33534,\n",
       "           0.33634,     0.33734,     0.33834,     0.33934,     0.34034,     0.34134,     0.34234,     0.34334,     0.34434,     0.34535,     0.34635,     0.34735,     0.34835,     0.34935,     0.35035,     0.35135,     0.35235,     0.35335,     0.35435,     0.35536,     0.35636,     0.35736,     0.35836,     0.35936,\n",
       "           0.36036,     0.36136,     0.36236,     0.36336,     0.36436,     0.36537,     0.36637,     0.36737,     0.36837,     0.36937,     0.37037,     0.37137,     0.37237,     0.37337,     0.37437,     0.37538,     0.37638,     0.37738,     0.37838,     0.37938,     0.38038,     0.38138,     0.38238,     0.38338,\n",
       "           0.38438,     0.38539,     0.38639,     0.38739,     0.38839,     0.38939,     0.39039,     0.39139,     0.39239,     0.39339,     0.39439,      0.3954,      0.3964,      0.3974,      0.3984,      0.3994,      0.4004,      0.4014,      0.4024,      0.4034,      0.4044,     0.40541,     0.40641,     0.40741,\n",
       "           0.40841,     0.40941,     0.41041,     0.41141,     0.41241,     0.41341,     0.41441,     0.41542,     0.41642,     0.41742,     0.41842,     0.41942,     0.42042,     0.42142,     0.42242,     0.42342,     0.42442,     0.42543,     0.42643,     0.42743,     0.42843,     0.42943,     0.43043,     0.43143,\n",
       "           0.43243,     0.43343,     0.43443,     0.43544,     0.43644,     0.43744,     0.43844,     0.43944,     0.44044,     0.44144,     0.44244,     0.44344,     0.44444,     0.44545,     0.44645,     0.44745,     0.44845,     0.44945,     0.45045,     0.45145,     0.45245,     0.45345,     0.45445,     0.45546,\n",
       "           0.45646,     0.45746,     0.45846,     0.45946,     0.46046,     0.46146,     0.46246,     0.46346,     0.46446,     0.46547,     0.46647,     0.46747,     0.46847,     0.46947,     0.47047,     0.47147,     0.47247,     0.47347,     0.47447,     0.47548,     0.47648,     0.47748,     0.47848,     0.47948,\n",
       "           0.48048,     0.48148,     0.48248,     0.48348,     0.48448,     0.48549,     0.48649,     0.48749,     0.48849,     0.48949,     0.49049,     0.49149,     0.49249,     0.49349,     0.49449,      0.4955,      0.4965,      0.4975,      0.4985,      0.4995,      0.5005,      0.5015,      0.5025,      0.5035,\n",
       "            0.5045,     0.50551,     0.50651,     0.50751,     0.50851,     0.50951,     0.51051,     0.51151,     0.51251,     0.51351,     0.51451,     0.51552,     0.51652,     0.51752,     0.51852,     0.51952,     0.52052,     0.52152,     0.52252,     0.52352,     0.52452,     0.52553,     0.52653,     0.52753,\n",
       "           0.52853,     0.52953,     0.53053,     0.53153,     0.53253,     0.53353,     0.53453,     0.53554,     0.53654,     0.53754,     0.53854,     0.53954,     0.54054,     0.54154,     0.54254,     0.54354,     0.54454,     0.54555,     0.54655,     0.54755,     0.54855,     0.54955,     0.55055,     0.55155,\n",
       "           0.55255,     0.55355,     0.55455,     0.55556,     0.55656,     0.55756,     0.55856,     0.55956,     0.56056,     0.56156,     0.56256,     0.56356,     0.56456,     0.56557,     0.56657,     0.56757,     0.56857,     0.56957,     0.57057,     0.57157,     0.57257,     0.57357,     0.57457,     0.57558,\n",
       "           0.57658,     0.57758,     0.57858,     0.57958,     0.58058,     0.58158,     0.58258,     0.58358,     0.58458,     0.58559,     0.58659,     0.58759,     0.58859,     0.58959,     0.59059,     0.59159,     0.59259,     0.59359,     0.59459,      0.5956,      0.5966,      0.5976,      0.5986,      0.5996,\n",
       "            0.6006,      0.6016,      0.6026,      0.6036,      0.6046,     0.60561,     0.60661,     0.60761,     0.60861,     0.60961,     0.61061,     0.61161,     0.61261,     0.61361,     0.61461,     0.61562,     0.61662,     0.61762,     0.61862,     0.61962,     0.62062,     0.62162,     0.62262,     0.62362,\n",
       "           0.62462,     0.62563,     0.62663,     0.62763,     0.62863,     0.62963,     0.63063,     0.63163,     0.63263,     0.63363,     0.63463,     0.63564,     0.63664,     0.63764,     0.63864,     0.63964,     0.64064,     0.64164,     0.64264,     0.64364,     0.64464,     0.64565,     0.64665,     0.64765,\n",
       "           0.64865,     0.64965,     0.65065,     0.65165,     0.65265,     0.65365,     0.65465,     0.65566,     0.65666,     0.65766,     0.65866,     0.65966,     0.66066,     0.66166,     0.66266,     0.66366,     0.66466,     0.66567,     0.66667,     0.66767,     0.66867,     0.66967,     0.67067,     0.67167,\n",
       "           0.67267,     0.67367,     0.67467,     0.67568,     0.67668,     0.67768,     0.67868,     0.67968,     0.68068,     0.68168,     0.68268,     0.68368,     0.68468,     0.68569,     0.68669,     0.68769,     0.68869,     0.68969,     0.69069,     0.69169,     0.69269,     0.69369,     0.69469,      0.6957,\n",
       "            0.6967,      0.6977,      0.6987,      0.6997,      0.7007,      0.7017,      0.7027,      0.7037,      0.7047,     0.70571,     0.70671,     0.70771,     0.70871,     0.70971,     0.71071,     0.71171,     0.71271,     0.71371,     0.71471,     0.71572,     0.71672,     0.71772,     0.71872,     0.71972,\n",
       "           0.72072,     0.72172,     0.72272,     0.72372,     0.72472,     0.72573,     0.72673,     0.72773,     0.72873,     0.72973,     0.73073,     0.73173,     0.73273,     0.73373,     0.73473,     0.73574,     0.73674,     0.73774,     0.73874,     0.73974,     0.74074,     0.74174,     0.74274,     0.74374,\n",
       "           0.74474,     0.74575,     0.74675,     0.74775,     0.74875,     0.74975,     0.75075,     0.75175,     0.75275,     0.75375,     0.75475,     0.75576,     0.75676,     0.75776,     0.75876,     0.75976,     0.76076,     0.76176,     0.76276,     0.76376,     0.76476,     0.76577,     0.76677,     0.76777,\n",
       "           0.76877,     0.76977,     0.77077,     0.77177,     0.77277,     0.77377,     0.77477,     0.77578,     0.77678,     0.77778,     0.77878,     0.77978,     0.78078,     0.78178,     0.78278,     0.78378,     0.78478,     0.78579,     0.78679,     0.78779,     0.78879,     0.78979,     0.79079,     0.79179,\n",
       "           0.79279,     0.79379,     0.79479,      0.7958,      0.7968,      0.7978,      0.7988,      0.7998,      0.8008,      0.8018,      0.8028,      0.8038,      0.8048,     0.80581,     0.80681,     0.80781,     0.80881,     0.80981,     0.81081,     0.81181,     0.81281,     0.81381,     0.81481,     0.81582,\n",
       "           0.81682,     0.81782,     0.81882,     0.81982,     0.82082,     0.82182,     0.82282,     0.82382,     0.82482,     0.82583,     0.82683,     0.82783,     0.82883,     0.82983,     0.83083,     0.83183,     0.83283,     0.83383,     0.83483,     0.83584,     0.83684,     0.83784,     0.83884,     0.83984,\n",
       "           0.84084,     0.84184,     0.84284,     0.84384,     0.84484,     0.84585,     0.84685,     0.84785,     0.84885,     0.84985,     0.85085,     0.85185,     0.85285,     0.85385,     0.85485,     0.85586,     0.85686,     0.85786,     0.85886,     0.85986,     0.86086,     0.86186,     0.86286,     0.86386,\n",
       "           0.86486,     0.86587,     0.86687,     0.86787,     0.86887,     0.86987,     0.87087,     0.87187,     0.87287,     0.87387,     0.87487,     0.87588,     0.87688,     0.87788,     0.87888,     0.87988,     0.88088,     0.88188,     0.88288,     0.88388,     0.88488,     0.88589,     0.88689,     0.88789,\n",
       "           0.88889,     0.88989,     0.89089,     0.89189,     0.89289,     0.89389,     0.89489,      0.8959,      0.8969,      0.8979,      0.8989,      0.8999,      0.9009,      0.9019,      0.9029,      0.9039,      0.9049,     0.90591,     0.90691,     0.90791,     0.90891,     0.90991,     0.91091,     0.91191,\n",
       "           0.91291,     0.91391,     0.91491,     0.91592,     0.91692,     0.91792,     0.91892,     0.91992,     0.92092,     0.92192,     0.92292,     0.92392,     0.92492,     0.92593,     0.92693,     0.92793,     0.92893,     0.92993,     0.93093,     0.93193,     0.93293,     0.93393,     0.93493,     0.93594,\n",
       "           0.93694,     0.93794,     0.93894,     0.93994,     0.94094,     0.94194,     0.94294,     0.94394,     0.94494,     0.94595,     0.94695,     0.94795,     0.94895,     0.94995,     0.95095,     0.95195,     0.95295,     0.95395,     0.95495,     0.95596,     0.95696,     0.95796,     0.95896,     0.95996,\n",
       "           0.96096,     0.96196,     0.96296,     0.96396,     0.96496,     0.96597,     0.96697,     0.96797,     0.96897,     0.96997,     0.97097,     0.97197,     0.97297,     0.97397,     0.97497,     0.97598,     0.97698,     0.97798,     0.97898,     0.97998,     0.98098,     0.98198,     0.98298,     0.98398,\n",
       "           0.98498,     0.98599,     0.98699,     0.98799,     0.98899,     0.98999,     0.99099,     0.99199,     0.99299,     0.99399,     0.99499,       0.996,       0.997,       0.998,       0.999,           1]), array([[    0.49534,     0.49534,     0.67794,     0.73248,      0.7731,     0.78635,     0.79877,     0.80347,     0.81293,     0.81525,     0.82347,     0.82817,     0.83663,     0.84528,     0.84689,     0.85086,     0.85244,     0.85378,     0.85481,     0.85585,     0.85744,     0.85915,      0.8598,\n",
       "            0.86045,      0.8611,     0.86175,     0.85885,     0.86215,     0.86638,     0.86756,     0.86832,     0.86909,     0.86985,     0.87588,     0.87763,     0.88165,     0.88761,     0.89124,      0.8914,     0.89157,     0.89173,      0.8919,     0.89206,     0.89223,     0.89239,     0.89256,\n",
       "            0.89272,     0.89289,     0.89305,     0.89322,     0.89338,     0.89355,     0.89371,     0.89388,     0.89404,     0.89421,     0.89439,     0.89535,     0.89631,     0.89727,      0.8979,     0.89841,     0.89891,     0.89942,     0.89993,     0.90043,     0.90082,     0.90105,     0.90129,\n",
       "            0.90153,     0.90176,       0.902,     0.90223,     0.90247,      0.9027,     0.90294,     0.90318,     0.90341,     0.90365,     0.90388,     0.90425,     0.90465,     0.90505,     0.90544,     0.90584,     0.90623,     0.90662,     0.90702,     0.90873,     0.91044,     0.91058,     0.91073,\n",
       "            0.91088,     0.91103,     0.91118,     0.91132,     0.91147,     0.91162,     0.91177,     0.91191,     0.91206,     0.91221,     0.91236,      0.9125,     0.91265,      0.9128,     0.91295,     0.91309,     0.91324,     0.91339,     0.91353,     0.91486,      0.9172,     0.91748,     0.91776,\n",
       "            0.91804,     0.91832,      0.9186,     0.91888,     0.91916,     0.91944,     0.91972,        0.92,     0.92028,     0.92041,     0.92053,     0.92065,     0.92078,      0.9209,     0.92102,     0.92114,     0.92127,     0.92139,     0.92151,     0.92163,     0.92176,     0.92188,       0.922,\n",
       "            0.92212,     0.92225,     0.92237,     0.92249,     0.92261,     0.92274,     0.92286,     0.92298,      0.9231,     0.92323,     0.92335,     0.92347,     0.92359,     0.92349,     0.92326,     0.92304,     0.92281,     0.92258,     0.92235,     0.92212,     0.92189,     0.92167,     0.92144,\n",
       "            0.92121,     0.92098,     0.92075,     0.92052,     0.92029,     0.92006,     0.91984,     0.92016,     0.92119,     0.92221,     0.92392,     0.92657,     0.92676,     0.92694,     0.92713,     0.92732,      0.9275,     0.92769,     0.92787,     0.92806,     0.92824,     0.92843,     0.92862,\n",
       "             0.9288,     0.92899,     0.92917,     0.92936,     0.92954,     0.92973,     0.92992,     0.93013,     0.93034,     0.93056,     0.93077,     0.93098,     0.93119,     0.93141,     0.93162,     0.93183,     0.93204,     0.93225,     0.93247,     0.93268,     0.93289,      0.9331,     0.93331,\n",
       "            0.93313,      0.9329,     0.93267,     0.93245,     0.93222,     0.93199,     0.93177,     0.93154,     0.93131,     0.93108,     0.93086,     0.93063,      0.9304,     0.93017,     0.92995,     0.92972,     0.92949,     0.92856,     0.92684,     0.92546,     0.92602,     0.92658,     0.92713,\n",
       "            0.92769,     0.92825,      0.9288,     0.92886,     0.92889,     0.92891,     0.92894,     0.92896,     0.92899,     0.92901,     0.92904,     0.92906,     0.92909,     0.92912,     0.92914,     0.92917,     0.92919,     0.92922,     0.92924,     0.92927,     0.92929,     0.92932,     0.92934,\n",
       "            0.92937,     0.92939,     0.92942,     0.92944,     0.92947,     0.92949,     0.92952,     0.92954,     0.92957,      0.9296,     0.92962,     0.92965,     0.92967,      0.9297,     0.92972,     0.92975,     0.92977,      0.9298,     0.92982,     0.92985,     0.92987,      0.9299,     0.92992,\n",
       "            0.92995,     0.92997,        0.93,     0.93002,     0.93005,     0.93007,      0.9301,     0.93012,     0.93015,     0.93018,      0.9302,     0.93023,     0.93025,     0.93028,      0.9303,     0.93033,     0.93035,     0.93038,      0.9304,     0.93043,     0.93045,     0.93048,      0.9305,\n",
       "            0.93053,     0.93055,     0.93058,      0.9306,     0.93063,     0.93065,     0.93068,      0.9307,     0.93073,     0.93075,     0.93078,      0.9308,     0.93083,     0.93086,     0.93088,     0.93091,     0.93093,     0.93096,     0.93098,     0.93101,     0.93103,     0.93106,     0.93108,\n",
       "            0.93111,     0.93113,     0.93116,     0.93118,     0.93121,     0.93123,     0.93126,     0.93128,     0.93131,     0.93133,     0.93136,     0.93138,     0.93141,     0.93143,     0.93146,     0.93148,     0.93151,     0.93153,     0.93156,     0.93158,     0.93161,     0.93163,     0.93166,\n",
       "            0.93169,     0.93171,     0.93174,     0.93176,     0.93179,     0.93181,     0.93184,     0.93186,     0.93189,     0.93191,     0.93194,     0.93196,     0.93199,     0.93201,     0.93204,     0.93206,     0.93209,     0.93211,     0.93214,     0.93216,     0.93219,     0.93221,     0.93224,\n",
       "            0.93226,     0.93229,     0.93231,     0.93232,     0.93229,     0.93227,     0.93224,     0.93221,     0.93218,     0.93215,     0.93212,     0.93209,     0.93206,     0.93203,     0.93201,     0.93198,     0.93195,     0.93192,     0.93189,     0.93186,     0.93183,      0.9318,     0.93178,\n",
       "            0.93175,     0.93172,     0.93169,     0.93166,     0.93163,      0.9316,     0.93157,     0.93155,     0.93152,     0.93149,     0.93146,     0.93143,      0.9314,     0.93137,     0.93134,     0.93131,     0.93129,     0.93126,     0.93123,      0.9312,     0.93117,     0.93114,     0.93111,\n",
       "            0.93108,     0.93106,     0.93103,       0.931,     0.93097,     0.93094,     0.93091,     0.93088,     0.93085,     0.93082,      0.9308,     0.93077,     0.93074,     0.93071,     0.93068,     0.93065,     0.93062,     0.93059,     0.93056,     0.93054,     0.93051,     0.93048,     0.93045,\n",
       "            0.93042,     0.93039,     0.93036,     0.93033,      0.9303,     0.93028,     0.93025,     0.93022,     0.93019,     0.93016,     0.93013,      0.9301,     0.93007,     0.93004,     0.93002,     0.92999,     0.92996,     0.92993,      0.9299,     0.92987,     0.92984,     0.92981,     0.92978,\n",
       "            0.92976,     0.92973,      0.9297,     0.92967,     0.92964,     0.92961,     0.92958,     0.92955,     0.92952,      0.9295,     0.92947,     0.92944,     0.92941,     0.92938,     0.92935,     0.92932,     0.92929,     0.92926,     0.92924,     0.92921,     0.92918,     0.92915,     0.92912,\n",
       "            0.92909,     0.92906,     0.92903,       0.929,     0.92897,     0.92895,     0.92892,     0.92889,     0.92886,     0.92883,      0.9288,     0.92877,     0.92874,     0.92871,     0.92869,     0.92866,     0.92863,      0.9286,     0.92857,     0.92854,     0.92851,     0.92848,     0.92845,\n",
       "            0.92842,      0.9284,     0.92837,     0.92834,     0.92831,     0.92847,     0.92868,     0.92889,      0.9291,     0.92932,     0.92953,     0.92974,     0.92995,     0.93016,     0.93038,     0.93059,      0.9308,     0.93101,     0.93122,     0.93143,     0.93165,     0.93183,     0.93187,\n",
       "            0.93192,     0.93196,     0.93201,     0.93205,      0.9321,     0.93214,     0.93219,     0.93223,     0.93228,     0.93232,     0.93237,     0.93241,     0.93246,     0.93251,     0.93255,      0.9326,     0.93264,     0.93269,     0.93273,     0.93278,     0.93282,     0.93287,     0.93291,\n",
       "            0.93296,       0.933,     0.93305,     0.93309,     0.93314,     0.93318,     0.93323,     0.93327,     0.93332,     0.93336,     0.93341,     0.93345,      0.9335,     0.93354,     0.93359,     0.93363,     0.93368,     0.93372,     0.93377,     0.93381,     0.93386,     0.93391,     0.93395,\n",
       "              0.934,     0.93404,     0.93409,     0.93413,     0.93418,     0.93422,     0.93427,     0.93431,     0.93436,      0.9344,     0.93445,     0.93449,     0.93454,     0.93458,     0.93463,     0.93467,     0.93472,     0.93476,     0.93481,     0.93485,      0.9349,     0.93494,     0.93499,\n",
       "            0.93503,     0.93508,     0.93512,     0.93517,     0.93521,     0.93526,      0.9353,     0.93535,     0.93546,     0.93562,     0.93578,     0.93593,     0.93609,     0.93624,      0.9364,     0.93656,     0.93671,     0.93687,     0.93702,     0.93718,     0.93733,     0.93749,     0.93765,\n",
       "             0.9378,     0.93796,     0.93811,     0.93827,     0.93842,     0.93858,     0.93873,     0.93889,     0.93942,     0.94009,     0.94076,     0.94143,      0.9421,     0.94248,     0.94235,     0.94221,     0.94208,     0.94194,     0.94181,     0.94168,     0.94154,     0.94141,     0.94127,\n",
       "            0.94114,       0.941,     0.94087,     0.94074,      0.9406,     0.94047,     0.94033,      0.9402,     0.94006,     0.93993,     0.93979,     0.93966,     0.93952,     0.93939,     0.93926,     0.93912,     0.93899,     0.93885,     0.93872,     0.93858,     0.93889,     0.94207,     0.94194,\n",
       "            0.94181,     0.94167,     0.94154,     0.94141,     0.94128,     0.94115,     0.94102,     0.94089,     0.94076,     0.94063,     0.94049,     0.94036,     0.94023,      0.9401,     0.93997,     0.93984,     0.93971,     0.93957,     0.93944,     0.93931,     0.93918,     0.93905,     0.93892,\n",
       "            0.93879,     0.93865,     0.93852,     0.93839,     0.93826,     0.93813,       0.938,     0.93821,     0.93846,     0.93872,     0.93897,     0.93921,     0.93946,     0.93971,     0.93996,     0.94021,     0.94046,     0.94071,     0.94096,     0.94121,     0.94146,     0.94162,     0.94156,\n",
       "            0.94151,     0.94145,     0.94139,     0.94134,     0.94128,     0.94123,     0.94117,     0.94111,     0.94106,       0.941,     0.94095,     0.94089,     0.94083,     0.94078,     0.94072,     0.94067,     0.94061,     0.94055,      0.9405,     0.94044,     0.94039,     0.94033,     0.94027,\n",
       "            0.94022,     0.94016,     0.94011,     0.94005,     0.93999,     0.93994,     0.93988,     0.93983,     0.93977,     0.93971,     0.93966,      0.9396,     0.93955,     0.93949,     0.93943,     0.93938,     0.93932,     0.93926,     0.93921,     0.93915,      0.9391,     0.93904,     0.93898,\n",
       "            0.93893,     0.93887,     0.93882,     0.93876,      0.9387,     0.93865,     0.93859,     0.93853,     0.93848,     0.93842,     0.93837,     0.93831,     0.93825,      0.9382,     0.93814,     0.93808,     0.93803,     0.93797,     0.93792,     0.93786,      0.9378,     0.93775,     0.93769,\n",
       "            0.93763,     0.93758,     0.93752,     0.93759,     0.93774,     0.93789,     0.93804,     0.93819,     0.93833,     0.93848,     0.93863,     0.93878,     0.93893,     0.93907,     0.93922,     0.93937,     0.93952,     0.93967,     0.93981,     0.93996,     0.94011,     0.94026,      0.9404,\n",
       "            0.94055,      0.9407,     0.94085,     0.94099,     0.94114,     0.94047,     0.93952,     0.93857,     0.93762,      0.9367,     0.93584,     0.93498,     0.93412,     0.93325,     0.93287,     0.93301,     0.93314,     0.93328,     0.93342,     0.93355,     0.93369,     0.93382,     0.93396,\n",
       "             0.9341,     0.93423,     0.93437,      0.9345,     0.93464,     0.93477,     0.93491,     0.93504,     0.93518,     0.93531,     0.93545,     0.93559,     0.93572,     0.93586,     0.93599,     0.93613,     0.93626,      0.9364,     0.93648,      0.9363,     0.93612,     0.93594,     0.93576,\n",
       "            0.93558,      0.9354,     0.93521,     0.93503,     0.93485,     0.93467,     0.93449,     0.93431,     0.93413,     0.93395,     0.93377,     0.93359,      0.9334,     0.93322,     0.93304,     0.93286,     0.93268,      0.9325,     0.93232,     0.93145,     0.93036,     0.92926,     0.92816,\n",
       "            0.92693,     0.92567,     0.92441,     0.92176,     0.91798,     0.91499,     0.91398,     0.91298,     0.91197,     0.91097,     0.90873,     0.90602,     0.90532,     0.90461,      0.9039,      0.9032,     0.90249,     0.90178,     0.89979,     0.89747,     0.89553,     0.89366,     0.89213,\n",
       "            0.89109,     0.89004,     0.88899,     0.88312,     0.87695,     0.87385,     0.87246,     0.87107,     0.86968,     0.86759,     0.86513,     0.85606,     0.84236,     0.82315,     0.81783,     0.81382,     0.81274,     0.81166,     0.81058,      0.8095,     0.80794,     0.80576,     0.80358,\n",
       "            0.77617,     0.77234,     0.74681,     0.73468,     0.72798,     0.72488,     0.71557,     0.70865,     0.70252,     0.67873,     0.67426,       0.668,     0.65855,     0.65395,     0.64134,     0.62141,      0.6125,     0.60798,     0.60426,     0.59687,     0.58166,      0.5703,     0.56244,\n",
       "            0.55759,     0.55494,     0.55227,     0.53813,     0.52559,     0.52281,     0.52002,     0.50188,     0.49844,     0.49498,     0.48717,     0.48288,     0.47935,     0.47544,     0.47098,     0.46739,     0.46481,     0.46223,      0.4589,     0.45018,     0.44896,     0.44773,      0.4465,\n",
       "            0.44527,     0.44403,      0.4428,     0.44158,     0.44042,     0.43925,     0.43809,     0.43692,     0.43575,     0.43458,     0.43341,     0.43069,     0.42596,     0.41421,     0.41035,     0.40647,     0.17502,           0,           0,           0,           0,           0,           0,\n",
       "                  0,           0,           0,           0,           0,           0,           0,           0,           0,           0,           0]]), 'Confidence', 'F1'], [array([          0,    0.001001,    0.002002,    0.003003,    0.004004,    0.005005,    0.006006,    0.007007,    0.008008,    0.009009,     0.01001,    0.011011,    0.012012,    0.013013,    0.014014,    0.015015,    0.016016,    0.017017,    0.018018,    0.019019,     0.02002,    0.021021,    0.022022,    0.023023,\n",
       "          0.024024,    0.025025,    0.026026,    0.027027,    0.028028,    0.029029,     0.03003,    0.031031,    0.032032,    0.033033,    0.034034,    0.035035,    0.036036,    0.037037,    0.038038,    0.039039,     0.04004,    0.041041,    0.042042,    0.043043,    0.044044,    0.045045,    0.046046,    0.047047,\n",
       "          0.048048,    0.049049,     0.05005,    0.051051,    0.052052,    0.053053,    0.054054,    0.055055,    0.056056,    0.057057,    0.058058,    0.059059,     0.06006,    0.061061,    0.062062,    0.063063,    0.064064,    0.065065,    0.066066,    0.067067,    0.068068,    0.069069,     0.07007,    0.071071,\n",
       "          0.072072,    0.073073,    0.074074,    0.075075,    0.076076,    0.077077,    0.078078,    0.079079,     0.08008,    0.081081,    0.082082,    0.083083,    0.084084,    0.085085,    0.086086,    0.087087,    0.088088,    0.089089,     0.09009,    0.091091,    0.092092,    0.093093,    0.094094,    0.095095,\n",
       "          0.096096,    0.097097,    0.098098,    0.099099,      0.1001,      0.1011,      0.1021,      0.1031,      0.1041,     0.10511,     0.10611,     0.10711,     0.10811,     0.10911,     0.11011,     0.11111,     0.11211,     0.11311,     0.11411,     0.11512,     0.11612,     0.11712,     0.11812,     0.11912,\n",
       "           0.12012,     0.12112,     0.12212,     0.12312,     0.12412,     0.12513,     0.12613,     0.12713,     0.12813,     0.12913,     0.13013,     0.13113,     0.13213,     0.13313,     0.13413,     0.13514,     0.13614,     0.13714,     0.13814,     0.13914,     0.14014,     0.14114,     0.14214,     0.14314,\n",
       "           0.14414,     0.14515,     0.14615,     0.14715,     0.14815,     0.14915,     0.15015,     0.15115,     0.15215,     0.15315,     0.15415,     0.15516,     0.15616,     0.15716,     0.15816,     0.15916,     0.16016,     0.16116,     0.16216,     0.16316,     0.16416,     0.16517,     0.16617,     0.16717,\n",
       "           0.16817,     0.16917,     0.17017,     0.17117,     0.17217,     0.17317,     0.17417,     0.17518,     0.17618,     0.17718,     0.17818,     0.17918,     0.18018,     0.18118,     0.18218,     0.18318,     0.18418,     0.18519,     0.18619,     0.18719,     0.18819,     0.18919,     0.19019,     0.19119,\n",
       "           0.19219,     0.19319,     0.19419,      0.1952,      0.1962,      0.1972,      0.1982,      0.1992,      0.2002,      0.2012,      0.2022,      0.2032,      0.2042,     0.20521,     0.20621,     0.20721,     0.20821,     0.20921,     0.21021,     0.21121,     0.21221,     0.21321,     0.21421,     0.21522,\n",
       "           0.21622,     0.21722,     0.21822,     0.21922,     0.22022,     0.22122,     0.22222,     0.22322,     0.22422,     0.22523,     0.22623,     0.22723,     0.22823,     0.22923,     0.23023,     0.23123,     0.23223,     0.23323,     0.23423,     0.23524,     0.23624,     0.23724,     0.23824,     0.23924,\n",
       "           0.24024,     0.24124,     0.24224,     0.24324,     0.24424,     0.24525,     0.24625,     0.24725,     0.24825,     0.24925,     0.25025,     0.25125,     0.25225,     0.25325,     0.25425,     0.25526,     0.25626,     0.25726,     0.25826,     0.25926,     0.26026,     0.26126,     0.26226,     0.26326,\n",
       "           0.26426,     0.26527,     0.26627,     0.26727,     0.26827,     0.26927,     0.27027,     0.27127,     0.27227,     0.27327,     0.27427,     0.27528,     0.27628,     0.27728,     0.27828,     0.27928,     0.28028,     0.28128,     0.28228,     0.28328,     0.28428,     0.28529,     0.28629,     0.28729,\n",
       "           0.28829,     0.28929,     0.29029,     0.29129,     0.29229,     0.29329,     0.29429,      0.2953,      0.2963,      0.2973,      0.2983,      0.2993,      0.3003,      0.3013,      0.3023,      0.3033,      0.3043,     0.30531,     0.30631,     0.30731,     0.30831,     0.30931,     0.31031,     0.31131,\n",
       "           0.31231,     0.31331,     0.31431,     0.31532,     0.31632,     0.31732,     0.31832,     0.31932,     0.32032,     0.32132,     0.32232,     0.32332,     0.32432,     0.32533,     0.32633,     0.32733,     0.32833,     0.32933,     0.33033,     0.33133,     0.33233,     0.33333,     0.33433,     0.33534,\n",
       "           0.33634,     0.33734,     0.33834,     0.33934,     0.34034,     0.34134,     0.34234,     0.34334,     0.34434,     0.34535,     0.34635,     0.34735,     0.34835,     0.34935,     0.35035,     0.35135,     0.35235,     0.35335,     0.35435,     0.35536,     0.35636,     0.35736,     0.35836,     0.35936,\n",
       "           0.36036,     0.36136,     0.36236,     0.36336,     0.36436,     0.36537,     0.36637,     0.36737,     0.36837,     0.36937,     0.37037,     0.37137,     0.37237,     0.37337,     0.37437,     0.37538,     0.37638,     0.37738,     0.37838,     0.37938,     0.38038,     0.38138,     0.38238,     0.38338,\n",
       "           0.38438,     0.38539,     0.38639,     0.38739,     0.38839,     0.38939,     0.39039,     0.39139,     0.39239,     0.39339,     0.39439,      0.3954,      0.3964,      0.3974,      0.3984,      0.3994,      0.4004,      0.4014,      0.4024,      0.4034,      0.4044,     0.40541,     0.40641,     0.40741,\n",
       "           0.40841,     0.40941,     0.41041,     0.41141,     0.41241,     0.41341,     0.41441,     0.41542,     0.41642,     0.41742,     0.41842,     0.41942,     0.42042,     0.42142,     0.42242,     0.42342,     0.42442,     0.42543,     0.42643,     0.42743,     0.42843,     0.42943,     0.43043,     0.43143,\n",
       "           0.43243,     0.43343,     0.43443,     0.43544,     0.43644,     0.43744,     0.43844,     0.43944,     0.44044,     0.44144,     0.44244,     0.44344,     0.44444,     0.44545,     0.44645,     0.44745,     0.44845,     0.44945,     0.45045,     0.45145,     0.45245,     0.45345,     0.45445,     0.45546,\n",
       "           0.45646,     0.45746,     0.45846,     0.45946,     0.46046,     0.46146,     0.46246,     0.46346,     0.46446,     0.46547,     0.46647,     0.46747,     0.46847,     0.46947,     0.47047,     0.47147,     0.47247,     0.47347,     0.47447,     0.47548,     0.47648,     0.47748,     0.47848,     0.47948,\n",
       "           0.48048,     0.48148,     0.48248,     0.48348,     0.48448,     0.48549,     0.48649,     0.48749,     0.48849,     0.48949,     0.49049,     0.49149,     0.49249,     0.49349,     0.49449,      0.4955,      0.4965,      0.4975,      0.4985,      0.4995,      0.5005,      0.5015,      0.5025,      0.5035,\n",
       "            0.5045,     0.50551,     0.50651,     0.50751,     0.50851,     0.50951,     0.51051,     0.51151,     0.51251,     0.51351,     0.51451,     0.51552,     0.51652,     0.51752,     0.51852,     0.51952,     0.52052,     0.52152,     0.52252,     0.52352,     0.52452,     0.52553,     0.52653,     0.52753,\n",
       "           0.52853,     0.52953,     0.53053,     0.53153,     0.53253,     0.53353,     0.53453,     0.53554,     0.53654,     0.53754,     0.53854,     0.53954,     0.54054,     0.54154,     0.54254,     0.54354,     0.54454,     0.54555,     0.54655,     0.54755,     0.54855,     0.54955,     0.55055,     0.55155,\n",
       "           0.55255,     0.55355,     0.55455,     0.55556,     0.55656,     0.55756,     0.55856,     0.55956,     0.56056,     0.56156,     0.56256,     0.56356,     0.56456,     0.56557,     0.56657,     0.56757,     0.56857,     0.56957,     0.57057,     0.57157,     0.57257,     0.57357,     0.57457,     0.57558,\n",
       "           0.57658,     0.57758,     0.57858,     0.57958,     0.58058,     0.58158,     0.58258,     0.58358,     0.58458,     0.58559,     0.58659,     0.58759,     0.58859,     0.58959,     0.59059,     0.59159,     0.59259,     0.59359,     0.59459,      0.5956,      0.5966,      0.5976,      0.5986,      0.5996,\n",
       "            0.6006,      0.6016,      0.6026,      0.6036,      0.6046,     0.60561,     0.60661,     0.60761,     0.60861,     0.60961,     0.61061,     0.61161,     0.61261,     0.61361,     0.61461,     0.61562,     0.61662,     0.61762,     0.61862,     0.61962,     0.62062,     0.62162,     0.62262,     0.62362,\n",
       "           0.62462,     0.62563,     0.62663,     0.62763,     0.62863,     0.62963,     0.63063,     0.63163,     0.63263,     0.63363,     0.63463,     0.63564,     0.63664,     0.63764,     0.63864,     0.63964,     0.64064,     0.64164,     0.64264,     0.64364,     0.64464,     0.64565,     0.64665,     0.64765,\n",
       "           0.64865,     0.64965,     0.65065,     0.65165,     0.65265,     0.65365,     0.65465,     0.65566,     0.65666,     0.65766,     0.65866,     0.65966,     0.66066,     0.66166,     0.66266,     0.66366,     0.66466,     0.66567,     0.66667,     0.66767,     0.66867,     0.66967,     0.67067,     0.67167,\n",
       "           0.67267,     0.67367,     0.67467,     0.67568,     0.67668,     0.67768,     0.67868,     0.67968,     0.68068,     0.68168,     0.68268,     0.68368,     0.68468,     0.68569,     0.68669,     0.68769,     0.68869,     0.68969,     0.69069,     0.69169,     0.69269,     0.69369,     0.69469,      0.6957,\n",
       "            0.6967,      0.6977,      0.6987,      0.6997,      0.7007,      0.7017,      0.7027,      0.7037,      0.7047,     0.70571,     0.70671,     0.70771,     0.70871,     0.70971,     0.71071,     0.71171,     0.71271,     0.71371,     0.71471,     0.71572,     0.71672,     0.71772,     0.71872,     0.71972,\n",
       "           0.72072,     0.72172,     0.72272,     0.72372,     0.72472,     0.72573,     0.72673,     0.72773,     0.72873,     0.72973,     0.73073,     0.73173,     0.73273,     0.73373,     0.73473,     0.73574,     0.73674,     0.73774,     0.73874,     0.73974,     0.74074,     0.74174,     0.74274,     0.74374,\n",
       "           0.74474,     0.74575,     0.74675,     0.74775,     0.74875,     0.74975,     0.75075,     0.75175,     0.75275,     0.75375,     0.75475,     0.75576,     0.75676,     0.75776,     0.75876,     0.75976,     0.76076,     0.76176,     0.76276,     0.76376,     0.76476,     0.76577,     0.76677,     0.76777,\n",
       "           0.76877,     0.76977,     0.77077,     0.77177,     0.77277,     0.77377,     0.77477,     0.77578,     0.77678,     0.77778,     0.77878,     0.77978,     0.78078,     0.78178,     0.78278,     0.78378,     0.78478,     0.78579,     0.78679,     0.78779,     0.78879,     0.78979,     0.79079,     0.79179,\n",
       "           0.79279,     0.79379,     0.79479,      0.7958,      0.7968,      0.7978,      0.7988,      0.7998,      0.8008,      0.8018,      0.8028,      0.8038,      0.8048,     0.80581,     0.80681,     0.80781,     0.80881,     0.80981,     0.81081,     0.81181,     0.81281,     0.81381,     0.81481,     0.81582,\n",
       "           0.81682,     0.81782,     0.81882,     0.81982,     0.82082,     0.82182,     0.82282,     0.82382,     0.82482,     0.82583,     0.82683,     0.82783,     0.82883,     0.82983,     0.83083,     0.83183,     0.83283,     0.83383,     0.83483,     0.83584,     0.83684,     0.83784,     0.83884,     0.83984,\n",
       "           0.84084,     0.84184,     0.84284,     0.84384,     0.84484,     0.84585,     0.84685,     0.84785,     0.84885,     0.84985,     0.85085,     0.85185,     0.85285,     0.85385,     0.85485,     0.85586,     0.85686,     0.85786,     0.85886,     0.85986,     0.86086,     0.86186,     0.86286,     0.86386,\n",
       "           0.86486,     0.86587,     0.86687,     0.86787,     0.86887,     0.86987,     0.87087,     0.87187,     0.87287,     0.87387,     0.87487,     0.87588,     0.87688,     0.87788,     0.87888,     0.87988,     0.88088,     0.88188,     0.88288,     0.88388,     0.88488,     0.88589,     0.88689,     0.88789,\n",
       "           0.88889,     0.88989,     0.89089,     0.89189,     0.89289,     0.89389,     0.89489,      0.8959,      0.8969,      0.8979,      0.8989,      0.8999,      0.9009,      0.9019,      0.9029,      0.9039,      0.9049,     0.90591,     0.90691,     0.90791,     0.90891,     0.90991,     0.91091,     0.91191,\n",
       "           0.91291,     0.91391,     0.91491,     0.91592,     0.91692,     0.91792,     0.91892,     0.91992,     0.92092,     0.92192,     0.92292,     0.92392,     0.92492,     0.92593,     0.92693,     0.92793,     0.92893,     0.92993,     0.93093,     0.93193,     0.93293,     0.93393,     0.93493,     0.93594,\n",
       "           0.93694,     0.93794,     0.93894,     0.93994,     0.94094,     0.94194,     0.94294,     0.94394,     0.94494,     0.94595,     0.94695,     0.94795,     0.94895,     0.94995,     0.95095,     0.95195,     0.95295,     0.95395,     0.95495,     0.95596,     0.95696,     0.95796,     0.95896,     0.95996,\n",
       "           0.96096,     0.96196,     0.96296,     0.96396,     0.96496,     0.96597,     0.96697,     0.96797,     0.96897,     0.96997,     0.97097,     0.97197,     0.97297,     0.97397,     0.97497,     0.97598,     0.97698,     0.97798,     0.97898,     0.97998,     0.98098,     0.98198,     0.98298,     0.98398,\n",
       "           0.98498,     0.98599,     0.98699,     0.98799,     0.98899,     0.98999,     0.99099,     0.99199,     0.99299,     0.99399,     0.99499,       0.996,       0.997,       0.998,       0.999,           1]), array([[    0.33002,     0.33002,     0.51478,     0.58563,      0.6459,     0.66461,     0.68255,     0.68945,     0.70451,     0.71106,     0.72366,     0.73094,     0.74424,     0.75802,     0.76063,     0.76705,     0.76962,     0.77181,     0.77351,      0.7752,     0.77782,     0.78063,     0.78171,\n",
       "            0.78279,     0.78387,     0.78495,      0.7852,     0.79072,     0.79786,     0.79987,     0.80117,     0.80248,     0.80378,     0.81414,     0.81716,     0.82416,     0.83464,     0.84107,     0.84137,     0.84166,     0.84196,     0.84225,     0.84255,     0.84284,     0.84314,     0.84343,\n",
       "            0.84373,     0.84402,     0.84432,     0.84461,     0.84491,      0.8452,      0.8455,     0.84579,     0.84608,     0.84638,     0.84671,     0.84844,     0.85016,     0.85189,     0.85302,     0.85394,     0.85486,     0.85577,     0.85669,     0.85761,      0.8583,     0.85873,     0.85916,\n",
       "            0.85959,     0.86002,     0.86045,     0.86088,     0.86131,     0.86174,     0.86217,      0.8626,     0.86302,     0.86345,     0.86388,     0.86457,     0.86529,     0.86601,     0.86674,     0.86746,     0.86819,     0.86891,     0.86963,     0.87279,     0.87594,     0.87621,     0.87649,\n",
       "            0.87676,     0.87704,     0.87731,     0.87758,     0.87786,     0.87813,     0.87841,     0.87868,     0.87895,     0.87923,      0.8795,     0.87978,     0.88005,     0.88032,      0.8806,     0.88087,     0.88115,     0.88142,     0.88169,     0.88417,     0.88856,     0.88908,     0.88961,\n",
       "            0.89013,     0.89066,     0.89119,     0.89171,     0.89224,     0.89276,     0.89329,     0.89382,     0.89434,     0.89459,     0.89482,     0.89505,     0.89528,     0.89552,     0.89575,     0.89598,     0.89621,     0.89645,     0.89668,     0.89691,     0.89714,     0.89737,     0.89761,\n",
       "            0.89784,     0.89807,      0.8983,     0.89854,     0.89877,       0.899,     0.89923,     0.89946,      0.8997,     0.89993,     0.90016,     0.90039,     0.90063,     0.90068,     0.90064,      0.9006,     0.90056,     0.90052,     0.90048,     0.90044,     0.90039,     0.90035,     0.90031,\n",
       "            0.90027,     0.90023,     0.90019,     0.90015,     0.90011,     0.90006,     0.90002,     0.90087,     0.90284,      0.9048,      0.9081,     0.91324,      0.9136,     0.91396,     0.91432,     0.91469,     0.91505,     0.91541,     0.91577,     0.91613,      0.9165,     0.91686,     0.91722,\n",
       "            0.91758,     0.91794,     0.91831,     0.91867,     0.91903,     0.91939,     0.91976,     0.92018,     0.92059,     0.92101,     0.92143,     0.92185,     0.92226,     0.92268,      0.9231,     0.92351,     0.92393,     0.92435,     0.92476,     0.92518,      0.9256,     0.92602,     0.92643,\n",
       "            0.92644,     0.92641,     0.92638,     0.92635,     0.92632,     0.92629,     0.92625,     0.92622,     0.92619,     0.92616,     0.92613,      0.9261,     0.92607,     0.92604,       0.926,     0.92597,     0.92594,     0.92581,     0.92558,     0.92554,     0.92666,     0.92778,      0.9289,\n",
       "            0.93002,     0.93114,     0.93226,     0.93238,     0.93243,     0.93248,     0.93253,     0.93258,     0.93263,     0.93268,     0.93273,     0.93279,     0.93284,     0.93289,     0.93294,     0.93299,     0.93304,     0.93309,     0.93314,     0.93319,     0.93324,      0.9333,     0.93335,\n",
       "             0.9334,     0.93345,      0.9335,     0.93355,      0.9336,     0.93365,      0.9337,     0.93375,      0.9338,     0.93386,     0.93391,     0.93396,     0.93401,     0.93406,     0.93411,     0.93416,     0.93421,     0.93426,     0.93431,     0.93436,     0.93442,     0.93447,     0.93452,\n",
       "            0.93457,     0.93462,     0.93467,     0.93472,     0.93477,     0.93482,     0.93487,     0.93493,     0.93498,     0.93503,     0.93508,     0.93513,     0.93518,     0.93523,     0.93528,     0.93533,     0.93538,     0.93543,     0.93549,     0.93554,     0.93559,     0.93564,     0.93569,\n",
       "            0.93574,     0.93579,     0.93584,     0.93589,     0.93594,       0.936,     0.93605,      0.9361,     0.93615,      0.9362,     0.93625,      0.9363,     0.93635,      0.9364,     0.93645,      0.9365,     0.93656,     0.93661,     0.93666,     0.93671,     0.93676,     0.93681,     0.93686,\n",
       "            0.93691,     0.93696,     0.93701,     0.93706,     0.93712,     0.93717,     0.93722,     0.93727,     0.93732,     0.93737,     0.93742,     0.93747,     0.93752,     0.93757,     0.93763,     0.93768,     0.93773,     0.93778,     0.93783,     0.93788,     0.93793,     0.93798,     0.93803,\n",
       "            0.93808,     0.93813,     0.93819,     0.93824,     0.93829,     0.93834,     0.93839,     0.93844,     0.93849,     0.93854,     0.93859,     0.93864,     0.93869,     0.93875,      0.9388,     0.93885,      0.9389,     0.93895,       0.939,     0.93905,      0.9391,     0.93915,      0.9392,\n",
       "            0.93926,     0.93931,     0.93936,     0.93939,     0.93939,     0.93939,     0.93938,     0.93938,     0.93938,     0.93937,     0.93937,     0.93937,     0.93936,     0.93936,     0.93936,     0.93935,     0.93935,     0.93935,     0.93934,     0.93934,     0.93934,     0.93933,     0.93933,\n",
       "            0.93933,     0.93932,     0.93932,     0.93932,     0.93931,     0.93931,     0.93931,      0.9393,      0.9393,      0.9393,     0.93929,     0.93929,     0.93929,     0.93928,     0.93928,     0.93928,     0.93927,     0.93927,     0.93927,     0.93926,     0.93926,     0.93926,     0.93925,\n",
       "            0.93925,     0.93925,     0.93924,     0.93924,     0.93924,     0.93923,     0.93923,     0.93923,     0.93922,     0.93922,     0.93922,     0.93921,     0.93921,     0.93921,      0.9392,      0.9392,      0.9392,     0.93919,     0.93919,     0.93919,     0.93918,     0.93918,     0.93918,\n",
       "            0.93917,     0.93917,     0.93917,     0.93916,     0.93916,     0.93916,     0.93915,     0.93915,     0.93915,     0.93914,     0.93914,     0.93914,     0.93913,     0.93913,     0.93913,     0.93912,     0.93912,     0.93912,     0.93911,     0.93911,     0.93911,      0.9391,      0.9391,\n",
       "             0.9391,     0.93909,     0.93909,     0.93909,     0.93908,     0.93908,     0.93908,     0.93907,     0.93907,     0.93907,     0.93906,     0.93906,     0.93906,     0.93905,     0.93905,     0.93905,     0.93904,     0.93904,     0.93904,     0.93903,     0.93903,     0.93903,     0.93902,\n",
       "            0.93902,     0.93902,     0.93901,     0.93901,     0.93901,     0.93901,       0.939,       0.939,       0.939,     0.93899,     0.93899,     0.93899,     0.93898,     0.93898,     0.93898,     0.93897,     0.93897,     0.93897,     0.93896,     0.93896,     0.93896,     0.93895,     0.93895,\n",
       "            0.93895,     0.93894,     0.93894,     0.93894,     0.93893,     0.93927,      0.9397,     0.94014,     0.94057,     0.94101,     0.94144,     0.94188,     0.94231,     0.94275,     0.94319,     0.94362,     0.94406,     0.94449,     0.94493,     0.94536,      0.9458,     0.94617,     0.94626,\n",
       "            0.94636,     0.94645,     0.94654,     0.94664,     0.94673,     0.94682,     0.94692,     0.94701,      0.9471,      0.9472,     0.94729,     0.94739,     0.94748,     0.94757,     0.94767,     0.94776,     0.94785,     0.94795,     0.94804,     0.94813,     0.94823,     0.94832,     0.94841,\n",
       "            0.94851,      0.9486,     0.94869,     0.94879,     0.94888,     0.94897,     0.94907,     0.94916,     0.94925,     0.94935,     0.94944,     0.94953,     0.94963,     0.94972,     0.94981,     0.94991,        0.95,     0.95009,     0.95019,     0.95028,     0.95037,     0.95047,     0.95056,\n",
       "            0.95065,     0.95075,     0.95084,     0.95093,     0.95103,     0.95112,     0.95121,     0.95131,      0.9514,     0.95149,     0.95159,     0.95168,     0.95177,     0.95187,     0.95196,     0.95205,     0.95215,     0.95224,     0.95233,     0.95243,     0.95252,     0.95262,     0.95271,\n",
       "             0.9528,      0.9529,     0.95299,     0.95308,     0.95318,     0.95327,     0.95336,     0.95346,      0.9537,     0.95402,     0.95435,     0.95467,       0.955,     0.95532,     0.95565,     0.95597,      0.9563,     0.95662,     0.95695,     0.95727,      0.9576,     0.95792,     0.95825,\n",
       "            0.95857,      0.9589,     0.95922,     0.95955,     0.95987,      0.9602,     0.96052,     0.96085,     0.96196,     0.96337,     0.96478,     0.96619,      0.9676,      0.9685,     0.96849,     0.96848,     0.96848,     0.96847,     0.96846,     0.96845,     0.96844,     0.96843,     0.96843,\n",
       "            0.96842,     0.96841,      0.9684,     0.96839,     0.96839,     0.96838,     0.96837,     0.96836,     0.96835,     0.96834,     0.96834,     0.96833,     0.96832,     0.96831,      0.9683,     0.96829,     0.96829,     0.96828,     0.96827,     0.96826,     0.96916,       0.976,     0.97599,\n",
       "            0.97599,     0.97598,     0.97597,     0.97597,     0.97596,     0.97596,     0.97595,     0.97594,     0.97594,     0.97593,     0.97592,     0.97592,     0.97591,     0.97591,      0.9759,     0.97589,     0.97589,     0.97588,     0.97588,     0.97587,     0.97586,     0.97586,     0.97585,\n",
       "            0.97584,     0.97584,     0.97583,     0.97583,     0.97582,     0.97581,     0.97581,      0.9763,     0.97685,     0.97739,     0.97793,     0.97847,     0.97902,     0.97956,      0.9801,     0.98064,     0.98118,     0.98173,     0.98227,     0.98281,     0.98335,     0.98374,     0.98374,\n",
       "            0.98374,     0.98373,     0.98373,     0.98373,     0.98373,     0.98373,     0.98372,     0.98372,     0.98372,     0.98372,     0.98372,     0.98372,     0.98371,     0.98371,     0.98371,     0.98371,     0.98371,      0.9837,      0.9837,      0.9837,      0.9837,      0.9837,      0.9837,\n",
       "            0.98369,     0.98369,     0.98369,     0.98369,     0.98369,     0.98369,     0.98368,     0.98368,     0.98368,     0.98368,     0.98368,     0.98367,     0.98367,     0.98367,     0.98367,     0.98367,     0.98367,     0.98366,     0.98366,     0.98366,     0.98366,     0.98366,     0.98365,\n",
       "            0.98365,     0.98365,     0.98365,     0.98365,     0.98365,     0.98364,     0.98364,     0.98364,     0.98364,     0.98364,     0.98363,     0.98363,     0.98363,     0.98363,     0.98363,     0.98363,     0.98362,     0.98362,     0.98362,     0.98362,     0.98362,     0.98361,     0.98361,\n",
       "            0.98361,     0.98361,     0.98361,     0.98381,     0.98414,     0.98447,     0.98479,     0.98512,     0.98545,     0.98577,      0.9861,     0.98643,     0.98675,     0.98708,     0.98741,     0.98773,     0.98806,     0.98839,     0.98871,     0.98904,     0.98937,     0.98969,     0.99002,\n",
       "            0.99035,     0.99067,       0.991,     0.99133,     0.99165,     0.99172,     0.99171,     0.99169,     0.99168,     0.99166,     0.99165,     0.99163,     0.99162,      0.9916,     0.99175,     0.99205,     0.99236,     0.99267,     0.99298,     0.99328,     0.99359,      0.9939,     0.99421,\n",
       "            0.99451,     0.99482,     0.99513,     0.99544,     0.99574,     0.99605,     0.99636,     0.99667,     0.99698,     0.99728,     0.99759,      0.9979,     0.99821,     0.99851,     0.99882,     0.99913,     0.99944,     0.99974,           1,           1,           1,           1,           1,\n",
       "                  1,           1,           1,           1,           1,           1,           1,           1,           1,           1,           1,           1,           1,           1,           1,           1,           1,           1,           1,           1,           1,           1,           1,\n",
       "                  1,           1,           1,           1,           1,           1,           1,           1,           1,           1,           1,           1,           1,           1,           1,           1,           1,           1,           1,           1,           1,           1,           1,\n",
       "                  1,           1,           1,           1,           1,           1,           1,           1,           1,           1,           1,           1,           1,           1,           1,           1,           1,           1,           1,           1,           1,           1,           1,\n",
       "                  1,           1,           1,           1,           1,           1,           1,           1,           1,           1,           1,           1,           1,           1,           1,           1,           1,           1,           1,           1,           1,           1,           1,\n",
       "                  1,           1,           1,           1,           1,           1,           1,           1,           1,           1,           1,           1,           1,           1,           1,           1,           1,           1,           1,           1,           1,           1,           1,\n",
       "                  1,           1,           1,           1,           1,           1,           1,           1,           1,           1,           1,           1,           1,           1,           1,           1,           1,           1,           1,           1,           1,           1,           1,\n",
       "                  1,           1,           1,           1,           1,           1,           1,           1,           1,           1,           1]]), 'Confidence', 'Precision'], [array([          0,    0.001001,    0.002002,    0.003003,    0.004004,    0.005005,    0.006006,    0.007007,    0.008008,    0.009009,     0.01001,    0.011011,    0.012012,    0.013013,    0.014014,    0.015015,    0.016016,    0.017017,    0.018018,    0.019019,     0.02002,    0.021021,    0.022022,    0.023023,\n",
       "          0.024024,    0.025025,    0.026026,    0.027027,    0.028028,    0.029029,     0.03003,    0.031031,    0.032032,    0.033033,    0.034034,    0.035035,    0.036036,    0.037037,    0.038038,    0.039039,     0.04004,    0.041041,    0.042042,    0.043043,    0.044044,    0.045045,    0.046046,    0.047047,\n",
       "          0.048048,    0.049049,     0.05005,    0.051051,    0.052052,    0.053053,    0.054054,    0.055055,    0.056056,    0.057057,    0.058058,    0.059059,     0.06006,    0.061061,    0.062062,    0.063063,    0.064064,    0.065065,    0.066066,    0.067067,    0.068068,    0.069069,     0.07007,    0.071071,\n",
       "          0.072072,    0.073073,    0.074074,    0.075075,    0.076076,    0.077077,    0.078078,    0.079079,     0.08008,    0.081081,    0.082082,    0.083083,    0.084084,    0.085085,    0.086086,    0.087087,    0.088088,    0.089089,     0.09009,    0.091091,    0.092092,    0.093093,    0.094094,    0.095095,\n",
       "          0.096096,    0.097097,    0.098098,    0.099099,      0.1001,      0.1011,      0.1021,      0.1031,      0.1041,     0.10511,     0.10611,     0.10711,     0.10811,     0.10911,     0.11011,     0.11111,     0.11211,     0.11311,     0.11411,     0.11512,     0.11612,     0.11712,     0.11812,     0.11912,\n",
       "           0.12012,     0.12112,     0.12212,     0.12312,     0.12412,     0.12513,     0.12613,     0.12713,     0.12813,     0.12913,     0.13013,     0.13113,     0.13213,     0.13313,     0.13413,     0.13514,     0.13614,     0.13714,     0.13814,     0.13914,     0.14014,     0.14114,     0.14214,     0.14314,\n",
       "           0.14414,     0.14515,     0.14615,     0.14715,     0.14815,     0.14915,     0.15015,     0.15115,     0.15215,     0.15315,     0.15415,     0.15516,     0.15616,     0.15716,     0.15816,     0.15916,     0.16016,     0.16116,     0.16216,     0.16316,     0.16416,     0.16517,     0.16617,     0.16717,\n",
       "           0.16817,     0.16917,     0.17017,     0.17117,     0.17217,     0.17317,     0.17417,     0.17518,     0.17618,     0.17718,     0.17818,     0.17918,     0.18018,     0.18118,     0.18218,     0.18318,     0.18418,     0.18519,     0.18619,     0.18719,     0.18819,     0.18919,     0.19019,     0.19119,\n",
       "           0.19219,     0.19319,     0.19419,      0.1952,      0.1962,      0.1972,      0.1982,      0.1992,      0.2002,      0.2012,      0.2022,      0.2032,      0.2042,     0.20521,     0.20621,     0.20721,     0.20821,     0.20921,     0.21021,     0.21121,     0.21221,     0.21321,     0.21421,     0.21522,\n",
       "           0.21622,     0.21722,     0.21822,     0.21922,     0.22022,     0.22122,     0.22222,     0.22322,     0.22422,     0.22523,     0.22623,     0.22723,     0.22823,     0.22923,     0.23023,     0.23123,     0.23223,     0.23323,     0.23423,     0.23524,     0.23624,     0.23724,     0.23824,     0.23924,\n",
       "           0.24024,     0.24124,     0.24224,     0.24324,     0.24424,     0.24525,     0.24625,     0.24725,     0.24825,     0.24925,     0.25025,     0.25125,     0.25225,     0.25325,     0.25425,     0.25526,     0.25626,     0.25726,     0.25826,     0.25926,     0.26026,     0.26126,     0.26226,     0.26326,\n",
       "           0.26426,     0.26527,     0.26627,     0.26727,     0.26827,     0.26927,     0.27027,     0.27127,     0.27227,     0.27327,     0.27427,     0.27528,     0.27628,     0.27728,     0.27828,     0.27928,     0.28028,     0.28128,     0.28228,     0.28328,     0.28428,     0.28529,     0.28629,     0.28729,\n",
       "           0.28829,     0.28929,     0.29029,     0.29129,     0.29229,     0.29329,     0.29429,      0.2953,      0.2963,      0.2973,      0.2983,      0.2993,      0.3003,      0.3013,      0.3023,      0.3033,      0.3043,     0.30531,     0.30631,     0.30731,     0.30831,     0.30931,     0.31031,     0.31131,\n",
       "           0.31231,     0.31331,     0.31431,     0.31532,     0.31632,     0.31732,     0.31832,     0.31932,     0.32032,     0.32132,     0.32232,     0.32332,     0.32432,     0.32533,     0.32633,     0.32733,     0.32833,     0.32933,     0.33033,     0.33133,     0.33233,     0.33333,     0.33433,     0.33534,\n",
       "           0.33634,     0.33734,     0.33834,     0.33934,     0.34034,     0.34134,     0.34234,     0.34334,     0.34434,     0.34535,     0.34635,     0.34735,     0.34835,     0.34935,     0.35035,     0.35135,     0.35235,     0.35335,     0.35435,     0.35536,     0.35636,     0.35736,     0.35836,     0.35936,\n",
       "           0.36036,     0.36136,     0.36236,     0.36336,     0.36436,     0.36537,     0.36637,     0.36737,     0.36837,     0.36937,     0.37037,     0.37137,     0.37237,     0.37337,     0.37437,     0.37538,     0.37638,     0.37738,     0.37838,     0.37938,     0.38038,     0.38138,     0.38238,     0.38338,\n",
       "           0.38438,     0.38539,     0.38639,     0.38739,     0.38839,     0.38939,     0.39039,     0.39139,     0.39239,     0.39339,     0.39439,      0.3954,      0.3964,      0.3974,      0.3984,      0.3994,      0.4004,      0.4014,      0.4024,      0.4034,      0.4044,     0.40541,     0.40641,     0.40741,\n",
       "           0.40841,     0.40941,     0.41041,     0.41141,     0.41241,     0.41341,     0.41441,     0.41542,     0.41642,     0.41742,     0.41842,     0.41942,     0.42042,     0.42142,     0.42242,     0.42342,     0.42442,     0.42543,     0.42643,     0.42743,     0.42843,     0.42943,     0.43043,     0.43143,\n",
       "           0.43243,     0.43343,     0.43443,     0.43544,     0.43644,     0.43744,     0.43844,     0.43944,     0.44044,     0.44144,     0.44244,     0.44344,     0.44444,     0.44545,     0.44645,     0.44745,     0.44845,     0.44945,     0.45045,     0.45145,     0.45245,     0.45345,     0.45445,     0.45546,\n",
       "           0.45646,     0.45746,     0.45846,     0.45946,     0.46046,     0.46146,     0.46246,     0.46346,     0.46446,     0.46547,     0.46647,     0.46747,     0.46847,     0.46947,     0.47047,     0.47147,     0.47247,     0.47347,     0.47447,     0.47548,     0.47648,     0.47748,     0.47848,     0.47948,\n",
       "           0.48048,     0.48148,     0.48248,     0.48348,     0.48448,     0.48549,     0.48649,     0.48749,     0.48849,     0.48949,     0.49049,     0.49149,     0.49249,     0.49349,     0.49449,      0.4955,      0.4965,      0.4975,      0.4985,      0.4995,      0.5005,      0.5015,      0.5025,      0.5035,\n",
       "            0.5045,     0.50551,     0.50651,     0.50751,     0.50851,     0.50951,     0.51051,     0.51151,     0.51251,     0.51351,     0.51451,     0.51552,     0.51652,     0.51752,     0.51852,     0.51952,     0.52052,     0.52152,     0.52252,     0.52352,     0.52452,     0.52553,     0.52653,     0.52753,\n",
       "           0.52853,     0.52953,     0.53053,     0.53153,     0.53253,     0.53353,     0.53453,     0.53554,     0.53654,     0.53754,     0.53854,     0.53954,     0.54054,     0.54154,     0.54254,     0.54354,     0.54454,     0.54555,     0.54655,     0.54755,     0.54855,     0.54955,     0.55055,     0.55155,\n",
       "           0.55255,     0.55355,     0.55455,     0.55556,     0.55656,     0.55756,     0.55856,     0.55956,     0.56056,     0.56156,     0.56256,     0.56356,     0.56456,     0.56557,     0.56657,     0.56757,     0.56857,     0.56957,     0.57057,     0.57157,     0.57257,     0.57357,     0.57457,     0.57558,\n",
       "           0.57658,     0.57758,     0.57858,     0.57958,     0.58058,     0.58158,     0.58258,     0.58358,     0.58458,     0.58559,     0.58659,     0.58759,     0.58859,     0.58959,     0.59059,     0.59159,     0.59259,     0.59359,     0.59459,      0.5956,      0.5966,      0.5976,      0.5986,      0.5996,\n",
       "            0.6006,      0.6016,      0.6026,      0.6036,      0.6046,     0.60561,     0.60661,     0.60761,     0.60861,     0.60961,     0.61061,     0.61161,     0.61261,     0.61361,     0.61461,     0.61562,     0.61662,     0.61762,     0.61862,     0.61962,     0.62062,     0.62162,     0.62262,     0.62362,\n",
       "           0.62462,     0.62563,     0.62663,     0.62763,     0.62863,     0.62963,     0.63063,     0.63163,     0.63263,     0.63363,     0.63463,     0.63564,     0.63664,     0.63764,     0.63864,     0.63964,     0.64064,     0.64164,     0.64264,     0.64364,     0.64464,     0.64565,     0.64665,     0.64765,\n",
       "           0.64865,     0.64965,     0.65065,     0.65165,     0.65265,     0.65365,     0.65465,     0.65566,     0.65666,     0.65766,     0.65866,     0.65966,     0.66066,     0.66166,     0.66266,     0.66366,     0.66466,     0.66567,     0.66667,     0.66767,     0.66867,     0.66967,     0.67067,     0.67167,\n",
       "           0.67267,     0.67367,     0.67467,     0.67568,     0.67668,     0.67768,     0.67868,     0.67968,     0.68068,     0.68168,     0.68268,     0.68368,     0.68468,     0.68569,     0.68669,     0.68769,     0.68869,     0.68969,     0.69069,     0.69169,     0.69269,     0.69369,     0.69469,      0.6957,\n",
       "            0.6967,      0.6977,      0.6987,      0.6997,      0.7007,      0.7017,      0.7027,      0.7037,      0.7047,     0.70571,     0.70671,     0.70771,     0.70871,     0.70971,     0.71071,     0.71171,     0.71271,     0.71371,     0.71471,     0.71572,     0.71672,     0.71772,     0.71872,     0.71972,\n",
       "           0.72072,     0.72172,     0.72272,     0.72372,     0.72472,     0.72573,     0.72673,     0.72773,     0.72873,     0.72973,     0.73073,     0.73173,     0.73273,     0.73373,     0.73473,     0.73574,     0.73674,     0.73774,     0.73874,     0.73974,     0.74074,     0.74174,     0.74274,     0.74374,\n",
       "           0.74474,     0.74575,     0.74675,     0.74775,     0.74875,     0.74975,     0.75075,     0.75175,     0.75275,     0.75375,     0.75475,     0.75576,     0.75676,     0.75776,     0.75876,     0.75976,     0.76076,     0.76176,     0.76276,     0.76376,     0.76476,     0.76577,     0.76677,     0.76777,\n",
       "           0.76877,     0.76977,     0.77077,     0.77177,     0.77277,     0.77377,     0.77477,     0.77578,     0.77678,     0.77778,     0.77878,     0.77978,     0.78078,     0.78178,     0.78278,     0.78378,     0.78478,     0.78579,     0.78679,     0.78779,     0.78879,     0.78979,     0.79079,     0.79179,\n",
       "           0.79279,     0.79379,     0.79479,      0.7958,      0.7968,      0.7978,      0.7988,      0.7998,      0.8008,      0.8018,      0.8028,      0.8038,      0.8048,     0.80581,     0.80681,     0.80781,     0.80881,     0.80981,     0.81081,     0.81181,     0.81281,     0.81381,     0.81481,     0.81582,\n",
       "           0.81682,     0.81782,     0.81882,     0.81982,     0.82082,     0.82182,     0.82282,     0.82382,     0.82482,     0.82583,     0.82683,     0.82783,     0.82883,     0.82983,     0.83083,     0.83183,     0.83283,     0.83383,     0.83483,     0.83584,     0.83684,     0.83784,     0.83884,     0.83984,\n",
       "           0.84084,     0.84184,     0.84284,     0.84384,     0.84484,     0.84585,     0.84685,     0.84785,     0.84885,     0.84985,     0.85085,     0.85185,     0.85285,     0.85385,     0.85485,     0.85586,     0.85686,     0.85786,     0.85886,     0.85986,     0.86086,     0.86186,     0.86286,     0.86386,\n",
       "           0.86486,     0.86587,     0.86687,     0.86787,     0.86887,     0.86987,     0.87087,     0.87187,     0.87287,     0.87387,     0.87487,     0.87588,     0.87688,     0.87788,     0.87888,     0.87988,     0.88088,     0.88188,     0.88288,     0.88388,     0.88488,     0.88589,     0.88689,     0.88789,\n",
       "           0.88889,     0.88989,     0.89089,     0.89189,     0.89289,     0.89389,     0.89489,      0.8959,      0.8969,      0.8979,      0.8989,      0.8999,      0.9009,      0.9019,      0.9029,      0.9039,      0.9049,     0.90591,     0.90691,     0.90791,     0.90891,     0.90991,     0.91091,     0.91191,\n",
       "           0.91291,     0.91391,     0.91491,     0.91592,     0.91692,     0.91792,     0.91892,     0.91992,     0.92092,     0.92192,     0.92292,     0.92392,     0.92492,     0.92593,     0.92693,     0.92793,     0.92893,     0.92993,     0.93093,     0.93193,     0.93293,     0.93393,     0.93493,     0.93594,\n",
       "           0.93694,     0.93794,     0.93894,     0.93994,     0.94094,     0.94194,     0.94294,     0.94394,     0.94494,     0.94595,     0.94695,     0.94795,     0.94895,     0.94995,     0.95095,     0.95195,     0.95295,     0.95395,     0.95495,     0.95596,     0.95696,     0.95796,     0.95896,     0.95996,\n",
       "           0.96096,     0.96196,     0.96296,     0.96396,     0.96496,     0.96597,     0.96697,     0.96797,     0.96897,     0.96997,     0.97097,     0.97197,     0.97297,     0.97397,     0.97497,     0.97598,     0.97698,     0.97798,     0.97898,     0.97998,     0.98098,     0.98198,     0.98298,     0.98398,\n",
       "           0.98498,     0.98599,     0.98699,     0.98799,     0.98899,     0.98999,     0.99099,     0.99199,     0.99299,     0.99399,     0.99499,       0.996,       0.997,       0.998,       0.999,           1]), array([[    0.99254,     0.99254,     0.99254,     0.97761,     0.96269,     0.96269,     0.96269,     0.96269,      0.9608,     0.95522,     0.95522,     0.95522,     0.95522,     0.95522,     0.95522,     0.95522,     0.95522,     0.95522,     0.95522,     0.95522,     0.95522,     0.95522,     0.95522,\n",
       "            0.95522,     0.95522,     0.95522,     0.94776,     0.94776,     0.94776,     0.94776,     0.94776,     0.94776,     0.94776,     0.94776,     0.94776,     0.94776,     0.94776,     0.94776,     0.94776,     0.94776,     0.94776,     0.94776,     0.94776,     0.94776,     0.94776,     0.94776,\n",
       "            0.94776,     0.94776,     0.94776,     0.94776,     0.94776,     0.94776,     0.94776,     0.94776,     0.94776,     0.94776,     0.94776,     0.94776,     0.94776,     0.94776,     0.94776,     0.94776,     0.94776,     0.94776,     0.94776,     0.94776,     0.94776,     0.94776,     0.94776,\n",
       "            0.94776,     0.94776,     0.94776,     0.94776,     0.94776,     0.94776,     0.94776,     0.94776,     0.94776,     0.94776,     0.94776,     0.94776,     0.94776,     0.94776,     0.94776,     0.94776,     0.94776,     0.94776,     0.94776,     0.94776,     0.94776,     0.94776,     0.94776,\n",
       "            0.94776,     0.94776,     0.94776,     0.94776,     0.94776,     0.94776,     0.94776,     0.94776,     0.94776,     0.94776,     0.94776,     0.94776,     0.94776,     0.94776,     0.94776,     0.94776,     0.94776,     0.94776,     0.94776,     0.94776,     0.94776,     0.94776,     0.94776,\n",
       "            0.94776,     0.94776,     0.94776,     0.94776,     0.94776,     0.94776,     0.94776,     0.94776,     0.94776,     0.94776,     0.94776,     0.94776,     0.94776,     0.94776,     0.94776,     0.94776,     0.94776,     0.94776,     0.94776,     0.94776,     0.94776,     0.94776,     0.94776,\n",
       "            0.94776,     0.94776,     0.94776,     0.94776,     0.94776,     0.94776,     0.94776,     0.94776,     0.94776,     0.94776,     0.94776,     0.94776,     0.94776,     0.94748,     0.94705,     0.94662,     0.94618,     0.94575,     0.94531,     0.94488,     0.94445,     0.94401,     0.94358,\n",
       "            0.94314,     0.94271,     0.94228,     0.94184,     0.94141,     0.94097,     0.94054,      0.9403,      0.9403,      0.9403,      0.9403,      0.9403,      0.9403,      0.9403,      0.9403,      0.9403,      0.9403,      0.9403,      0.9403,      0.9403,      0.9403,      0.9403,      0.9403,\n",
       "             0.9403,      0.9403,      0.9403,      0.9403,      0.9403,      0.9403,      0.9403,      0.9403,      0.9403,      0.9403,      0.9403,      0.9403,      0.9403,      0.9403,      0.9403,      0.9403,      0.9403,      0.9403,      0.9403,      0.9403,      0.9403,      0.9403,      0.9403,\n",
       "            0.93991,     0.93948,     0.93905,     0.93863,      0.9382,     0.93777,     0.93734,     0.93691,     0.93649,     0.93606,     0.93563,      0.9352,     0.93477,     0.93435,     0.93392,     0.93349,     0.93306,     0.93133,      0.9281,     0.92537,     0.92537,     0.92537,     0.92537,\n",
       "            0.92537,     0.92537,     0.92537,     0.92537,     0.92537,     0.92537,     0.92537,     0.92537,     0.92537,     0.92537,     0.92537,     0.92537,     0.92537,     0.92537,     0.92537,     0.92537,     0.92537,     0.92537,     0.92537,     0.92537,     0.92537,     0.92537,     0.92537,\n",
       "            0.92537,     0.92537,     0.92537,     0.92537,     0.92537,     0.92537,     0.92537,     0.92537,     0.92537,     0.92537,     0.92537,     0.92537,     0.92537,     0.92537,     0.92537,     0.92537,     0.92537,     0.92537,     0.92537,     0.92537,     0.92537,     0.92537,     0.92537,\n",
       "            0.92537,     0.92537,     0.92537,     0.92537,     0.92537,     0.92537,     0.92537,     0.92537,     0.92537,     0.92537,     0.92537,     0.92537,     0.92537,     0.92537,     0.92537,     0.92537,     0.92537,     0.92537,     0.92537,     0.92537,     0.92537,     0.92537,     0.92537,\n",
       "            0.92537,     0.92537,     0.92537,     0.92537,     0.92537,     0.92537,     0.92537,     0.92537,     0.92537,     0.92537,     0.92537,     0.92537,     0.92537,     0.92537,     0.92537,     0.92537,     0.92537,     0.92537,     0.92537,     0.92537,     0.92537,     0.92537,     0.92537,\n",
       "            0.92537,     0.92537,     0.92537,     0.92537,     0.92537,     0.92537,     0.92537,     0.92537,     0.92537,     0.92537,     0.92537,     0.92537,     0.92537,     0.92537,     0.92537,     0.92537,     0.92537,     0.92537,     0.92537,     0.92537,     0.92537,     0.92537,     0.92537,\n",
       "            0.92537,     0.92537,     0.92537,     0.92537,     0.92537,     0.92537,     0.92537,     0.92537,     0.92537,     0.92537,     0.92537,     0.92537,     0.92537,     0.92537,     0.92537,     0.92537,     0.92537,     0.92537,     0.92537,     0.92537,     0.92537,     0.92537,     0.92537,\n",
       "            0.92537,     0.92537,     0.92537,     0.92536,      0.9253,     0.92525,      0.9252,     0.92514,     0.92509,     0.92504,     0.92498,     0.92493,     0.92488,     0.92482,     0.92477,     0.92472,     0.92466,     0.92461,     0.92456,      0.9245,     0.92445,      0.9244,     0.92434,\n",
       "            0.92429,     0.92423,     0.92418,     0.92413,     0.92407,     0.92402,     0.92397,     0.92391,     0.92386,     0.92381,     0.92375,      0.9237,     0.92365,     0.92359,     0.92354,     0.92349,     0.92343,     0.92338,     0.92333,     0.92327,     0.92322,     0.92317,     0.92311,\n",
       "            0.92306,       0.923,     0.92295,      0.9229,     0.92284,     0.92279,     0.92274,     0.92268,     0.92263,     0.92258,     0.92252,     0.92247,     0.92242,     0.92236,     0.92231,     0.92226,      0.9222,     0.92215,      0.9221,     0.92204,     0.92199,     0.92193,     0.92188,\n",
       "            0.92183,     0.92177,     0.92172,     0.92167,     0.92161,     0.92156,     0.92151,     0.92145,      0.9214,     0.92135,     0.92129,     0.92124,     0.92119,     0.92113,     0.92108,     0.92103,     0.92097,     0.92092,     0.92086,     0.92081,     0.92076,      0.9207,     0.92065,\n",
       "             0.9206,     0.92054,     0.92049,     0.92044,     0.92038,     0.92033,     0.92028,     0.92022,     0.92017,     0.92012,     0.92006,     0.92001,     0.91996,      0.9199,     0.91985,      0.9198,     0.91974,     0.91969,     0.91963,     0.91958,     0.91953,     0.91947,     0.91942,\n",
       "            0.91937,     0.91931,     0.91926,     0.91921,     0.91915,      0.9191,     0.91905,     0.91899,     0.91894,     0.91889,     0.91883,     0.91878,     0.91873,     0.91867,     0.91862,     0.91856,     0.91851,     0.91846,      0.9184,     0.91835,      0.9183,     0.91824,     0.91819,\n",
       "            0.91814,     0.91808,     0.91803,     0.91798,     0.91792,     0.91791,     0.91791,     0.91791,     0.91791,     0.91791,     0.91791,     0.91791,     0.91791,     0.91791,     0.91791,     0.91791,     0.91791,     0.91791,     0.91791,     0.91791,     0.91791,     0.91791,     0.91791,\n",
       "            0.91791,     0.91791,     0.91791,     0.91791,     0.91791,     0.91791,     0.91791,     0.91791,     0.91791,     0.91791,     0.91791,     0.91791,     0.91791,     0.91791,     0.91791,     0.91791,     0.91791,     0.91791,     0.91791,     0.91791,     0.91791,     0.91791,     0.91791,\n",
       "            0.91791,     0.91791,     0.91791,     0.91791,     0.91791,     0.91791,     0.91791,     0.91791,     0.91791,     0.91791,     0.91791,     0.91791,     0.91791,     0.91791,     0.91791,     0.91791,     0.91791,     0.91791,     0.91791,     0.91791,     0.91791,     0.91791,     0.91791,\n",
       "            0.91791,     0.91791,     0.91791,     0.91791,     0.91791,     0.91791,     0.91791,     0.91791,     0.91791,     0.91791,     0.91791,     0.91791,     0.91791,     0.91791,     0.91791,     0.91791,     0.91791,     0.91791,     0.91791,     0.91791,     0.91791,     0.91791,     0.91791,\n",
       "            0.91791,     0.91791,     0.91791,     0.91791,     0.91791,     0.91791,     0.91791,     0.91791,     0.91791,     0.91791,     0.91791,     0.91791,     0.91791,     0.91791,     0.91791,     0.91791,     0.91791,     0.91791,     0.91791,     0.91791,     0.91791,     0.91791,     0.91791,\n",
       "            0.91791,     0.91791,     0.91791,     0.91791,     0.91791,     0.91791,     0.91791,     0.91791,     0.91791,     0.91791,     0.91791,     0.91791,     0.91791,     0.91782,     0.91758,     0.91733,     0.91708,     0.91684,     0.91659,     0.91634,      0.9161,     0.91585,      0.9156,\n",
       "            0.91535,     0.91511,     0.91486,     0.91461,     0.91437,     0.91412,     0.91387,     0.91363,     0.91338,     0.91313,     0.91289,     0.91264,     0.91239,     0.91215,      0.9119,     0.91165,     0.91141,     0.91116,     0.91091,     0.91067,     0.91045,     0.91041,     0.91018,\n",
       "            0.90994,      0.9097,     0.90946,     0.90922,     0.90898,     0.90874,      0.9085,     0.90826,     0.90802,     0.90779,     0.90755,     0.90731,     0.90707,     0.90683,     0.90659,     0.90635,     0.90611,     0.90587,     0.90563,     0.90539,     0.90516,     0.90492,     0.90468,\n",
       "            0.90444,      0.9042,     0.90396,     0.90372,     0.90348,     0.90324,       0.903,     0.90299,     0.90299,     0.90299,     0.90299,     0.90299,     0.90299,     0.90299,     0.90299,     0.90299,     0.90299,     0.90299,     0.90299,     0.90299,     0.90299,     0.90296,     0.90285,\n",
       "            0.90275,     0.90265,     0.90255,     0.90245,     0.90235,     0.90225,     0.90215,     0.90204,     0.90194,     0.90184,     0.90174,     0.90164,     0.90154,     0.90144,     0.90134,     0.90123,     0.90113,     0.90103,     0.90093,     0.90083,     0.90073,     0.90063,     0.90052,\n",
       "            0.90042,     0.90032,     0.90022,     0.90012,     0.90002,     0.89992,     0.89982,     0.89971,     0.89961,     0.89951,     0.89941,     0.89931,     0.89921,     0.89911,       0.899,      0.8989,      0.8988,      0.8987,      0.8986,      0.8985,      0.8984,      0.8983,     0.89819,\n",
       "            0.89809,     0.89799,     0.89789,     0.89779,     0.89769,     0.89759,     0.89749,     0.89738,     0.89728,     0.89718,     0.89708,     0.89698,     0.89688,     0.89678,     0.89667,     0.89657,     0.89647,     0.89637,     0.89627,     0.89617,     0.89607,     0.89597,     0.89586,\n",
       "            0.89576,     0.89566,     0.89556,     0.89552,     0.89552,     0.89552,     0.89552,     0.89552,     0.89552,     0.89552,     0.89552,     0.89552,     0.89552,     0.89552,     0.89552,     0.89552,     0.89552,     0.89552,     0.89552,     0.89552,     0.89552,     0.89552,     0.89552,\n",
       "            0.89552,     0.89552,     0.89552,     0.89552,     0.89552,     0.89424,     0.89255,     0.89085,     0.88915,     0.88751,     0.88598,     0.88445,     0.88292,     0.88139,      0.8806,      0.8806,      0.8806,      0.8806,      0.8806,      0.8806,      0.8806,      0.8806,      0.8806,\n",
       "             0.8806,      0.8806,      0.8806,      0.8806,      0.8806,      0.8806,      0.8806,      0.8806,      0.8806,      0.8806,      0.8806,      0.8806,      0.8806,      0.8806,      0.8806,      0.8806,      0.8806,      0.8806,     0.88054,     0.88023,     0.87991,     0.87959,     0.87927,\n",
       "            0.87895,     0.87863,     0.87831,     0.87799,     0.87768,     0.87736,     0.87704,     0.87672,      0.8764,     0.87608,     0.87576,     0.87544,     0.87513,     0.87481,     0.87449,     0.87417,     0.87385,     0.87353,     0.87321,     0.87169,     0.86978,     0.86787,     0.86596,\n",
       "            0.86381,     0.86163,     0.85944,     0.85487,      0.8484,      0.8433,     0.84159,     0.83989,     0.83819,     0.83649,     0.83273,     0.82819,     0.82701,     0.82584,     0.82466,     0.82348,     0.82231,     0.82113,     0.81783,       0.814,     0.81083,     0.80777,     0.80527,\n",
       "            0.80357,     0.80187,     0.80017,     0.79071,     0.78086,     0.77596,     0.77378,     0.77159,     0.76941,     0.76615,     0.76232,     0.74834,     0.72765,     0.69946,     0.69181,     0.68609,     0.68456,     0.68303,      0.6815,     0.67997,     0.67777,     0.67471,     0.67165,\n",
       "            0.63421,     0.62911,     0.59592,     0.58063,      0.5723,     0.56848,     0.55712,     0.54877,     0.54144,     0.51369,     0.50859,     0.50151,     0.49093,     0.48583,     0.47204,     0.45075,     0.44144,     0.43676,     0.43293,     0.42538,      0.4101,     0.39889,     0.39124,\n",
       "            0.38657,     0.38402,     0.38147,     0.36811,     0.35647,     0.35392,     0.35137,       0.335,     0.33194,     0.32888,     0.32202,     0.31829,     0.31523,     0.31185,     0.30803,     0.30496,     0.30277,     0.30059,     0.29778,     0.29047,     0.28945,     0.28843,     0.28741,\n",
       "            0.28639,     0.28537,     0.28435,     0.28335,     0.28239,     0.28144,     0.28048,     0.27952,     0.27857,     0.27761,     0.27666,     0.27444,     0.27062,      0.2612,     0.25814,     0.25508,    0.095902,           0,           0,           0,           0,           0,           0,\n",
       "                  0,           0,           0,           0,           0,           0,           0,           0,           0,           0,           0]]), 'Confidence', 'Recall']]\n",
       "fitness: 1.853814351311495\n",
       "keys: ['metrics/precision(B)', 'metrics/recall(B)', 'metrics/mAP50(B)', 'metrics/mAP50-95(B)', 'metrics/precision(M)', 'metrics/recall(M)', 'metrics/mAP50(M)', 'metrics/mAP50-95(M)']\n",
       "maps: array([     1.8432])\n",
       "names: {0: 'Unproductive'}\n",
       "plot: True\n",
       "results_dict: {'metrics/precision(B)': 0.9758999473263587, 'metrics/recall(B)': 0.9065900088521357, 'metrics/mAP50(B)': 0.9746434749957084, 'metrics/mAP50-95(B)': 0.9338982448476205, 'metrics/precision(M)': 0.9758999473263587, 'metrics/recall(M)': 0.9065900088521357, 'metrics/mAP50(M)': 0.9746434749957084, 'metrics/mAP50-95(M)': 0.9093080399438834, 'fitness': 1.853814351311495}\n",
       "save_dir: PosixPath('runs/segment/train4')\n",
       "seg: ultralytics.utils.metrics.Metric object\n",
       "speed: {'preprocess': 0.09191757024720658, 'inference': 1.1759292247683502, 'loss': 0.00013362529665924782, 'postprocess': 0.7896839186202649}\n",
       "task: 'segment'"
      ]
     },
     "execution_count": 10,
     "metadata": {},
     "output_type": "execute_result"
    }
   ],
   "source": [
    "from ultralytics import YOLO\n",
    "\n",
    "# Initialize model on specified GPUs\n",
    "model = YOLO('yolo11s-seg.pt')  # Load the YOLO model\n",
    "\n",
    "# Set up training on multiple GPUs and adjust batch size\n",
    "model.train(data='data.yml', \n",
    "            epochs=125, \n",
    "            imgsz=640, \n",
    "            batch=52,      \n",
    "            device=[0],  # Use all GPUs\n",
    "            lr0=0.001, \n",
    "            verbose=True)"
   ]
  },
  {
   "cell_type": "code",
   "execution_count": 15,
   "metadata": {},
   "outputs": [
    {
     "name": "stdout",
     "output_type": "stream",
     "text": [
      "Model saved at /home/ubuntu/model.pt\n"
     ]
    }
   ],
   "source": [
    "model_path = \"/home/ubuntu/model.pt\"\n",
    "model.save(model_path)\n",
    "print(f\"Model saved at {model_path}\")"
   ]
  }
 ],
 "metadata": {
  "kernelspec": {
   "display_name": "Python 3",
   "language": "python",
   "name": "python3"
  },
  "language_info": {
   "codemirror_mode": {
    "name": "ipython",
    "version": 3
   },
   "file_extension": ".py",
   "mimetype": "text/x-python",
   "name": "python",
   "nbconvert_exporter": "python",
   "pygments_lexer": "ipython3",
   "version": "3.11.5"
  }
 },
 "nbformat": 4,
 "nbformat_minor": 2
}
